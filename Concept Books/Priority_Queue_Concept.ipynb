{
 "cells": [
  {
   "cell_type": "markdown",
   "metadata": {},
   "source": [
    "# [Priority Queue](https://en.wikipedia.org/wiki/Priority_queue#:~:text=In%20computer%20science%2C%20a%20priority,an%20element%20with%20low%20priority.)\n",
    "---\n",
    "\n",
    "### What is Priority Queue?\n",
    "Priority Queues are abstract data structures where each data/value in the queue has a certain priority. It is similar to regular queue or stack data structure in which each element additionally has a \"priority\" associated with it. In a priority queue, an element with high priority is served before an element with low priority.\n",
    "\n",
    "\n",
    "### Why Priority Queue?\n",
    "Priority Queue is an extension of the queue with the following properties.\n",
    "1. An element with high priority is dequeued before an element with low priority.\n",
    "2. If two elements have the same priority, they are served according to their order in the queue.\n",
    "\n",
    "### Idea?\n",
    "In Priority Queue, element based on highest priority is dequeued. While,in Queue, the oldest element is dequeued first.When elements are popped out of a priority queue then result obtained in either sorted in Increasing order or in Decreasing Order. \n",
    "\n",
    "#### Example\n",
    "In this example you can clearly see the working of the priority queue -\n",
    "<img src=\"https://drive.google.com/uc?id=1aAx3GooQ4Bpo8o72rZXVSs6DkhxubA6-\" width=400 height=400/>\n",
    "\n",
    "The element 9 has the highest priority and hence it is removed first.\n",
    "\n",
    "### Key Differences between a Queue and a Priority Queue\n",
    "\n",
    "1. In Queue, the oldest element is dequeued first. While, in Priority Queue, element based on highest priority is dequeued.\n",
    "\n",
    "\n",
    "2. When elements are popped out of a priority queue then result obtained in either sorted in Increasing order or in Decreasing Order. While, when elements are popped from a simple queue, a FIFO order of data is obtained in the result.\n",
    "\n",
    "---\n"
   ]
  },
  {
   "cell_type": "code",
   "execution_count": 1,
   "metadata": {},
   "outputs": [
    {
     "data": {
      "text/html": [
       "\n",
       "        <iframe\n",
       "            width=\"814\"\n",
       "            height=\"509\"\n",
       "            src=\"https://www.youtube.com/embed/R-wd97H2qMg\"\n",
       "            frameborder=\"0\"\n",
       "            allowfullscreen\n",
       "        ></iframe>\n",
       "        "
      ],
      "text/plain": [
       "<IPython.lib.display.IFrame at 0x201f8b22b08>"
      ]
     },
     "execution_count": 1,
     "metadata": {},
     "output_type": "execute_result"
    }
   ],
   "source": [
    "## Run this cell (shift+enter) to see the video\n",
    "\n",
    "from IPython.display import IFrame\n",
    "IFrame(\"https://www.youtube.com/embed/R-wd97H2qMg\", width=\"814\", height=\"509\")"
   ]
  },
  {
   "cell_type": "markdown",
   "metadata": {},
   "source": [
    "### Basic Operations of Priority Queue\n",
    "1. **Enqueue**\n",
    "2. **Dequeue**\n",
    "\n",
    "## 1. Enqueue Operation\n",
    "Enqueue is the process of adding elements in the queue. This can be done using append() or insert() methods of the list."
   ]
  },
  {
   "cell_type": "code",
   "execution_count": 29,
   "metadata": {},
   "outputs": [
    {
     "name": "stdout",
     "output_type": "stream",
     "text": [
      "12 1 14 7\n"
     ]
    }
   ],
   "source": [
    "# A simple implementation of Priority Queue \n",
    "# using Queue. \n",
    "# create the priority queue class\n",
    "class PriorityQueue(object): \n",
    "    def __init__(self): \n",
    "        self.queue = [] \n",
    "  \n",
    "    def __str__(self): \n",
    "        return ' '.join([str(i) for i in self.queue]) \n",
    "  \n",
    "    # for inserting an element in the queue (enqueue)\n",
    "    def enqueue(self, data): \n",
    "        self.queue.append(data) \n",
    "  \n",
    "   \n",
    "if __name__ == '__main__': \n",
    "    myQueue = PriorityQueue() \n",
    "    myQueue.enqueue(12) \n",
    "    myQueue.enqueue(1) \n",
    "    myQueue.enqueue(14) \n",
    "    myQueue.enqueue(7) \n",
    "    print(myQueue)             \n",
    "      "
   ]
  },
  {
   "cell_type": "markdown",
   "metadata": {},
   "source": [
    "**You can perform enqueue operation using the append() and insert() methods of list.**\n",
    "In the above example we can see that the elements are added in the queue using list append() method."
   ]
  },
  {
   "cell_type": "markdown",
   "metadata": {},
   "source": [
    "# 2. Dequeue Operations\n",
    "In Priority Queue, dequeue is the process of removing an element with highest priority before removing an element with low priority.\n"
   ]
  },
  {
   "cell_type": "code",
   "execution_count": 31,
   "metadata": {},
   "outputs": [],
   "source": [
    "# A simple implementation of Priority Queue \n",
    "# using Queue. \n",
    "class PriorityQueue(object): \n",
    "    def __init__(self): \n",
    "        self.queue = [] \n",
    "  \n",
    "    def __str__(self): \n",
    "        return ' '.join([str(i) for i in self.queue]) \n",
    "  \n",
    "    # for checking if the queue is empty \n",
    "    def isEmpty(self): \n",
    "        return len(self.queue) == 0\n",
    "  \n",
    "    # for inserting an element in the queue \n",
    "    def enqueue(self, data): \n",
    "        self.queue.append(data) \n",
    "  \n",
    "    # for popping an element based on Priority \n",
    "    def delete(self): \n",
    "        max = 0\n",
    "        \n",
    "        for i in range(len(self.queue)): \n",
    "            if self.queue[i] > self.queue[max]: \n",
    "                max = i \n",
    "        item = self.queue[max] \n",
    "        del self.queue[max] \n",
    "        return item \n",
    "          "
   ]
  },
  {
   "cell_type": "markdown",
   "metadata": {},
   "source": [
    "---\n",
    "**Remember:** An element with high priority is dequeued before an element with low priority.\n",
    "\n",
    "### Algorithm\n",
    "\n",
    "**In delete() method**\n",
    "\n",
    "  - At the beginning of each iteration, max holds the index of the biggest item (highest priority) we have seen so far.\n",
    "  - Each time through the loop, the program compares the i-eth item to the max. If the new item is bigger, the value of             max if set to i.\n",
    "  - When the for statement completes, max is the index of the biggest item. This item is removed from the list                     and returned.\n",
    "\n",
    "Let’s test the implementation:"
   ]
  },
  {
   "cell_type": "code",
   "execution_count": 32,
   "metadata": {},
   "outputs": [
    {
     "name": "stdout",
     "output_type": "stream",
     "text": [
      "12 1 14 7\n",
      "14\n",
      "12\n",
      "7\n",
      "1\n"
     ]
    }
   ],
   "source": [
    "myQueue = PriorityQueue() \n",
    "myQueue.enqueue(12) \n",
    "myQueue.enqueue(1) \n",
    "myQueue.enqueue(14) \n",
    "myQueue.enqueue(7) \n",
    "print(myQueue)             \n",
    "while not myQueue.isEmpty(): \n",
    "    print(myQueue.delete())\n",
    "    "
   ]
  },
  {
   "cell_type": "markdown",
   "metadata": {},
   "source": [
    "### **Let's try to solve a problem**"
   ]
  },
  {
   "cell_type": "code",
   "execution_count": null,
   "metadata": {},
   "outputs": [],
   "source": [
    "# Write a Python program to rotate a Priority queue Object specified number (positive) of times.\n",
    "\n",
    "class PriorityQueue(object): \n",
    "    def __init__(self): \n",
    "        self.queue = [1,9] \n",
    "  \n",
    "    def __str__(self): \n",
    "        return ' '.join([str(i) for i in self.queue]) \n",
    "  \n",
    "    # for checking if the queue is empty \n",
    "    def isEmpty(self): \n",
    "        return len(self.queue) == 0\n",
    "  \n",
    "    # for inserting an element in the queue \n",
    "    def insert(self, data): \n",
    "        # write your code here\n",
    "  \n",
    "    def rotate(self,num):\n",
    "        # write your code here\n",
    "\n"
   ]
  },
  {
   "cell_type": "markdown",
   "metadata": {},
   "source": [
    "Double-click **here** for the solution.\n",
    "<!--\n",
    "\n",
    "class PriorityQueue(object): \n",
    "    def __init__(self): \n",
    "        self.queue = [1,9] \n",
    "  \n",
    "    def __str__(self): \n",
    "        return ' '.join([str(i) for i in self.queue]) \n",
    "  \n",
    "    # for checking if the queue is empty \n",
    "    def isEmpty(self): \n",
    "        return len(self.queue) == 0\n",
    "  \n",
    "    # for inserting an element in the queue \n",
    "    def insert(self, data): \n",
    "        self.queue.append(data) \n",
    "  \n",
    "    def rotate(self,num):\n",
    "        self.queue=(self.queue[-num:]+self.queue[:-num])      \n",
    "        return self.queue\n",
    "\n",
    "myQueue = PriorityQueue() \n",
    "print(\"Initial Queue\",myQueue)\n",
    "myQueue.insert(2)\n",
    "myQueue.insert(4)\n",
    "myQueue.insert(5)\n",
    "myQueue.insert(6)\n",
    "print(\"Before rotating\",myQueue)\n",
    "myQueue.rotate(1)\n",
    "print(\"After rotating \",myQueue)\n",
    "\n",
    "-->"
   ]
  },
  {
   "cell_type": "code",
   "execution_count": null,
   "metadata": {},
   "outputs": [],
   "source": [
    "\"\"\"\n",
    "\n",
    "Initial Queue 1 9\n",
    "Before rotating 1 9 2 4 5 6\n",
    "After rotating  6 1 9 2 4 5\n",
    "\n",
    "\"\"\"\n",
    "\n",
    "myQueue = PriorityQueue() \n",
    "print(\"Initial Queue\",myQueue)\n",
    "myQueue.insert(2)\n",
    "myQueue.insert(4)\n",
    "myQueue.insert(5)\n",
    "myQueue.insert(6)\n",
    "print(\"Before rotating\",myQueue)\n",
    "myQueue.rotate(1)\n",
    "print(\"After rotating \",myQueue)"
   ]
  }
 ],
 "metadata": {
  "kernelspec": {
   "display_name": "Python 3",
   "language": "python",
   "name": "python3"
  },
  "language_info": {
   "codemirror_mode": {
    "name": "ipython",
    "version": 3
   },
   "file_extension": ".py",
   "mimetype": "text/x-python",
   "name": "python",
   "nbconvert_exporter": "python",
   "pygments_lexer": "ipython3",
   "version": "3.7.6"
  }
 },
 "nbformat": 4,
 "nbformat_minor": 2
}
