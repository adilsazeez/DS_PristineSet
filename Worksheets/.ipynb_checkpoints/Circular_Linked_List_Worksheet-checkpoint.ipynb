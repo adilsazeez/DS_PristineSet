{
 "cells": [
  {
   "cell_type": "markdown",
   "metadata": {
    "nbgrader": {
     "grade": false,
     "grade_id": "cell-a06c2a89e35fc23b",
     "locked": true,
     "schema_version": 3,
     "solution": false,
     "task": false
    }
   },
   "source": [
    "# *Circular Linked List*\n",
    "\n",
    "**Prerequisites**: [*Concepts of linked list,Circular linked list and its operations*]"
   ]
  },
  {
   "cell_type": "markdown",
   "metadata": {
    "nbgrader": {
     "grade": false,
     "grade_id": "cell-ce541bd00358e28a",
     "locked": true,
     "schema_version": 3,
     "solution": false,
     "task": false
    }
   },
   "source": [
    "## Exercise 1"
   ]
  },
  {
   "cell_type": "markdown",
   "metadata": {
    "nbgrader": {
     "grade": false,
     "grade_id": "cell-19386d68348e2f7f",
     "locked": true,
     "schema_version": 3,
     "solution": false,
     "task": false
    }
   },
   "source": [
    "Write a function to insert a node into the circular linked list,where push is the function to insert the node into the circular linked list.\n",
    "\n",
    "Sample input:\n",
    "\n",
    "1\n",
    "\n",
    "2\n",
    "\n",
    "3\n",
    "\n",
    "4\n",
    "    \n",
    "Sample output:\n",
    "\n",
    "[1, 2, 3, 4]"
   ]
  },
  {
   "cell_type": "markdown",
   "metadata": {
    "nbgrader": {
     "grade": false,
     "grade_id": "cell-af5827c5db735b45",
     "locked": true,
     "schema_version": 3,
     "solution": false,
     "task": false
    }
   },
   "source": [
    "#### Code Cell\n",
    "Below is the code cell for **Exercise 1**. Type in your code in the cell. "
   ]
  },
  {
   "cell_type": "code",
   "execution_count": 50,
   "metadata": {
    "nbgrader": {
     "grade": false,
     "grade_id": "cell-2ec62f126b24dfbd",
     "locked": false,
     "schema_version": 3,
     "solution": true,
     "task": false
    }
   },
   "outputs": [],
   "source": [
    "class Node:\n",
    "    \n",
    "    def __init__(self,data):\n",
    "        self.data=data\n",
    "        self.next=None\n",
    "        self.prev=None\n",
    "        \n",
    "class linkedlist:\n",
    "    \n",
    "    ##your code here\n",
    "    ###BEGIN SOLUTION\n",
    "    \n",
    "    def __init__(self):\n",
    "        self.head=None\n",
    "        self.tail=None\n",
    "        \n",
    "    def push(self,data):\n",
    "        if(self.head==None):\n",
    "            nn=Node(data)\n",
    "            self.head=self.tail=nn\n",
    "            self.head.next=self.tail\n",
    "            self.head.prev=self.tail\n",
    "        else:\n",
    "            nn=Node(data)\n",
    "            self.tail.next = nn\n",
    "            nn.prev = self.tail    \n",
    "            self.tail = nn\n",
    "            self.head.prev=self.tail\n",
    "            self.tail.next = self.head\n",
    "        return True\n",
    "    \n",
    "    def display(self):\n",
    "        tmp=self.head\n",
    "        co=0\n",
    "        a=[]\n",
    "        if(self.head is None):\n",
    "            print(\"The list is empty\")\n",
    "        else:\n",
    "            a.append(tmp.data)\n",
    "            while(tmp.next!=self.head):\n",
    "                tmp=tmp.next\n",
    "                a.append(tmp.data)\n",
    "            return(a)\n",
    "        \n",
    "    ###END SOLUTION"
   ]
  },
  {
   "cell_type": "markdown",
   "metadata": {
    "nbgrader": {
     "grade": false,
     "grade_id": "cell-c9984f83c9dd503c",
     "locked": true,
     "schema_version": 3,
     "solution": false,
     "task": false
    }
   },
   "source": [
    "#### Test Cases \n",
    "Run the below test cell to validate your code for **Exercise 1**. The cell has test cases your code should pass. Please do not modify the contents of this cell."
   ]
  },
  {
   "cell_type": "code",
   "execution_count": 51,
   "metadata": {
    "nbgrader": {
     "grade": true,
     "grade_id": "cell-933483ef34527a9c",
     "locked": true,
     "points": 0,
     "schema_version": 3,
     "solution": false,
     "task": false
    }
   },
   "outputs": [
    {
     "name": "stdout",
     "output_type": "stream",
     "text": [
      "ALL PASSED!\n"
     ]
    }
   ],
   "source": [
    "ll=linkedlist()\n",
    "ll.push(1)\n",
    "ll.push(2)\n",
    "ll.push(3)\n",
    "ll.push(4)\n",
    "assert ll.display() == [1, 2, 3, 4]\n",
    "\n",
    "ll=linkedlist()\n",
    "ll.push(99)\n",
    "ll.push(78)\n",
    "ll.push(63)\n",
    "ll.push(41)\n",
    "ll.push(32)\n",
    "assert ll.display() == [99, 78, 63, 41, 32]\n",
    "\n",
    "print(\"ALL PASSED!\")"
   ]
  },
  {
   "cell_type": "markdown",
   "metadata": {
    "nbgrader": {
     "grade": false,
     "grade_id": "cell-dff2e28fb880162f",
     "locked": true,
     "schema_version": 3,
     "solution": false,
     "task": false
    }
   },
   "source": [
    "----\n",
    "## Exercise 2\n"
   ]
  },
  {
   "cell_type": "markdown",
   "metadata": {
    "nbgrader": {
     "grade": false,
     "grade_id": "cell-4892bae12752c1a6",
     "locked": true,
     "schema_version": 3,
     "solution": false,
     "task": false
    }
   },
   "source": [
    "Write a function to print the length of the linked list,Where length of the linked list is evaluated by the function length() below\n",
    " \n",
    "Sample input:\n",
    "\n",
    "1\n",
    "\n",
    "2\n",
    "\n",
    "3\n",
    "\n",
    "4\n",
    "\n",
    "Sample output:\n",
    "\n",
    "4"
   ]
  },
  {
   "cell_type": "markdown",
   "metadata": {
    "nbgrader": {
     "grade": false,
     "grade_id": "cell-14222a78e27c0168",
     "locked": true,
     "schema_version": 3,
     "solution": false,
     "task": false
    }
   },
   "source": [
    "#### Code Cell\n",
    "Below is the code cell for **Exercise 2**. Type your code in the cell."
   ]
  },
  {
   "cell_type": "code",
   "execution_count": 52,
   "metadata": {
    "nbgrader": {
     "grade": false,
     "grade_id": "cell-95b9b126dd4a4a44",
     "locked": false,
     "schema_version": 3,
     "solution": true,
     "task": false
    }
   },
   "outputs": [],
   "source": [
    "def length(ll):\n",
    "    \n",
    "    ##your code here\n",
    "    ###BEGIN SOLUTION\n",
    "    \n",
    "    tmp=ll.head\n",
    "    co=1\n",
    "    while(tmp.next!=ll.head):\n",
    "        co+=1\n",
    "        tmp=tmp.next\n",
    "    return co\n",
    "\n",
    "    ###END SOLUTION"
   ]
  },
  {
   "cell_type": "markdown",
   "metadata": {
    "nbgrader": {
     "grade": false,
     "grade_id": "cell-f0290bdd601846b7",
     "locked": true,
     "schema_version": 3,
     "solution": false,
     "task": false
    }
   },
   "source": [
    "#### Test Cases \n",
    "Run the below test cell to validate your code for **Exercise 2**. The cell has test cases your code should pass. Please do not modify the contents of this cell."
   ]
  },
  {
   "cell_type": "code",
   "execution_count": 61,
   "metadata": {
    "nbgrader": {
     "grade": true,
     "grade_id": "cell-f502e8909dcf6eb8",
     "locked": true,
     "points": 0,
     "schema_version": 3,
     "solution": false,
     "task": false
    }
   },
   "outputs": [
    {
     "name": "stdout",
     "output_type": "stream",
     "text": [
      "ALL PASSED!\n"
     ]
    }
   ],
   "source": [
    "#Before running the test cases run excercise 1 code cell,\n",
    "\n",
    "ll=linkedlist()\n",
    "ll.push(1)\n",
    "ll.push(2)\n",
    "ll.push(3)\n",
    "ll.push(4)\n",
    "assert length(ll) == 4\n",
    "\n",
    "ll=linkedlist()\n",
    "ll.push(100)\n",
    "ll.push(1)\n",
    "ll.push(0)\n",
    "ll.push(200)\n",
    "ll.push(500)\n",
    "assert length(ll) == 5\n",
    "\n",
    "print(\"ALL PASSED!\")"
   ]
  },
  {
   "cell_type": "markdown",
   "metadata": {
    "nbgrader": {
     "grade": false,
     "grade_id": "cell-bceaf6168903ad92",
     "locked": true,
     "schema_version": 3,
     "solution": false,
     "task": false
    },
    "slideshow": {
     "slide_type": "notes"
    }
   },
   "source": [
    "----\n",
    "## Exercise 3\n"
   ]
  },
  {
   "cell_type": "markdown",
   "metadata": {
    "nbgrader": {
     "grade": false,
     "grade_id": "cell-b2d46caf29e3ec6a",
     "locked": true,
     "schema_version": 3,
     "solution": false,
     "task": false
    }
   },
   "source": [
    "Write a function to print the position of the given node.The position of the node is evaluated by the function pos() given below.\n",
    " \n",
    "Note:The position of the circular linked list starts from 1.\n",
    " \n",
    "Sample input:\n",
    "\n",
    "2\n",
    "\n",
    "1\n",
    "\n",
    "2\n",
    "\n",
    "3\n",
    "\n",
    "4\n",
    "\n",
    "Sample output:\n",
    "\n",
    "2\n",
    "\n",
    "Explanation:\n",
    "\n",
    "The position starts from 1st position,2nd position and so on.\n",
    "\n",
    "Hence the position of val 2 is at the 2nd position and hence the output. "
   ]
  },
  {
   "cell_type": "markdown",
   "metadata": {
    "nbgrader": {
     "grade": false,
     "grade_id": "cell-5e7c3d6b5a65a6ad",
     "locked": true,
     "schema_version": 3,
     "solution": false,
     "task": false
    }
   },
   "source": [
    "#### Code Cell\n",
    "Below is the code cell for **Exercise 3**. Type your code in the cell."
   ]
  },
  {
   "cell_type": "code",
   "execution_count": 54,
   "metadata": {
    "nbgrader": {
     "grade": false,
     "grade_id": "cell-70a9b90a2f9fd107",
     "locked": false,
     "schema_version": 3,
     "solution": true,
     "task": false
    }
   },
   "outputs": [],
   "source": [
    "def pos(ll,val):\n",
    "    \n",
    "    ##your code here\n",
    "    ###BEGIN SOLUTION\n",
    "    \n",
    "    tmp=ll.head\n",
    "    co=1\n",
    "    if(tmp.next.data==ll.head.data):\n",
    "        return co\n",
    "    else:\n",
    "        while(tmp.next!=ll.head):\n",
    "            if(tmp.data==val):\n",
    "                return co\n",
    "            if(tmp.data==ll.tail.prev.data):\n",
    "                return co+1\n",
    "            tmp=tmp.next\n",
    "            co+=1\n",
    "            \n",
    "    ###END SOLUTION"
   ]
  },
  {
   "cell_type": "markdown",
   "metadata": {
    "nbgrader": {
     "grade": false,
     "grade_id": "cell-d7121632e26e5b24",
     "locked": true,
     "schema_version": 3,
     "solution": false,
     "task": false
    }
   },
   "source": [
    "#### Test Cases \n",
    "Run the below test cell to validate your code for **Exercise 3**. The cell has test cases your code should pass. Please do not modify the contents of this cell."
   ]
  },
  {
   "cell_type": "code",
   "execution_count": 55,
   "metadata": {
    "nbgrader": {
     "grade": true,
     "grade_id": "cell-33d4a01fd430ba7b",
     "locked": true,
     "points": 0,
     "schema_version": 3,
     "solution": false,
     "task": false
    }
   },
   "outputs": [
    {
     "name": "stdout",
     "output_type": "stream",
     "text": [
      "ALL PASSED!\n"
     ]
    }
   ],
   "source": [
    "ll=linkedlist()\n",
    "val=2\n",
    "ll.push(1)\n",
    "ll.push(2)\n",
    "ll.push(3)\n",
    "ll.push(4)\n",
    "assert pos(ll,val) == 2\n",
    "\n",
    "ll=linkedlist()\n",
    "val=500\n",
    "ll.push(50)\n",
    "ll.push(100)\n",
    "ll.push(200)\n",
    "ll.push(500)\n",
    "assert pos(ll,val) == 4\n",
    "\n",
    "print(\"ALL PASSED!\")"
   ]
  },
  {
   "cell_type": "markdown",
   "metadata": {
    "nbgrader": {
     "grade": false,
     "grade_id": "cell-2ce3a72b6ff22a58",
     "locked": true,
     "schema_version": 3,
     "solution": false,
     "task": false
    }
   },
   "source": [
    "----\n",
    "## Exercise 4"
   ]
  },
  {
   "cell_type": "markdown",
   "metadata": {
    "nbgrader": {
     "grade": false,
     "grade_id": "cell-b9c3edaa34d6959f",
     "locked": true,
     "schema_version": 3,
     "solution": false,
     "task": false
    }
   },
   "source": [
    "Write a function to delete all the odd numbers in the circular linked list.The Deletion is done by the function delete() given below.After deletion only the even numbered nodes are displayed.These function contains 4 functions otherthan the delete function and they are,\n",
    "\n",
    " delatbeg() -> This function is used to delete the headnode.\n",
    " \n",
    " delatend() -> This function is used to delete the tailnode.\n",
    " \n",
    " delatmid() -> This function is used to delete the node otherthan in head and tail (i.e).in the middle of the list.\n",
    " \n",
    " getpos()   -> This function is used to get the position of a particular pointer.\n",
    " \n",
    "Sample input:\n",
    " \n",
    "1\n",
    "\n",
    "2\n",
    "\n",
    "3\n",
    "\n",
    "4\n",
    "\n",
    "Sample output:\n",
    "\n",
    "[2, 4]\n",
    "\n",
    "Explanation:\n",
    "\n",
    "The list contains [1, 2, 3, 4] the odd elements in the list are 1, 3 so after deleting 1, 3 the resultant list is [2, 4]."
   ]
  },
  {
   "cell_type": "markdown",
   "metadata": {
    "nbgrader": {
     "grade": false,
     "grade_id": "cell-598f21fc0bf25770",
     "locked": true,
     "schema_version": 3,
     "solution": false,
     "task": false
    }
   },
   "source": [
    "#### Code Cell\n",
    "Below is the code cell for **Exercise 4**. Type your code in the cell."
   ]
  },
  {
   "cell_type": "code",
   "execution_count": 56,
   "metadata": {
    "nbgrader": {
     "grade": false,
     "grade_id": "cell-5d0ea47ca640c947",
     "locked": false,
     "schema_version": 3,
     "solution": true,
     "task": false
    }
   },
   "outputs": [],
   "source": [
    "def delatend(ll):       \n",
    "    if(ll.head.next==ll.head):\n",
    "        ll.head=ll.tail=None\n",
    "        tmp=None\n",
    "    else:\n",
    "        ll.tail=ll.tail.prev\n",
    "        ll.tail.next=ll.head\n",
    "        ll.head.prev=ll.tail\n",
    "        tmp=None\n",
    "        \n",
    "def getpos(ll,mlt):\n",
    "    tmp=ll.head\n",
    "    co=1\n",
    "    if(tmp.next==ll.head):\n",
    "        return co\n",
    "    else:\n",
    "        while(tmp.next!=ll.head):\n",
    "            if(tmp==mlt):\n",
    "                return co\n",
    "            if(tmp==ll.tail.prev):\n",
    "                return co+1\n",
    "            tmp=tmp.next\n",
    "            co+=1\n",
    "            \n",
    "def delatbeg(ll):\n",
    "    if(ll.head.next==ll.head):\n",
    "        ll.head=ll.tail=None\n",
    "        tmp=None\n",
    "    else:\n",
    "        ll.head=ll.head.next\n",
    "        ll.head.prev=ll.tail\n",
    "        ll.tail.next=ll.head\n",
    "        tmp=None\n",
    "        \n",
    "def delatmid(ll):\n",
    "    kl=ll\n",
    "    lo=ll.prev\n",
    "    ps=ll.next\n",
    "    lo.next=ll.next\n",
    "    ps.prev=lo\n",
    "    kl=None\n",
    "    \n",
    "def delete(ll):\n",
    "    \n",
    "    ##your code here\n",
    "    ###BEGIN SOLUTION\n",
    "    tmp=ll.head\n",
    "    fl=0\n",
    "    if(tmp is None):\n",
    "        fl=0\n",
    "    else:\n",
    "        while(tmp.next!=ll.head):\n",
    "            ty=getpos(ll,tmp)\n",
    "            if(tmp.data%2!=0):\n",
    "                fl+=1\n",
    "                if(ty==1):\n",
    "                    delatbeg(ll)\n",
    "                elif(ty==length(ll)):\n",
    "                    delatend(ll)\n",
    "                else:\n",
    "                    delatmid(tmp)\n",
    "            tmp=tmp.next\n",
    "        if(tmp.data%2!=0):\n",
    "            delatend(ll)\n",
    "    if(fl>0):\n",
    "        return True\n",
    "    else:\n",
    "        return False\n",
    "    \n",
    "    ###END SOLUTION"
   ]
  },
  {
   "cell_type": "markdown",
   "metadata": {
    "nbgrader": {
     "grade": false,
     "grade_id": "cell-159515cfc361ad86",
     "locked": true,
     "schema_version": 3,
     "solution": false,
     "task": false
    }
   },
   "source": [
    "#### Test Cases\n",
    "Run the below test cell to validate your code for **Exercise 4**. The cell has test cases your code should pass. Please do not modify the contents of this cell."
   ]
  },
  {
   "cell_type": "code",
   "execution_count": 57,
   "metadata": {
    "nbgrader": {
     "grade": true,
     "grade_id": "cell-833f0ae200c2a3ea",
     "locked": true,
     "points": 0,
     "schema_version": 3,
     "solution": false,
     "task": false
    }
   },
   "outputs": [
    {
     "name": "stdout",
     "output_type": "stream",
     "text": [
      "ALL PASSED!\n"
     ]
    }
   ],
   "source": [
    "ll=linkedlist()\n",
    "ll.push(1)\n",
    "ll.push(2)\n",
    "ll.push(3)\n",
    "ll.push(4)\n",
    "delete(ll)\n",
    "assert ll.display() == [2, 4]\n",
    "\n",
    "ll=linkedlist()\n",
    "ll.push(0)\n",
    "ll.push(1)\n",
    "ll.push(2)\n",
    "ll.push(3)\n",
    "ll.push(4)\n",
    "ll.push(5)\n",
    "ll.push(6)\n",
    "delete(ll)\n",
    "ll.display() == [0, 2, 4, 6]\n",
    "\n",
    "print(\"ALL PASSED!\")"
   ]
  },
  {
   "cell_type": "markdown",
   "metadata": {
    "nbgrader": {
     "grade": false,
     "grade_id": "cell-22d7c8bd6a1de0b1",
     "locked": true,
     "schema_version": 3,
     "solution": false,
     "task": false
    }
   },
   "source": [
    "----\n",
    "## Exercise 5"
   ]
  },
  {
   "cell_type": "markdown",
   "metadata": {
    "nbgrader": {
     "grade": false,
     "grade_id": "cell-a0183f6bc9b7213a",
     "locked": true,
     "schema_version": 3,
     "solution": false,
     "task": false
    }
   },
   "source": [
    "Write a function to split the given circular linked list into 2 circular linked list one containing only the even numbers and other with odd numbers.The splitting is done by the function split() given below.\n",
    " \n",
    "Note:The 2 circular linked list is separated by using \"end\" while displaying the linked list\n",
    " \n",
    "Sample input:\n",
    "\n",
    "1\n",
    "\n",
    "2\n",
    "\n",
    "3\n",
    "\n",
    "4\n",
    "    \n",
    "Sample output:\n",
    "\n",
    "[1, 3]\n",
    "\n",
    "[2, 4]\n",
    "\n",
    "Explanation:\n",
    "\n",
    "The list contains [1, 2, 3, 4],here we split even and odd elements into two lists i.e,[1, 3] and [2, 4] hence the output."
   ]
  },
  {
   "cell_type": "markdown",
   "metadata": {
    "nbgrader": {
     "grade": false,
     "grade_id": "cell-8c18e42178885a0a",
     "locked": true,
     "schema_version": 3,
     "solution": false,
     "task": false
    }
   },
   "source": [
    "#### Code Cell\n",
    "Below is the code cell for **Exercise 5**. Type your code in the cell."
   ]
  },
  {
   "cell_type": "code",
   "execution_count": 58,
   "metadata": {
    "nbgrader": {
     "grade": false,
     "grade_id": "cell-658b3178f675dcb0",
     "locked": false,
     "schema_version": 3,
     "solution": true,
     "task": false
    }
   },
   "outputs": [],
   "source": [
    "def split(ll,ev,od):\n",
    "    \n",
    "    ##your code here\n",
    "    ###BEGIN SOLUTION\n",
    "    \n",
    "    tmp=ll.head\n",
    "    evfl=0\n",
    "    odfl=0\n",
    "    while(tmp.next!=ll.head):\n",
    "        if(tmp.data%2!=0):\n",
    "            od.push(tmp.data)\n",
    "            odfl+=1\n",
    "        else:\n",
    "            ev.push(tmp.data)\n",
    "            evfl+=1\n",
    "        tmp=tmp.next\n",
    "    if(ll.tail.data%2!=0):\n",
    "        od.push(ll.tail.data)\n",
    "        odfl+=1\n",
    "    else:\n",
    "        ev.push(ll.tail.data)\n",
    "        evfl+=1\n",
    "    if((odfl>0) and (evfl>0)):\n",
    "        return True\n",
    "    else:\n",
    "        return False\n",
    "    \n",
    "    ###END SOLUTION"
   ]
  },
  {
   "cell_type": "markdown",
   "metadata": {
    "nbgrader": {
     "grade": false,
     "grade_id": "cell-827fe78d346f7bc3",
     "locked": true,
     "schema_version": 3,
     "solution": false,
     "task": false
    }
   },
   "source": [
    "#### Test Cases\n",
    "Run the below test cell to validate your code for **Exercise 5**. The cell has test cases your code should pass. Please do not modify the contents of this cell."
   ]
  },
  {
   "cell_type": "code",
   "execution_count": 59,
   "metadata": {
    "nbgrader": {
     "grade": true,
     "grade_id": "cell-6344067b20760ae0",
     "locked": true,
     "points": 0,
     "schema_version": 3,
     "solution": false,
     "task": false
    }
   },
   "outputs": [
    {
     "name": "stdout",
     "output_type": "stream",
     "text": [
      "ALL PASSED!\n"
     ]
    }
   ],
   "source": [
    "ll=linkedlist()\n",
    "ll.push(1)\n",
    "ll.push(2)\n",
    "ll.push(3)\n",
    "ll.push(4)\n",
    "od=linkedlist()\n",
    "ev=linkedlist()\n",
    "split(ll,ev,od)\n",
    "assert ev.display() == [2, 4]\n",
    "\n",
    "assert od.display() == [1, 3]\n",
    "\n",
    "ll=linkedlist()\n",
    "ll.push(0)\n",
    "ll.push(3)\n",
    "ll.push(5)\n",
    "ll.push(7)\n",
    "ll.push(8)\n",
    "od=linkedlist()\n",
    "ev=linkedlist()\n",
    "split(ll,ev,od)\n",
    "assert ev.display() == [0, 8]\n",
    "\n",
    "assert od.display() == [3, 5, 7]\n",
    "\n",
    "print(\"ALL PASSED!\")"
   ]
  }
 ],
 "metadata": {
  "celltoolbar": "Create Assignment",
  "kernelspec": {
   "display_name": "Python 3",
   "language": "python",
   "name": "python3"
  },
  "language_info": {
   "codemirror_mode": {
    "name": "ipython",
    "version": 3
   },
   "file_extension": ".py",
   "mimetype": "text/x-python",
   "name": "python",
   "nbconvert_exporter": "python",
   "pygments_lexer": "ipython3",
   "version": "3.7.6"
  },
  "varInspector": {
   "cols": {
    "lenName": 16,
    "lenType": 16,
    "lenVar": 40
   },
   "kernels_config": {
    "python": {
     "delete_cmd_postfix": "",
     "delete_cmd_prefix": "del ",
     "library": "var_list.py",
     "varRefreshCmd": "print(var_dic_list())"
    },
    "r": {
     "delete_cmd_postfix": ") ",
     "delete_cmd_prefix": "rm(",
     "library": "var_list.r",
     "varRefreshCmd": "cat(var_dic_list()) "
    }
   },
   "types_to_exclude": [
    "module",
    "function",
    "builtin_function_or_method",
    "instance",
    "_Feature"
   ],
   "window_display": true
  }
 },
 "nbformat": 4,
 "nbformat_minor": 4
}
