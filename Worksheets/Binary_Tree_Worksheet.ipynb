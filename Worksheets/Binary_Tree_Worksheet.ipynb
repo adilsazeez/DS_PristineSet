{
 "cells": [
  {
   "cell_type": "markdown",
   "metadata": {
    "nbgrader": {
     "grade": false,
     "grade_id": "cell-a06c2a89e35fc23b",
     "locked": true,
     "schema_version": 3,
     "solution": false,
     "task": false
    }
   },
   "source": [
    "# *Binary Tree*\n",
    "\n",
    "**Prerequisites**: [*Concepts of Tree and its operations*]"
   ]
  },
  {
   "cell_type": "markdown",
   "metadata": {
    "nbgrader": {
     "grade": false,
     "grade_id": "cell-ce541bd00358e28a",
     "locked": true,
     "schema_version": 3,
     "solution": false,
     "task": false
    }
   },
   "source": [
    "## Exercise 1"
   ]
  },
  {
   "cell_type": "markdown",
   "metadata": {
    "nbgrader": {
     "grade": false,
     "grade_id": "cell-19386d68348e2f7f",
     "locked": true,
     "schema_version": 3,
     "solution": false,
     "task": false
    }
   },
   "source": [
    "Write an algorithm to compute the diameter of binary tree.The diameter of the binary tree is equal to the number of nodes on \n",
    "the logest path between any two leaves in it. \n",
    "Constraints:\n",
    "     \n",
    "1)Check if root is None then return 0, diameter \n",
    "\n",
    "2)otherwise,\n",
    "\n",
    "left_height, diameter = getDiameter(root.left, diameter)\n",
    "    \n",
    "right_height, diameter = getDiameter(root.right, diameter)\n",
    "    \n",
    "max_diameter = left_height + right_height + 1\n",
    "    \n",
    "diameter = max(diameter, max_diameter)\n",
    "    \n",
    "return max(left_height, right_height) + 1, diameter\n",
    "    \n",
    "Sample input:\n",
    "\n",
    "root = Node(1)\n",
    "\n",
    "root.left = Node(2)\n",
    "\n",
    "root.right = Node(3)\n",
    "\n",
    "root.left.right = Node(4)\n",
    "\n",
    "root.right.left = Node(5)\n",
    "\n",
    "root.right.right = Node(6)\n",
    "\n",
    "root.right.left.left = Node(7)\n",
    "\n",
    "root.right.left.right = Node(8)\n",
    "    \n",
    "Sample output:\n",
    "\n",
    "6"
   ]
  },
  {
   "cell_type": "markdown",
   "metadata": {
    "nbgrader": {
     "grade": false,
     "grade_id": "cell-af5827c5db735b45",
     "locked": true,
     "schema_version": 3,
     "solution": false,
     "task": false
    }
   },
   "source": [
    "#### Code Cell\n",
    "Below is the code cell for **Exercise 1**. Type in your code in the cell. "
   ]
  },
  {
   "cell_type": "code",
   "execution_count": 5,
   "metadata": {
    "nbgrader": {
     "grade": false,
     "grade_id": "cell-2ec62f126b24dfbd",
     "locked": false,
     "schema_version": 3,
     "solution": true,
     "task": false
    }
   },
   "outputs": [],
   "source": [
    "class Node:\n",
    "    def __init__(self, data, left=None, right=None):\n",
    "        self.data = data\n",
    "        self.left = left\n",
    "        self.right = right\n",
    "\n",
    "\n",
    "\n",
    "def getDiameter(root, diameter):\n",
    "\n",
    "   \n",
    "    ##your code here\n",
    "    ###BEGIN SOLUTION\n",
    "    \n",
    "    if root is None:\n",
    "        return 0, diameter\n",
    "    left_height, diameter = getDiameter(root.left, diameter)\n",
    "    right_height, diameter = getDiameter(root.right, diameter)\n",
    "\n",
    "    max_diameter = left_height + right_height + 1\n",
    "\n",
    "\n",
    "    diameter = max(diameter, max_diameter)\n",
    "\n",
    "    return max(left_height, right_height) + 1, diameter\n",
    "    \n",
    "    ###END SOLUTION\n",
    "\n",
    "def getBTDiameter(root):\n",
    "\n",
    "    diameter = 0\n",
    "    return getDiameter(root, diameter)[1]"
   ]
  },
  {
   "cell_type": "markdown",
   "metadata": {
    "nbgrader": {
     "grade": false,
     "grade_id": "cell-c9984f83c9dd503c",
     "locked": true,
     "schema_version": 3,
     "solution": false,
     "task": false
    }
   },
   "source": [
    "#### Test Cases \n",
    "Run the below test cell to validate your code for **Exercise 1**. The cell has test cases your code should pass. Please do not modify the contents of this cell."
   ]
  },
  {
   "cell_type": "code",
   "execution_count": 6,
   "metadata": {
    "nbgrader": {
     "grade": true,
     "grade_id": "cell-933483ef34527a9c",
     "locked": true,
     "points": 0,
     "schema_version": 3,
     "solution": false,
     "task": false
    }
   },
   "outputs": [
    {
     "name": "stdout",
     "output_type": "stream",
     "text": [
      "ALL PASSED!\n"
     ]
    }
   ],
   "source": [
    "root = Node(1) \n",
    "root.left = Node(2)\n",
    "root.right = Node(3)\n",
    "assert getBTDiameter(root) == 3\n",
    "\n",
    "root = Node(66)\n",
    "root.left = Node(65)\n",
    "root.right = Node(67)\n",
    "root.left.right = Node(65.5)\n",
    "root.right.left = Node(64)\n",
    "assert getBTDiameter(root) == 5\n",
    "\n",
    "print(\"ALL PASSED!\")"
   ]
  },
  {
   "cell_type": "markdown",
   "metadata": {
    "nbgrader": {
     "grade": false,
     "grade_id": "cell-dff2e28fb880162f",
     "locked": true,
     "schema_version": 3,
     "solution": false,
     "task": false
    }
   },
   "source": [
    "----\n",
    "## Exercise 2\n"
   ]
  },
  {
   "cell_type": "markdown",
   "metadata": {
    "nbgrader": {
     "grade": false,
     "grade_id": "cell-4892bae12752c1a6",
     "locked": true,
     "schema_version": 3,
     "solution": false,
     "task": false
    }
   },
   "source": [
    "Write an algorithm to check if two binary trees are identical or not.If they have identical structure their contents are \n",
    "same.\n",
    "\n",
    "Constraints:\n",
    "    \n",
    "1) Check if x is None and y is None then return True\n",
    "\n",
    "2) Otherwisereturn (x and y) and (x.key == y.key) and \\isIdentical(x.left, y.left) and isIdentical(x.right, y.right)\n",
    "\n",
    "Sample input:\n",
    "\n",
    "x = Node(4)\n",
    "\n",
    "x.left = Node(2)\n",
    "\n",
    "x.right = Node(6)\n",
    "\n",
    "x.left.left = Node(1)\n",
    "\n",
    "x.left.right = Node(3)\n",
    "\n",
    "x.right.left = Node(5)\n",
    "\n",
    "x.right.right = Node(7) \n",
    "\n",
    "y = Node(4)\n",
    "\n",
    "y.left = Node(2)\n",
    "\n",
    "y.right = Node(6)\n",
    "\n",
    "y.left.left = Node(1)\n",
    "\n",
    "y.left.right = Node(3)\n",
    "\n",
    "y.right.left = Node(5)\n",
    "\n",
    "y.right.right = Node(7) \n",
    "\n",
    "Sample output:\n",
    "\n",
    "True"
   ]
  },
  {
   "cell_type": "markdown",
   "metadata": {
    "nbgrader": {
     "grade": false,
     "grade_id": "cell-14222a78e27c0168",
     "locked": true,
     "schema_version": 3,
     "solution": false,
     "task": false
    }
   },
   "source": [
    "#### Code Cell\n",
    "Below is the code cell for **Exercise 2**. Type your code in the cell."
   ]
  },
  {
   "cell_type": "code",
   "execution_count": 12,
   "metadata": {
    "nbgrader": {
     "grade": false,
     "grade_id": "cell-95b9b126dd4a4a44",
     "locked": false,
     "schema_version": 3,
     "solution": true,
     "task": false
    }
   },
   "outputs": [],
   "source": [
    "class Node:\n",
    "    def __init__(self, key=None, left=None, right=None):\n",
    "        self.key = key\n",
    "        self.left = left\n",
    "        self.right = right\n",
    "\n",
    "def isIdentical(x, y):\n",
    "    \n",
    "    ##your code here\n",
    "    ###BEGIN SOLUTION\n",
    "    \n",
    "    if x is None and y is None:\n",
    "        return True\n",
    "    return (x and y) and (x.key == y.key) and \\\n",
    "            isIdentical(x.left, y.left) and isIdentical(x.right, y.right)\n",
    "\n",
    "    ###END SOLUTION"
   ]
  },
  {
   "cell_type": "markdown",
   "metadata": {
    "nbgrader": {
     "grade": false,
     "grade_id": "cell-f0290bdd601846b7",
     "locked": true,
     "schema_version": 3,
     "solution": false,
     "task": false
    }
   },
   "source": [
    "#### Test Cases \n",
    "Run the below test cell to validate your code for **Exercise 2**. The cell has test cases your code should pass. Please do not modify the contents of this cell."
   ]
  },
  {
   "cell_type": "code",
   "execution_count": 13,
   "metadata": {
    "nbgrader": {
     "grade": true,
     "grade_id": "cell-f502e8909dcf6eb8",
     "locked": true,
     "points": 0,
     "schema_version": 3,
     "solution": false,
     "task": false
    }
   },
   "outputs": [
    {
     "name": "stdout",
     "output_type": "stream",
     "text": [
      "ALL PASSED!\n"
     ]
    }
   ],
   "source": [
    "x=Node(10)\n",
    "x.left=Node(9)\n",
    "x.right=Node(11)\n",
    "\n",
    "y=Node(10)\n",
    "y.left=Node(9)\n",
    "y.right=Node(11)\n",
    "\n",
    "assert isIdentical(x, y) == True\n",
    "\n",
    "x = Node(15)\n",
    "x.left = Node(10)\n",
    "x.right = Node(20)\n",
    "x.left.left = Node(8)\n",
    "x.left.right = Node(12)\n",
    "x.right.left = Node(16)\n",
    "x.right.right = Node(25)\n",
    "\n",
    "y = Node(15)\n",
    "y.left = Node(10)\n",
    "y.right = Node(20)\n",
    "y.left.left = Node(8)\n",
    "y.left.right = Node(12)\n",
    "y.right.left = Node(16)\n",
    "y.right.right = Node(25)\n",
    "    \n",
    "assert isIdentical(x, y) == True\n",
    "\n",
    "print(\"ALL PASSED!\")"
   ]
  },
  {
   "cell_type": "markdown",
   "metadata": {
    "nbgrader": {
     "grade": false,
     "grade_id": "cell-bceaf6168903ad92",
     "locked": true,
     "schema_version": 3,
     "solution": false,
     "task": false
    },
    "slideshow": {
     "slide_type": "notes"
    }
   },
   "source": [
    "----\n",
    "## Exercise 3\n"
   ]
  },
  {
   "cell_type": "markdown",
   "metadata": {
    "nbgrader": {
     "grade": false,
     "grade_id": "cell-b2d46caf29e3ec6a",
     "locked": true,
     "schema_version": 3,
     "solution": false,
     "task": false
    }
   },
   "source": [
    "Write an efficient algorithm to comput the height of binarytree.The height or depth of the tree is number of edges or nodes on \n",
    "the longest path from root node to leaf node. \n",
    "\n",
    "To complete the height function: \n",
    "\n",
    "1)Check if root is None the return 0\n",
    "       \n",
    "2)Otherwise return 1 + max(height(root.left), height(root.right))\n",
    "\n",
    "Sample Input:\n",
    "    \n",
    "root = Node(4)\n",
    "root.left = Node(2)\n",
    "root.right = Node(6)\n",
    "root.left.left = Node(1)\n",
    "root.left.right = Node(3)\n",
    "root.right.left = Node(5)\n",
    "root.right.right = Node(7) \n",
    "\n",
    "Sample Output:\n",
    "    \n",
    "3"
   ]
  },
  {
   "cell_type": "markdown",
   "metadata": {
    "nbgrader": {
     "grade": false,
     "grade_id": "cell-5e7c3d6b5a65a6ad",
     "locked": true,
     "schema_version": 3,
     "solution": false,
     "task": false
    }
   },
   "source": [
    "#### Code Cell\n",
    "Below is the code cell for **Exercise 3**. Type your code in the cell."
   ]
  },
  {
   "cell_type": "code",
   "execution_count": 14,
   "metadata": {
    "nbgrader": {
     "grade": false,
     "grade_id": "cell-70a9b90a2f9fd107",
     "locked": false,
     "schema_version": 3,
     "solution": true,
     "task": false
    }
   },
   "outputs": [
    {
     "name": "stdout",
     "output_type": "stream",
     "text": [
      "The height of the binary tree is 3\n"
     ]
    }
   ],
   "source": [
    "class Node:\n",
    "    \n",
    "    def __init__(self, key=None, left=None, right=None):\n",
    "        self.key = key\n",
    "        self.left = left\n",
    "        self.right = right\n",
    "\n",
    "def height(root):\n",
    "    \n",
    "    ##your code here\n",
    "    ###BEGIN SOLUTION\n",
    "    \n",
    "    if root is None:\n",
    "        return 0\n",
    "    return 1 + max(height(root.left), height(root.right))\n",
    "    \n",
    "    ###END SOLUTION\n",
    "    \n",
    "if __name__ == '__main__':\n",
    "\n",
    "    \n",
    "    \n",
    "    print(\"The height of the binary tree is\", height(root))"
   ]
  },
  {
   "cell_type": "markdown",
   "metadata": {
    "nbgrader": {
     "grade": false,
     "grade_id": "cell-d7121632e26e5b24",
     "locked": true,
     "schema_version": 3,
     "solution": false,
     "task": false
    }
   },
   "source": [
    "#### Test Cases \n",
    "Run the below test cell to validate your code for **Exercise 3**. The cell has test cases your code should pass. Please do not modify the contents of this cell."
   ]
  },
  {
   "cell_type": "code",
   "execution_count": 16,
   "metadata": {
    "nbgrader": {
     "grade": true,
     "grade_id": "cell-33d4a01fd430ba7b",
     "locked": true,
     "points": 0,
     "schema_version": 3,
     "solution": false,
     "task": false
    }
   },
   "outputs": [
    {
     "name": "stdout",
     "output_type": "stream",
     "text": [
      "ALL PASSED!\n"
     ]
    }
   ],
   "source": [
    "root = Node(60)\n",
    "root.left = Node(35)\n",
    "root.right = Node(77)\n",
    "assert height(root) == 2\n",
    "\n",
    "root = Node(35)\n",
    "root.left = Node(10)\n",
    "root.right = Node(36)\n",
    "root.left.left = Node(8)\n",
    "root.left.right = Node(12)\n",
    "assert height(root) == 3\n",
    "\n",
    "root = Node(15)\n",
    "root.left = Node(10)\n",
    "root.right = Node(20)\n",
    "root.left.left = Node(8)\n",
    "root.left.right = Node(12)\n",
    "root.right.left = Node(16)\n",
    "root.right.right = Node(25)\n",
    "assert height(root) == 3\n",
    "    \n",
    "print(\"ALL PASSED!\")"
   ]
  },
  {
   "cell_type": "markdown",
   "metadata": {
    "nbgrader": {
     "grade": false,
     "grade_id": "cell-2ce3a72b6ff22a58",
     "locked": true,
     "schema_version": 3,
     "solution": false,
     "task": false
    }
   },
   "source": [
    "----\n",
    "## Exercise 4"
   ]
  },
  {
   "cell_type": "markdown",
   "metadata": {
    "nbgrader": {
     "grade": false,
     "grade_id": "cell-b9c3edaa34d6959f",
     "locked": true,
     "schema_version": 3,
     "solution": false,
     "task": false
    }
   },
   "source": [
    "Write a Python program to check whether a given a binary tree is a valid binary search tree (BST) or not.\n",
    "\n",
    "Let a binary search tree (BST) is defined as follows:\n",
    "    \n",
    "The left subtree of a node contains only nodes with keys less than the node's key.\n",
    "\n",
    "The right subtree of a node contains only nodes with keys greater than the node's key.\n",
    "\n",
    "Both the left and right subtrees must also be binary search trees.\n",
    "\n",
    "Constraint: \n",
    "\n",
    "1)Perform while root or stack and while root\n",
    "\n",
    "2)stack.append(root) and assign root.left to root and stack.pop to root.\n",
    "   \n",
    "3)Check if prev and root.val <= prev.val then return False assign root to prev and root.right to root then return True\n",
    "       \n",
    "Example 1:\n",
    "  \n",
    "Sample Input:\n",
    "\n",
    "2\n",
    "\n",
    "1\n",
    "\n",
    "3\n",
    "\n",
    "Sample Output:\n",
    "\n",
    "True\n",
    "\n",
    "Example 2:\n",
    "  \n",
    "Sample Input:\n",
    "\n",
    "1\n",
    "\n",
    "2\n",
    "\n",
    "3\n",
    "\n",
    "Sample Output:\n",
    "\n",
    "False"
   ]
  },
  {
   "cell_type": "markdown",
   "metadata": {
    "nbgrader": {
     "grade": false,
     "grade_id": "cell-598f21fc0bf25770",
     "locked": true,
     "schema_version": 3,
     "solution": false,
     "task": false
    }
   },
   "source": [
    "#### Code Cell\n",
    "Below is the code cell for **Exercise 4**. Type your code in the cell."
   ]
  },
  {
   "cell_type": "code",
   "execution_count": 18,
   "metadata": {
    "nbgrader": {
     "grade": false,
     "grade_id": "cell-5d0ea47ca640c947",
     "locked": false,
     "schema_version": 3,
     "solution": true,
     "task": false
    }
   },
   "outputs": [],
   "source": [
    "class TreeNode(object):\n",
    "    \n",
    "    def __init__(self, x):\n",
    "        \n",
    "        ##your code here\n",
    "        ###BEGIN SOLUTION\n",
    "        \n",
    "        self.val = x\n",
    "        self.left = None\n",
    "        self.right = None\n",
    "        \n",
    "        ###END SOLUTION\n",
    "\n",
    "def is_BST(root):\n",
    "    stack = []\n",
    "    prev = None\n",
    "    ##your code here\n",
    "    ###BEGIN SOLUTION\n",
    "    \n",
    "    while root or stack:\n",
    "        while root:\n",
    "            stack.append(root)\n",
    "            root = root.left\n",
    "        root = stack.pop()\n",
    "        if prev and root.val <= prev.val:\n",
    "            return False\n",
    "        prev = root\n",
    "        root = root.right\n",
    "    return True\n",
    "    \n",
    "    ###END SOLUTION"
   ]
  },
  {
   "cell_type": "markdown",
   "metadata": {
    "nbgrader": {
     "grade": false,
     "grade_id": "cell-159515cfc361ad86",
     "locked": true,
     "schema_version": 3,
     "solution": false,
     "task": false
    }
   },
   "source": [
    "#### Test Cases\n",
    "Run the below test cell to validate your code for **Exercise 4**. The cell has test cases your code should pass. Please do not modify the contents of this cell."
   ]
  },
  {
   "cell_type": "code",
   "execution_count": 19,
   "metadata": {
    "nbgrader": {
     "grade": true,
     "grade_id": "cell-833f0ae200c2a3ea",
     "locked": true,
     "points": 0,
     "schema_version": 3,
     "solution": false,
     "task": false
    }
   },
   "outputs": [
    {
     "name": "stdout",
     "output_type": "stream",
     "text": [
      "ALL PASSED!\n"
     ]
    }
   ],
   "source": [
    "root = TreeNode(1)  \n",
    "root.left = TreeNode(2)  \n",
    "root.right = TreeNode(5) \n",
    "assert is_BST(root) == False\n",
    "\n",
    "root = TreeNode(6)  \n",
    "root.left = TreeNode(1)  \n",
    "root.right = TreeNode(10) \n",
    "assert is_BST(root) == True\n",
    "\n",
    "root = TreeNode(2)  \n",
    "root.left = TreeNode(1)  \n",
    "root.right = TreeNode(3) \n",
    "assert is_BST(root) == True\n",
    "\n",
    "root = TreeNode(1)  \n",
    "root.left = TreeNode(2)  \n",
    "root.right = TreeNode(3) \n",
    "assert is_BST(root) == False\n",
    "\n",
    "print(\"ALL PASSED!\")"
   ]
  },
  {
   "cell_type": "markdown",
   "metadata": {
    "nbgrader": {
     "grade": false,
     "grade_id": "cell-22d7c8bd6a1de0b1",
     "locked": true,
     "schema_version": 3,
     "solution": false,
     "task": false
    }
   },
   "source": [
    "----\n",
    "## Exercise 5"
   ]
  },
  {
   "cell_type": "markdown",
   "metadata": {
    "nbgrader": {
     "grade": false,
     "grade_id": "cell-ee9a926a7e8959c5",
     "locked": true,
     "schema_version": 3,
     "solution": false,
     "task": false
    }
   },
   "source": [
    "Write a Python program to find the kth smallest element in a given a binary search tree.\n",
    "\n",
    "Constraints: \n",
    "    \n",
    "1)perform while root or stack and while root then stack.append(root) and assign root.left,stack.pop to root and decrement k by 1.\n",
    " \n",
    "2)Check if k equals 0 then break and assign root.right to root.\n",
    "\n",
    "3)Then return root.val."
   ]
  },
  {
   "cell_type": "markdown",
   "metadata": {
    "nbgrader": {
     "grade": false,
     "grade_id": "cell-8c18e42178885a0a",
     "locked": true,
     "schema_version": 3,
     "solution": false,
     "task": false
    }
   },
   "source": [
    "#### Code Cell\n",
    "Below is the code cell for **Exercise 5**. Type your code in the cell."
   ]
  },
  {
   "cell_type": "code",
   "execution_count": 24,
   "metadata": {
    "nbgrader": {
     "grade": false,
     "grade_id": "cell-658b3178f675dcb0",
     "locked": false,
     "schema_version": 3,
     "solution": true,
     "task": false
    }
   },
   "outputs": [],
   "source": [
    "class TreeNode(object):\n",
    "    \n",
    "    def __init__(self, x):\n",
    "        self.val = x\n",
    "        self.left = None\n",
    "        self.right = None\n",
    "\n",
    "def kth_smallest(root, k):\n",
    "    stack = []\n",
    "    \n",
    "    ##your code here\n",
    "    ###BEGIN SOLUTION\n",
    "    \n",
    "    while root or stack:\n",
    "        while root:\n",
    "            stack.append(root)\n",
    "            root = root.left\n",
    "        root = stack.pop()\n",
    "        k -= 1\n",
    "        if k == 0:\n",
    "            break\n",
    "        root = root.right\n",
    "    return root.val\n",
    "    \n",
    "    ###END SOLUTION"
   ]
  },
  {
   "cell_type": "markdown",
   "metadata": {
    "nbgrader": {
     "grade": false,
     "grade_id": "cell-827fe78d346f7bc3",
     "locked": true,
     "schema_version": 3,
     "solution": false,
     "task": false
    }
   },
   "source": [
    "#### Test Cases\n",
    "Run the below test cell to validate your code for **Exercise 5**. The cell has test cases your code should pass. Please do not modify the contents of this cell."
   ]
  },
  {
   "cell_type": "code",
   "execution_count": 25,
   "metadata": {
    "nbgrader": {
     "grade": true,
     "grade_id": "cell-6344067b20760ae0",
     "locked": true,
     "points": 0,
     "schema_version": 3,
     "solution": false,
     "task": false
    }
   },
   "outputs": [
    {
     "name": "stdout",
     "output_type": "stream",
     "text": [
      "ALL PASSED!\n"
     ]
    }
   ],
   "source": [
    "root = TreeNode(8)  \n",
    "root.left = TreeNode(5)  \n",
    "root.right = TreeNode(14) \n",
    "root.left.left = TreeNode(4)  \n",
    "root.left.right = TreeNode(6) \n",
    "root.left.right.left = TreeNode(8)  \n",
    "root.left.right.right = TreeNode(7)  \n",
    "root.right.right = TreeNode(24) \n",
    "root.right.right.left = TreeNode(22)  \n",
    "\n",
    "assert kth_smallest(root, 2) == 5\n",
    "\n",
    "assert kth_smallest(root, 3) == 8\n",
    "\n",
    "assert kth_smallest(root, 1) == 4\n",
    "\n",
    "assert kth_smallest(root, 5) == 7\n",
    "\n",
    "assert kth_smallest(root, 4) == 6\n",
    "\n",
    "print(\"ALL PASSED!\")"
   ]
  }
 ],
 "metadata": {
  "celltoolbar": "Create Assignment",
  "kernelspec": {
   "display_name": "Python 3",
   "language": "python",
   "name": "python3"
  },
  "language_info": {
   "codemirror_mode": {
    "name": "ipython",
    "version": 3
   },
   "file_extension": ".py",
   "mimetype": "text/x-python",
   "name": "python",
   "nbconvert_exporter": "python",
   "pygments_lexer": "ipython3",
   "version": "3.7.6"
  },
  "varInspector": {
   "cols": {
    "lenName": 16,
    "lenType": 16,
    "lenVar": 40
   },
   "kernels_config": {
    "python": {
     "delete_cmd_postfix": "",
     "delete_cmd_prefix": "del ",
     "library": "var_list.py",
     "varRefreshCmd": "print(var_dic_list())"
    },
    "r": {
     "delete_cmd_postfix": ") ",
     "delete_cmd_prefix": "rm(",
     "library": "var_list.r",
     "varRefreshCmd": "cat(var_dic_list()) "
    }
   },
   "types_to_exclude": [
    "module",
    "function",
    "builtin_function_or_method",
    "instance",
    "_Feature"
   ],
   "window_display": true
  }
 },
 "nbformat": 4,
 "nbformat_minor": 4
}
