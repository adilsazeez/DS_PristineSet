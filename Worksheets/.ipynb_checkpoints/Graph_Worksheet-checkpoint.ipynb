{
 "cells": [
  {
   "cell_type": "markdown",
   "metadata": {
    "nbgrader": {
     "grade": false,
     "grade_id": "cell-a06c2a89e35fc23b",
     "locked": true,
     "schema_version": 3,
     "solution": false,
     "task": false
    }
   },
   "source": [
    "# *Graph*\n",
    "\n",
    "**Prerequisites**: [*Concepts of graph,its implementation and operation*]"
   ]
  },
  {
   "cell_type": "markdown",
   "metadata": {
    "nbgrader": {
     "grade": false,
     "grade_id": "cell-ce541bd00358e28a",
     "locked": true,
     "schema_version": 3,
     "solution": false,
     "task": false
    }
   },
   "source": [
    "## Exercise 1"
   ]
  },
  {
   "cell_type": "markdown",
   "metadata": {
    "nbgrader": {
     "grade": false,
     "grade_id": "cell-19386d68348e2f7f",
     "locked": true,
     "schema_version": 3,
     "solution": false,
     "task": false
    }
   },
   "source": [
    "Write a function to print all the edges of the graph and print all the edges of the graph.addedges() function is used to add the edges to the graph.printedges() function is used to print all the edges.\n",
    "\n",
    "Graph:\n",
    "\n",
    "          H\n",
    "         / \\\n",
    "        /   \\\n",
    "       A-----B\n",
    "      /|     | \\\n",
    "     / |     |  \\\n",
    "    G  |     |   F\n",
    "    \\  |     |   /\n",
    "     \\ |     |  /\n",
    "       C-----D \n",
    "       \\     /\n",
    "        \\   /\n",
    "          E\n",
    "\n",
    "Sample input:\n",
    "\n",
    "'a','b' \n",
    "\n",
    "'b','a'\n",
    "\n",
    "'a','c'\n",
    "\n",
    "'c','a'\n",
    "\n",
    "'c','d'\n",
    "\n",
    "'d','c'\n",
    "\n",
    "'b','d'\n",
    "\n",
    "'d','b'\n",
    "\n",
    "'d','f'\n",
    "\n",
    "'f','d'\n",
    "\n",
    "'b','f'\n",
    "\n",
    "'f','b'\n",
    "\n",
    "'c','e'\n",
    "\n",
    "'e','c'\n",
    "\n",
    "'e','d'\n",
    "\n",
    "'d','e'\n",
    "\n",
    "'c','g'\n",
    "\n",
    "'g','c'\n",
    "\n",
    "'g','a'\n",
    "\n",
    "'a','g'\n",
    "\n",
    "'a','h'\n",
    "\n",
    "'h','a'\n",
    "\n",
    "'b','h'\n",
    "\n",
    "'h','b'\n",
    "\n",
    "Sample Output:\n",
    "\n",
    "[('a', 'b'), ('a', 'c'), ('a', 'g'), ('a', 'h'), ('b', 'a'), ('b', 'd'), ('b', 'f'), ('b', 'h'), ('c', 'a'), ('c', 'd'), \n",
    "('c', 'e'), ('c', 'g'), ('d', 'c'), ('d', 'b'), ('d', 'f'), ('d', 'e'), ('f', 'd'), ('f', 'b'), ('e', 'c'), ('e', 'd'), ('g', 'c'), ('g', 'a'), ('h', 'a'), ('h', 'b')] "
   ]
  },
  {
   "cell_type": "markdown",
   "metadata": {
    "nbgrader": {
     "grade": false,
     "grade_id": "cell-af5827c5db735b45",
     "locked": true,
     "schema_version": 3,
     "solution": false,
     "task": false
    }
   },
   "source": [
    "#### Code Cell\n",
    "Below is the code cell for **Exercise 1**. Type in your code in the cell. "
   ]
  },
  {
   "cell_type": "code",
   "execution_count": 1,
   "metadata": {
    "nbgrader": {
     "grade": false,
     "grade_id": "cell-2ec62f126b24dfbd",
     "locked": false,
     "schema_version": 3,
     "solution": true,
     "task": false
    }
   },
   "outputs": [],
   "source": [
    "from collections import defaultdict\n",
    "graph=defaultdict(list)\n",
    "\n",
    "def addedges(graph,u,v,l):\n",
    "    \n",
    "    ##your code here\n",
    "    ###BEGIN SOLUTION\n",
    "    \n",
    "    graph[u].append(v)\n",
    "    noel(u,v,l)\n",
    "def noel(ty,uy,l):\n",
    "    l.append(ty)\n",
    "    l.append(uy)\n",
    "    joi=list(set(l))\n",
    "    return joi\n",
    "def printedges(graph):\n",
    "    edges=[]\n",
    "    for i in graph:\n",
    "        for j in graph[i]:\n",
    "            edges.append((i,j))\n",
    "    return edges\n",
    "\n",
    "    ###END SOLUTION"
   ]
  },
  {
   "cell_type": "markdown",
   "metadata": {
    "nbgrader": {
     "grade": false,
     "grade_id": "cell-c9984f83c9dd503c",
     "locked": true,
     "schema_version": 3,
     "solution": false,
     "task": false
    }
   },
   "source": [
    "#### Test Cases \n",
    "Run the below test cell to validate your code for **Exercise 1**. The cell has test cases your code should pass. Please do not modify the contents of this cell."
   ]
  },
  {
   "cell_type": "code",
   "execution_count": 2,
   "metadata": {
    "nbgrader": {
     "grade": true,
     "grade_id": "cell-933483ef34527a9c",
     "locked": true,
     "points": 0,
     "schema_version": 3,
     "solution": false,
     "task": false
    }
   },
   "outputs": [
    {
     "name": "stdout",
     "output_type": "stream",
     "text": [
      "ALL PASSED!\n"
     ]
    }
   ],
   "source": [
    "l=[]\n",
    "addedges(graph,'a','b',l)\n",
    "addedges(graph,'b','a',l)\n",
    "addedges(graph,'a','c',l)\n",
    "addedges(graph,'c','a',l)\n",
    "addedges(graph,'c','d',l)\n",
    "addedges(graph,'d','c',l)\n",
    "addedges(graph,'b','d',l)\n",
    "addedges(graph,'d','b',l)\n",
    "addedges(graph,'d','f',l)\n",
    "addedges(graph,'f','d',l)\n",
    "addedges(graph,'b','f',l)\n",
    "addedges(graph,'f','b',l)\n",
    "addedges(graph,'c','e',l)\n",
    "addedges(graph,'e','c',l)\n",
    "addedges(graph,'e','d',l)\n",
    "addedges(graph,'d','e',l)\n",
    "addedges(graph,'c','g',l)\n",
    "addedges(graph,'g','c',l)\n",
    "addedges(graph,'g','a',l)\n",
    "addedges(graph,'a','g',l)\n",
    "addedges(graph,'a','h',l)\n",
    "addedges(graph,'h','a',l)\n",
    "addedges(graph,'b','h',l)\n",
    "addedges(graph,'h','b',l)\n",
    "mou=[]\n",
    "mpr=printedges(graph)\n",
    "for hg in mpr:\n",
    "    if(hg not in mou):\n",
    "        mou.append(hg) \n",
    "        \n",
    "assert len(mou) == 24\n",
    "\n",
    "assert mou == [('a', 'b'), ('a', 'c'), ('a', 'g'), ('a', 'h'), ('b', 'a'), ('b', 'd'), ('b', 'f'), ('b', 'h'), \n",
    "               ('c', 'a'), ('c', 'd'), ('c', 'e'), ('c', 'g'), ('d', 'c'), ('d', 'b'), ('d', 'f'), ('d', 'e'), \n",
    "               ('f', 'd'), ('f', 'b'), ('e', 'c'), ('e', 'd'), ('g', 'c'), ('g', 'a'), ('h', 'a'), ('h', 'b')]\n",
    "\n",
    "print(\"ALL PASSED!\")"
   ]
  },
  {
   "cell_type": "markdown",
   "metadata": {
    "nbgrader": {
     "grade": false,
     "grade_id": "cell-dff2e28fb880162f",
     "locked": true,
     "schema_version": 3,
     "solution": false,
     "task": false
    }
   },
   "source": [
    "----\n",
    "## Exercise 2\n"
   ]
  },
  {
   "cell_type": "markdown",
   "metadata": {
    "nbgrader": {
     "grade": false,
     "grade_id": "cell-4892bae12752c1a6",
     "locked": true,
     "schema_version": 3,
     "solution": false,
     "task": false
    }
   },
   "source": [
    "Write a function to find all the paths of the graph from a vertex to another vertex and print all the paths between one vertex and another vertex.addedges() function is used to add the edges to the graph.printedges() function is used to print all the edges.find_all_paths() is used to find all the paths.\n",
    "\n",
    "Graph:\n",
    "\n",
    "          H\n",
    "         / \\\n",
    "        /   \\\n",
    "       A-----B\n",
    "      /|     | \\\n",
    "     / |     |  \\\n",
    "    G  |     |   F\n",
    "    \\  |     |   /\n",
    "     \\ |     |  /\n",
    "       C-----D \n",
    "       \\     /\n",
    "        \\   /\n",
    "          E\n",
    "\n",
    "Sample input:\n",
    "\n",
    "'a','f'\n",
    " \n",
    "Sample Output:\n",
    "\n",
    "['a', 'b', 'd', 'f'], ['a', 'b', 'f'], ['a', 'c', 'd', 'b', 'f'], ['a', 'c', 'd', 'f'], ['a', 'c', 'e', 'd', 'b', 'f'], \n",
    "['a', 'c', 'e', 'd', 'f'], ['a', 'g', 'c', 'd', 'b', 'f'], ['a', 'g', 'c', 'd', 'f'], ['a', 'g', 'c', 'e', 'd', 'b', 'f'], ['a', 'g', 'c', 'e', 'd', 'f'], ['a', 'h', 'b', 'd', 'f'], ['a', 'h', 'b', 'f']"
   ]
  },
  {
   "cell_type": "markdown",
   "metadata": {
    "nbgrader": {
     "grade": false,
     "grade_id": "cell-14222a78e27c0168",
     "locked": true,
     "schema_version": 3,
     "solution": false,
     "task": false
    }
   },
   "source": [
    "#### Code Cell\n",
    "Below is the code cell for **Exercise 2**. Type your code in the cell."
   ]
  },
  {
   "cell_type": "code",
   "execution_count": 3,
   "metadata": {
    "nbgrader": {
     "grade": false,
     "grade_id": "cell-95b9b126dd4a4a44",
     "locked": false,
     "schema_version": 3,
     "solution": true,
     "task": false
    }
   },
   "outputs": [],
   "source": [
    "def find_all_paths(graph, start, end,path =[]):\n",
    "    \n",
    "    ##your code here\n",
    "    ###BEGIN SOLUTION\n",
    "    \n",
    "    path = path + [start]\n",
    "    if start == end:\n",
    "        return [path]\n",
    "    paths = [] \n",
    "    for node in graph[start]:\n",
    "        if node not in path:\n",
    "            newpaths = find_all_paths(graph, node, end, path)\n",
    "            for newpath in newpaths:\n",
    "                paths.append(newpath)\n",
    "    return paths\n",
    "\n",
    "    ###END SOLUTION"
   ]
  },
  {
   "cell_type": "markdown",
   "metadata": {
    "nbgrader": {
     "grade": false,
     "grade_id": "cell-f0290bdd601846b7",
     "locked": true,
     "schema_version": 3,
     "solution": false,
     "task": false
    }
   },
   "source": [
    "#### Test Cases \n",
    "Run the below test cell to validate your code for **Exercise 2**. The cell has test cases your code should pass. Please do not modify the contents of this cell."
   ]
  },
  {
   "cell_type": "code",
   "execution_count": 4,
   "metadata": {
    "nbgrader": {
     "grade": true,
     "grade_id": "cell-f502e8909dcf6eb8",
     "locked": true,
     "points": 0,
     "schema_version": 3,
     "solution": false,
     "task": false
    }
   },
   "outputs": [
    {
     "name": "stdout",
     "output_type": "stream",
     "text": [
      "ALL PASSED!\n"
     ]
    }
   ],
   "source": [
    "l=[]\n",
    "addedges(graph,'a','b',l)\n",
    "addedges(graph,'b','a',l)\n",
    "addedges(graph,'a','c',l)\n",
    "addedges(graph,'c','a',l)\n",
    "addedges(graph,'c','d',l)\n",
    "addedges(graph,'d','c',l)\n",
    "addedges(graph,'b','d',l)\n",
    "addedges(graph,'d','b',l)\n",
    "addedges(graph,'d','f',l)\n",
    "addedges(graph,'f','d',l)\n",
    "addedges(graph,'b','f',l)\n",
    "addedges(graph,'f','b',l)\n",
    "addedges(graph,'c','e',l)\n",
    "addedges(graph,'e','c',l)\n",
    "addedges(graph,'e','d',l)\n",
    "addedges(graph,'d','e',l)\n",
    "addedges(graph,'c','g',l)\n",
    "addedges(graph,'g','c',l)\n",
    "addedges(graph,'g','a',l)\n",
    "addedges(graph,'a','g',l)\n",
    "addedges(graph,'a','h',l)\n",
    "addedges(graph,'h','a',l)\n",
    "addedges(graph,'b','h',l)\n",
    "addedges(graph,'h','b',l)\n",
    "res=[]\n",
    "msk=find_all_paths(graph,'a','f')\n",
    "for jlp in msk:\n",
    "    if(jlp not in res):\n",
    "        res.append(jlp)\n",
    "        \n",
    "assert len(res)==12\n",
    "\n",
    "assert res == [['a', 'b', 'd', 'f'], ['a', 'b', 'f'], ['a', 'c', 'd', 'b', 'f'], ['a', 'c', 'd', 'f'], \n",
    "               ['a', 'c', 'e', 'd', 'b', 'f'], ['a', 'c', 'e', 'd', 'f'], ['a', 'g', 'c', 'd', 'b', 'f'], \n",
    "               ['a', 'g', 'c', 'd', 'f'], ['a', 'g', 'c', 'e', 'd', 'b', 'f'], ['a', 'g', 'c', 'e', 'd', 'f'], \n",
    "               ['a', 'h', 'b', 'd', 'f'], ['a', 'h', 'b', 'f']]\n",
    "\n",
    "print(\"ALL PASSED!\")"
   ]
  },
  {
   "cell_type": "markdown",
   "metadata": {
    "nbgrader": {
     "grade": false,
     "grade_id": "cell-bceaf6168903ad92",
     "locked": true,
     "schema_version": 3,
     "solution": false,
     "task": false
    },
    "slideshow": {
     "slide_type": "notes"
    }
   },
   "source": [
    "----\n",
    "## Exercise 3\n"
   ]
  },
  {
   "cell_type": "markdown",
   "metadata": {
    "nbgrader": {
     "grade": false,
     "grade_id": "cell-b2d46caf29e3ec6a",
     "locked": true,
     "schema_version": 3,
     "solution": false,
     "task": false
    }
   },
   "source": [
    "Write a function to find  the shortest path of the graph from a vertex to another vertex and print the shortest path between one vertex and another vertex.addedges() function is used to add the edges to the graph.printedges() function is used to print all the edges.shortest_path() is used to find all the shortest paths.\n",
    "\n",
    "Graph:\n",
    "\n",
    "          H\n",
    "         / \\\n",
    "        /   \\\n",
    "       A-----B\n",
    "      /|     | \\\n",
    "     / |     |  \\\n",
    "    G  |     |   F\n",
    "    \\  |     |   /\n",
    "     \\ |     |  /\n",
    "       C-----D \n",
    "       \\     /\n",
    "        \\   /\n",
    "          E\n",
    "\n",
    "Sample input:\n",
    "\n",
    "'h','e'\n",
    " \n",
    "Sample Output:\n",
    "\n",
    "['h','a','c','e']"
   ]
  },
  {
   "cell_type": "markdown",
   "metadata": {
    "nbgrader": {
     "grade": false,
     "grade_id": "cell-5e7c3d6b5a65a6ad",
     "locked": true,
     "schema_version": 3,
     "solution": false,
     "task": false
    }
   },
   "source": [
    "#### Code Cell\n",
    "Below is the code cell for **Exercise 3**. Type your code in the cell."
   ]
  },
  {
   "cell_type": "code",
   "execution_count": 5,
   "metadata": {
    "nbgrader": {
     "grade": false,
     "grade_id": "cell-70a9b90a2f9fd107",
     "locked": false,
     "schema_version": 3,
     "solution": true,
     "task": false
    }
   },
   "outputs": [],
   "source": [
    "def shortest_path(graph,start,end,path=[]):\n",
    "    \n",
    "    ##your code here\n",
    "    ###BEGIN SOLUTION\n",
    "    \n",
    "    path = path + [start]\n",
    "    if start == end:\n",
    "        return [path]\n",
    "    paths = [] \n",
    "    ll=[]\n",
    "    for node in graph[start]:\n",
    "        if node not in path:\n",
    "            newpaths = find_all_paths(graph, node, end, path)\n",
    "            for newpath in newpaths:\n",
    "                ll.append(len(newpath))\n",
    "                paths.append(newpath)\n",
    "    return paths[ll.index(min(ll))]\n",
    "\n",
    "    ###END SOLUTION"
   ]
  },
  {
   "cell_type": "markdown",
   "metadata": {
    "nbgrader": {
     "grade": false,
     "grade_id": "cell-d7121632e26e5b24",
     "locked": true,
     "schema_version": 3,
     "solution": false,
     "task": false
    }
   },
   "source": [
    "#### Test Cases \n",
    "Run the below test cell to validate your code for **Exercise 3**. The cell has test cases your code should pass. Please do not modify the contents of this cell."
   ]
  },
  {
   "cell_type": "code",
   "execution_count": 6,
   "metadata": {
    "nbgrader": {
     "grade": true,
     "grade_id": "cell-33d4a01fd430ba7b",
     "locked": true,
     "points": 0,
     "schema_version": 3,
     "solution": false,
     "task": false
    }
   },
   "outputs": [
    {
     "name": "stdout",
     "output_type": "stream",
     "text": [
      "ALL PASSED!\n"
     ]
    }
   ],
   "source": [
    "l=[]\n",
    "addedges(graph,'a','b',l)\n",
    "addedges(graph,'b','a',l)\n",
    "addedges(graph,'a','c',l)\n",
    "addedges(graph,'c','a',l)\n",
    "addedges(graph,'c','d',l)\n",
    "addedges(graph,'d','c',l)\n",
    "addedges(graph,'b','d',l)\n",
    "addedges(graph,'d','b',l)\n",
    "addedges(graph,'d','f',l)\n",
    "addedges(graph,'f','d',l)\n",
    "addedges(graph,'b','f',l)\n",
    "addedges(graph,'f','b',l)\n",
    "addedges(graph,'c','e',l)\n",
    "addedges(graph,'e','c',l)\n",
    "addedges(graph,'e','d',l)\n",
    "addedges(graph,'d','e',l)\n",
    "addedges(graph,'c','g',l)\n",
    "addedges(graph,'g','c',l)\n",
    "addedges(graph,'g','a',l)\n",
    "addedges(graph,'a','g',l)\n",
    "addedges(graph,'a','h',l)\n",
    "addedges(graph,'h','a',l)\n",
    "addedges(graph,'b','h',l)\n",
    "addedges(graph,'h','b',l)\n",
    "assert len(l) == 48\n",
    "\n",
    "assert shortest_path(graph,'h','e') == ['h', 'a', 'c', 'e']\n",
    "\n",
    "print(\"ALL PASSED!\")"
   ]
  },
  {
   "cell_type": "markdown",
   "metadata": {
    "nbgrader": {
     "grade": false,
     "grade_id": "cell-2ce3a72b6ff22a58",
     "locked": true,
     "schema_version": 3,
     "solution": false,
     "task": false
    }
   },
   "source": [
    "----\n",
    "## Exercise 4"
   ]
  },
  {
   "cell_type": "markdown",
   "metadata": {
    "nbgrader": {
     "grade": false,
     "grade_id": "cell-b9c3edaa34d6959f",
     "locked": true,
     "schema_version": 3,
     "solution": false,
     "task": false
    }
   },
   "source": [
    "Write a function to delete a vertex of the graph.addedges() function is used to add the edges to the graph.printedges() function is used to print all the edges.delete() is used to delete the given vertex.\n",
    "\n",
    "Before deletion:\n",
    "\n",
    "          H\n",
    "         / \\\n",
    "        /   \\\n",
    "       A-----B\n",
    "      /|     | \\\n",
    "     / |     |  \\\n",
    "    G  |     |   F\n",
    "    \\  |     |   /\n",
    "     \\ |     |  /\n",
    "       C-----D \n",
    "       \\     /\n",
    "        \\   /\n",
    "          E\n",
    "      \n",
    "After deletion:\n",
    "\n",
    "          H\n",
    "         / \\\n",
    "        /   \\\n",
    "       A-----B\n",
    "      /|     | \\\n",
    "     / |     |  \\\n",
    "    G  |     |   F\n",
    "    \\  |     |   /\n",
    "     \\ |     |  /\n",
    "       C-----D \n",
    "\n",
    "Sample input:\n",
    "\n",
    "'b'\n",
    " \n",
    "Sample Output:\n",
    "\n",
    "shortest distance from 'h' to 'f' before deleting 'b' is ['h','b','f'].\n",
    "\n",
    "shortest distance from 'h' to 'f' after deleting 'b' is ['h','a','c','d','f']."
   ]
  },
  {
   "cell_type": "markdown",
   "metadata": {
    "nbgrader": {
     "grade": false,
     "grade_id": "cell-598f21fc0bf25770",
     "locked": true,
     "schema_version": 3,
     "solution": false,
     "task": false
    }
   },
   "source": [
    "#### Code Cell\n",
    "Below is the code cell for **Exercise 4**. Type your code in the cell."
   ]
  },
  {
   "cell_type": "code",
   "execution_count": 7,
   "metadata": {
    "nbgrader": {
     "grade": false,
     "grade_id": "cell-5d0ea47ca640c947",
     "locked": false,
     "schema_version": 3,
     "solution": true,
     "task": false
    }
   },
   "outputs": [],
   "source": [
    "def delete(graph,ch,lit):\n",
    "    \n",
    "    ##your code here\n",
    "    ###BEGIN SOLUTION\n",
    "    \n",
    "    del graph[ch]\n",
    "    rew=list(set(noel('h','b',lit)))\n",
    "    for pui in rew:\n",
    "        if(pui!=ch):\n",
    "            try:\n",
    "                graph[pui].pop(graph[pui].index(ch))\n",
    "            except:\n",
    "                pass\n",
    "            \n",
    "    ###END SOLUTION"
   ]
  },
  {
   "cell_type": "markdown",
   "metadata": {
    "nbgrader": {
     "grade": false,
     "grade_id": "cell-159515cfc361ad86",
     "locked": true,
     "schema_version": 3,
     "solution": false,
     "task": false
    }
   },
   "source": [
    "#### Test Cases\n",
    "Run the below test cell to validate your code for **Exercise 4**. The cell has test cases your code should pass. Please do not modify the contents of this cell."
   ]
  },
  {
   "cell_type": "code",
   "execution_count": 10,
   "metadata": {
    "nbgrader": {
     "grade": true,
     "grade_id": "cell-833f0ae200c2a3ea",
     "locked": true,
     "points": 0,
     "schema_version": 3,
     "solution": false,
     "task": false
    }
   },
   "outputs": [
    {
     "name": "stdout",
     "output_type": "stream",
     "text": [
      "ALL PASSED!\n"
     ]
    }
   ],
   "source": [
    "l=[]\n",
    "addedges(graph,'a','b',l)\n",
    "addedges(graph,'b','a',l)\n",
    "addedges(graph,'a','c',l)\n",
    "addedges(graph,'c','a',l)\n",
    "addedges(graph,'c','d',l)\n",
    "addedges(graph,'d','c',l)\n",
    "addedges(graph,'b','d',l)\n",
    "addedges(graph,'d','b',l)\n",
    "addedges(graph,'d','f',l)\n",
    "addedges(graph,'f','d',l)\n",
    "addedges(graph,'b','f',l)\n",
    "addedges(graph,'f','b',l)\n",
    "addedges(graph,'c','e',l)\n",
    "addedges(graph,'e','c',l)\n",
    "addedges(graph,'e','d',l)\n",
    "addedges(graph,'d','e',l)\n",
    "addedges(graph,'c','g',l)\n",
    "addedges(graph,'g','c',l)\n",
    "addedges(graph,'g','a',l)\n",
    "addedges(graph,'a','g',l)\n",
    "addedges(graph,'a','h',l)\n",
    "addedges(graph,'h','a',l)\n",
    "addedges(graph,'b','h',l)\n",
    "addedges(graph,'h','b',l)\n",
    "assert shortest_path(graph,'h','f')==['h', 'b', 'f']\n",
    "\n",
    "delete(graph,'b',l)\n",
    "assert len(l) == 50\n",
    "\n",
    "assert shortest_path(graph,'h','f')==['h', 'a', 'c', 'd', 'f']\n",
    "\n",
    "print(\"ALL PASSED!\")"
   ]
  },
  {
   "cell_type": "markdown",
   "metadata": {
    "nbgrader": {
     "grade": false,
     "grade_id": "cell-22d7c8bd6a1de0b1",
     "locked": true,
     "schema_version": 3,
     "solution": false,
     "task": false
    }
   },
   "source": [
    "----\n",
    "## Exercise 5"
   ]
  },
  {
   "cell_type": "markdown",
   "metadata": {
    "nbgrader": {
     "grade": false,
     "grade_id": "cell-a0d3db0d3c20d7e3",
     "locked": true,
     "schema_version": 3,
     "solution": false,
     "task": false
    }
   },
   "source": [
    "Write a function to find  the Largest path of the graph from a vertex to another vertex and print the largest path between one vertex and another vertex.addedges() function is used to add the edges to the graph.printedges() function is used to print all the edges.large() is used to find all the largest paths.\n",
    "\n",
    "Graph:\n",
    "\n",
    "          H\n",
    "         / \\\n",
    "        /   \\\n",
    "       A-----B\n",
    "      /|     | \\\n",
    "     / |     |  \\\n",
    "    G  |     |   F\n",
    "    \\  |     |   /\n",
    "     \\ |     |  /\n",
    "       C-----D \n",
    "       \\     /\n",
    "        \\   /\n",
    "          E\n",
    "\n",
    "Sample input:\n",
    "\n",
    "'a','f'\n",
    " \n",
    "Sample Output:\n",
    "\n",
    "['a', 'g', 'c', 'e', 'd', 'b', 'f']"
   ]
  },
  {
   "cell_type": "markdown",
   "metadata": {
    "nbgrader": {
     "grade": false,
     "grade_id": "cell-8c18e42178885a0a",
     "locked": true,
     "schema_version": 3,
     "solution": false,
     "task": false
    }
   },
   "source": [
    "#### Code Cell\n",
    "Below is the code cell for **Exercise 5**. Type your code in the cell."
   ]
  },
  {
   "cell_type": "code",
   "execution_count": 11,
   "metadata": {
    "nbgrader": {
     "grade": false,
     "grade_id": "cell-658b3178f675dcb0",
     "locked": false,
     "schema_version": 3,
     "solution": true,
     "task": false
    }
   },
   "outputs": [],
   "source": [
    "def large(graph,lo,lu):\n",
    "    \n",
    "    ##your code here\n",
    "    ###BEGIN SOLUTION\n",
    "    \n",
    "    htr=find_all_paths(graph,lo,lu)\n",
    "    liuy=[]\n",
    "    for uj in htr:\n",
    "        liuy.append(len(uj))\n",
    "    return htr[liuy.index(max(liuy))]\n",
    "\n",
    "    ###END SOLUTION"
   ]
  },
  {
   "cell_type": "markdown",
   "metadata": {
    "nbgrader": {
     "grade": false,
     "grade_id": "cell-827fe78d346f7bc3",
     "locked": true,
     "schema_version": 3,
     "solution": false,
     "task": false
    }
   },
   "source": [
    "#### Test Cases\n",
    "Run the below test cell to validate your code for **Exercise 5**. The cell has test cases your code should pass. Please do not modify the contents of this cell."
   ]
  },
  {
   "cell_type": "code",
   "execution_count": 12,
   "metadata": {
    "nbgrader": {
     "grade": true,
     "grade_id": "cell-6344067b20760ae0",
     "locked": true,
     "points": 0,
     "schema_version": 3,
     "solution": false,
     "task": false
    }
   },
   "outputs": [
    {
     "name": "stdout",
     "output_type": "stream",
     "text": [
      "ALL PASSED!\n"
     ]
    }
   ],
   "source": [
    "l=[]\n",
    "addedges(graph,'a','b',l)\n",
    "addedges(graph,'b','a',l)\n",
    "addedges(graph,'a','c',l)\n",
    "addedges(graph,'c','a',l)\n",
    "addedges(graph,'c','d',l)\n",
    "addedges(graph,'d','c',l)\n",
    "addedges(graph,'b','d',l)\n",
    "addedges(graph,'d','b',l)\n",
    "addedges(graph,'d','f',l)\n",
    "addedges(graph,'f','d',l)\n",
    "addedges(graph,'b','f',l)\n",
    "addedges(graph,'f','b',l)\n",
    "addedges(graph,'c','e',l)\n",
    "addedges(graph,'e','c',l)\n",
    "addedges(graph,'e','d',l)\n",
    "addedges(graph,'d','e',l)\n",
    "addedges(graph,'c','g',l)\n",
    "addedges(graph,'g','c',l)\n",
    "addedges(graph,'g','a',l)\n",
    "addedges(graph,'a','g',l)\n",
    "addedges(graph,'a','h',l)\n",
    "addedges(graph,'h','a',l)\n",
    "addedges(graph,'b','h',l)\n",
    "addedges(graph,'h','b',l)\n",
    "assert len(large(graph,'h','e')) == 7\n",
    "\n",
    "assert large(graph,'h','e') == ['h', 'a', 'b', 'f', 'd', 'c', 'e']\n",
    "\n",
    "print(\"ALL PASSED!\")"
   ]
  }
 ],
 "metadata": {
  "celltoolbar": "Create Assignment",
  "kernelspec": {
   "display_name": "Python 3",
   "language": "python",
   "name": "python3"
  },
  "language_info": {
   "codemirror_mode": {
    "name": "ipython",
    "version": 3
   },
   "file_extension": ".py",
   "mimetype": "text/x-python",
   "name": "python",
   "nbconvert_exporter": "python",
   "pygments_lexer": "ipython3",
   "version": "3.7.6"
  },
  "varInspector": {
   "cols": {
    "lenName": 16,
    "lenType": 16,
    "lenVar": 40
   },
   "kernels_config": {
    "python": {
     "delete_cmd_postfix": "",
     "delete_cmd_prefix": "del ",
     "library": "var_list.py",
     "varRefreshCmd": "print(var_dic_list())"
    },
    "r": {
     "delete_cmd_postfix": ") ",
     "delete_cmd_prefix": "rm(",
     "library": "var_list.r",
     "varRefreshCmd": "cat(var_dic_list()) "
    }
   },
   "types_to_exclude": [
    "module",
    "function",
    "builtin_function_or_method",
    "instance",
    "_Feature"
   ],
   "window_display": true
  }
 },
 "nbformat": 4,
 "nbformat_minor": 4
}
