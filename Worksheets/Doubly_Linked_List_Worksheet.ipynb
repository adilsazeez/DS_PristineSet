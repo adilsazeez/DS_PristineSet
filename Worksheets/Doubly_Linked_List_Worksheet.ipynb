{
 "cells": [
  {
   "cell_type": "markdown",
   "metadata": {
    "nbgrader": {
     "grade": false,
     "grade_id": "cell-a06c2a89e35fc23b",
     "locked": true,
     "schema_version": 3,
     "solution": false,
     "task": false
    }
   },
   "source": [
    "# *Doubly_Linked_List*\n",
    "\n",
    "**Prerequisites**: [*Concepts of Linked list,doubly linked list and its operations*]"
   ]
  },
  {
   "cell_type": "markdown",
   "metadata": {
    "nbgrader": {
     "grade": false,
     "grade_id": "cell-ce541bd00358e28a",
     "locked": true,
     "schema_version": 3,
     "solution": false,
     "task": false
    }
   },
   "source": [
    "## Exercise 1"
   ]
  },
  {
   "cell_type": "markdown",
   "metadata": {
    "nbgrader": {
     "grade": false,
     "grade_id": "cell-19386d68348e2f7f",
     "locked": true,
     "schema_version": 3,
     "solution": false,
     "task": false
    }
   },
   "source": [
    "Write an efficient program to perform linked list operations i.e,to check wheather the list is empty,inserting a node to the head and tail of linked list and to delete a node at the head and tail of the linked list.  \n",
    "\n",
    "Sample input:\n",
    "\n",
    "inserthead(1)\n",
    "inserthead(2)\n",
    "inserttail(3)\n",
    "inserttail(4)\n",
    "\n",
    "Sample output:\n",
    "\n",
    "[2, 1, 3, 4]\n",
    "    \n",
    "Explanation:\n",
    "\n",
    "After step1: 1\n",
    "\n",
    "After step2: 2 1\n",
    "\n",
    "After step3: 2 1 3\n",
    "\n",
    "After step4: 2 1 3 4\n",
    " \n",
    "The resulting list is [2, 1, 3, 4]"
   ]
  },
  {
   "cell_type": "markdown",
   "metadata": {
    "nbgrader": {
     "grade": false,
     "grade_id": "cell-af5827c5db735b45",
     "locked": true,
     "schema_version": 3,
     "solution": false,
     "task": false
    }
   },
   "source": [
    "#### Code Cell\n",
    "Below is the code cell for **Exercise 1**. Type in your code in the cell. "
   ]
  },
  {
   "cell_type": "code",
   "execution_count": 1,
   "metadata": {
    "nbgrader": {
     "grade": false,
     "grade_id": "cell-2ec62f126b24dfbd",
     "locked": false,
     "schema_version": 3,
     "solution": true,
     "task": false
    }
   },
   "outputs": [],
   "source": [
    "class Node:\n",
    "    \n",
    "    def __init__(self,data):\n",
    "        self.data=data\n",
    "        self.previous=None\n",
    "        self.next=None\n",
    "        \n",
    "class linkedlist:\n",
    "    \n",
    "    #your code here\n",
    "    ###BEGIN SOLUTION\n",
    "    \n",
    "    def __init__(self):\n",
    "        self.head=None\n",
    "        self.tail=None\n",
    "        \n",
    "    def isempty(self):\n",
    "        if(self.head==None):\n",
    "            return True\n",
    "        else:\n",
    "            return False\n",
    "        \n",
    "    def inserthead(self,key):\n",
    "        if(self.isempty()):\n",
    "            self.head=self.tail=Node(key)\n",
    "        else:\n",
    "            tmp=Node(key)\n",
    "            self.head.previous=tmp\n",
    "            tmp.next=self.head\n",
    "            self.head=tmp\n",
    "            \n",
    "    def length(self):\n",
    "        tmp=self.head\n",
    "        co=0\n",
    "        while(tmp is not None):\n",
    "            co+=1\n",
    "            tmp=tmp.next\n",
    "        return co\n",
    "    \n",
    "    def inserttail(self,key):\n",
    "        tmp=Node(key)\n",
    "        self.tail.next=tmp\n",
    "        tmp.previous=self.tail\n",
    "        self.tail=tmp\n",
    "        \n",
    "    def deletehead(self):\n",
    "        temp = self.head\n",
    "        self.head = self.head.next \n",
    "        if self.head is None:\n",
    "            self.tail = None \n",
    "        else:\n",
    "            self.head.previous = None\n",
    "        return temp\n",
    "    \n",
    "    def deletetail(self):\n",
    "        temp = self.tail\n",
    "        if self.tail is None:\n",
    "            self.head = None  \n",
    "        elif self.tail.previous == None:\n",
    "            self.tail = None\n",
    "            self.head = None\n",
    "        else:\n",
    "            self.tail = self.tail.previous\n",
    "            self.tail.next = None \n",
    "            \n",
    "    def display(self):\n",
    "        tmp=self.head\n",
    "        co=0\n",
    "        a=[]\n",
    "        while tmp is not None:\n",
    "            a.append(tmp.data)\n",
    "            tmp=tmp.next\n",
    "            co+=1\n",
    "        if(co>0):\n",
    "            return(a)\n",
    "        \n",
    "    ###END SOLUTION"
   ]
  },
  {
   "cell_type": "markdown",
   "metadata": {
    "nbgrader": {
     "grade": false,
     "grade_id": "cell-c9984f83c9dd503c",
     "locked": true,
     "schema_version": 3,
     "solution": false,
     "task": false
    }
   },
   "source": [
    "#### Test Cases \n",
    "Run the below test cell to validate your code for **Exercise 1**. The cell has test cases your code should pass. Please do not modify the contents of this cell."
   ]
  },
  {
   "cell_type": "code",
   "execution_count": 2,
   "metadata": {
    "nbgrader": {
     "grade": true,
     "grade_id": "cell-933483ef34527a9c",
     "locked": true,
     "points": 0,
     "schema_version": 3,
     "solution": false,
     "task": false
    }
   },
   "outputs": [
    {
     "name": "stdout",
     "output_type": "stream",
     "text": [
      "ALL PASSED!\n"
     ]
    }
   ],
   "source": [
    "ll=linkedlist()\n",
    "ll.inserthead(1)\n",
    "ll.inserthead(2)\n",
    "ll.inserttail(3)\n",
    "ll.inserttail(4)\n",
    "\n",
    "assert ll.display() == [2, 1, 3, 4]\n",
    "\n",
    "ll.deletehead()\n",
    "ll.deletetail()\n",
    "ll.deletetail()\n",
    "ll.deletetail()\n",
    "\n",
    "assert ll.isempty() == True\n",
    "\n",
    "ll.inserthead(7)\n",
    "assert ll.display() == [7]\n",
    "\n",
    "print(\"ALL PASSED!\")"
   ]
  },
  {
   "cell_type": "markdown",
   "metadata": {
    "nbgrader": {
     "grade": false,
     "grade_id": "cell-dff2e28fb880162f",
     "locked": true,
     "schema_version": 3,
     "solution": false,
     "task": false
    }
   },
   "source": [
    "----\n",
    "## Exercise 2\n"
   ]
  },
  {
   "cell_type": "markdown",
   "metadata": {
    "nbgrader": {
     "grade": false,
     "grade_id": "cell-4892bae12752c1a6",
     "locked": true,
     "schema_version": 3,
     "solution": false,
     "task": false
    }
   },
   "source": [
    "Write a function to check whether the nodes in the linked list are palindrome or not?\n",
    "\n",
    "Sample Input:\n",
    "\n",
    "R\n",
    "\n",
    "A\n",
    "\n",
    "D\n",
    "\n",
    "A\n",
    "\n",
    "R\n",
    "    \n",
    "Sample output:\n",
    "\n",
    "True\n",
    "    \n",
    "Explanation:\n",
    "\n",
    "if you reverse the input \"RADAR\" you will get the same \"RADAR\" so it is palindrome and returns 'True'.\n"
   ]
  },
  {
   "cell_type": "markdown",
   "metadata": {
    "nbgrader": {
     "grade": false,
     "grade_id": "cell-14222a78e27c0168",
     "locked": true,
     "schema_version": 3,
     "solution": false,
     "task": false
    }
   },
   "source": [
    "#### Code Cell\n",
    "Below is the code cell for **Exercise 2**. Type your code in the cell."
   ]
  },
  {
   "cell_type": "code",
   "execution_count": 93,
   "metadata": {
    "nbgrader": {
     "grade": false,
     "grade_id": "cell-95b9b126dd4a4a44",
     "locked": false,
     "schema_version": 3,
     "solution": true,
     "task": false
    }
   },
   "outputs": [],
   "source": [
    "class Node:\n",
    "    \n",
    "    def __init__(self,data):\n",
    "        self.data=data\n",
    "        self.previous=None\n",
    "        self.next=None\n",
    "        \n",
    "class linkedlist:\n",
    "    \n",
    "    ##your code here\n",
    "    ###BEGIN SOLUTION\n",
    "    \n",
    "    def __init__(self):\n",
    "        self.head=None\n",
    "        self.tail=None\n",
    "        \n",
    "    def push(self,data):\n",
    "        if(self.head==None):\n",
    "            self.head=self.tail=Node(data)\n",
    "            self.tail.previous=None\n",
    "            self.tail.next=None\n",
    "        else:\n",
    "            newNode=Node(data)\n",
    "            self.tail.next = newNode;   \n",
    "            newNode.previous = self.tail;    \n",
    "            self.tail = newNode;\n",
    "            self.tail.next = None;  \n",
    "            \n",
    "    def length(self):\n",
    "        tmp=self.head\n",
    "        co=0\n",
    "        while(tmp is not None):\n",
    "            co+=1\n",
    "            tmp=tmp.next\n",
    "        return co\n",
    "    \n",
    "    def ispalindrome(self,k):\n",
    "        co=0\n",
    "        var1=self.head\n",
    "        var2=self.tail\n",
    "        while(co<k):\n",
    "            if(var1.data==var2.data):\n",
    "                var1=var1.next\n",
    "                var2=var2.previous\n",
    "                co+=1\n",
    "            else:\n",
    "                return False\n",
    "                break\n",
    "        if(co==k):\n",
    "            return True\n",
    "        \n",
    "    ###END SOLUTION"
   ]
  },
  {
   "cell_type": "markdown",
   "metadata": {
    "nbgrader": {
     "grade": false,
     "grade_id": "cell-f0290bdd601846b7",
     "locked": true,
     "schema_version": 3,
     "solution": false,
     "task": false
    }
   },
   "source": [
    "#### Test Cases \n",
    "Run the below test cell to validate your code for **Exercise 2**. The cell has test cases your code should pass. Please do not modify the contents of this cell."
   ]
  },
  {
   "cell_type": "code",
   "execution_count": 94,
   "metadata": {
    "nbgrader": {
     "grade": true,
     "grade_id": "cell-f502e8909dcf6eb8",
     "locked": true,
     "points": 0,
     "schema_version": 3,
     "solution": false,
     "task": false
    }
   },
   "outputs": [
    {
     "name": "stdout",
     "output_type": "stream",
     "text": [
      "ALL PASSED!\n"
     ]
    }
   ],
   "source": [
    "l=linkedlist()\n",
    "l.push(\"R\")\n",
    "l.push(\"A\")\n",
    "l.push(\"D\")\n",
    "l.push(\"A\")\n",
    "l.push(\"R\")\n",
    "k=l.length()//2\n",
    "assert l.ispalindrome(k) == True\n",
    "\n",
    "l=linkedlist()\n",
    "l.push(\"M\")\n",
    "l.push(\"A\")\n",
    "l.push(\"D\")\n",
    "l.push(\"A\")\n",
    "l.push(\"M\")\n",
    "k=l.length()//2\n",
    "assert l.ispalindrome(k) == True\n",
    "\n",
    "l=linkedlist()\n",
    "l.push(\"A\")\n",
    "l.push(\"D\")\n",
    "l.push(\"A\")\n",
    "l.push(\"M\")\n",
    "k=l.length()//2\n",
    "assert l.ispalindrome(k) == False\n",
    "\n",
    "print(\"ALL PASSED!\")"
   ]
  },
  {
   "cell_type": "markdown",
   "metadata": {
    "nbgrader": {
     "grade": false,
     "grade_id": "cell-bceaf6168903ad92",
     "locked": true,
     "schema_version": 3,
     "solution": false,
     "task": false
    },
    "slideshow": {
     "slide_type": "notes"
    }
   },
   "source": [
    "----\n",
    "## Exercise 3\n"
   ]
  },
  {
   "cell_type": "markdown",
   "metadata": {
    "nbgrader": {
     "grade": false,
     "grade_id": "cell-b2d46caf29e3ec6a",
     "locked": true,
     "schema_version": 3,
     "solution": false,
     "task": false
    }
   },
   "source": [
    "Write a function to rotate the linked list.\n",
    "\n",
    "Sample input:\n",
    "\n",
    "1\n",
    "\n",
    "4\n",
    "\n",
    "3\n",
    "\n",
    "2\n",
    "\n",
    "1\n",
    "\n",
    "9\n",
    "\n",
    "11\n",
    "    \n",
    "Sample Output:\n",
    " \n",
    "[3, 2, 1, 9, 11, 4]\n",
    "\n",
    "Explanation:\n",
    "\n",
    "when the inp = 1, every element in the list rotates once."
   ]
  },
  {
   "cell_type": "markdown",
   "metadata": {
    "nbgrader": {
     "grade": false,
     "grade_id": "cell-5e7c3d6b5a65a6ad",
     "locked": true,
     "schema_version": 3,
     "solution": false,
     "task": false
    }
   },
   "source": [
    "#### Code Cell\n",
    "Below is the code cell for **Exercise 3**. Type your code in the cell."
   ]
  },
  {
   "cell_type": "code",
   "execution_count": 95,
   "metadata": {
    "nbgrader": {
     "grade": false,
     "grade_id": "cell-70a9b90a2f9fd107",
     "locked": false,
     "schema_version": 3,
     "solution": true,
     "task": false
    }
   },
   "outputs": [],
   "source": [
    "class Node:\n",
    "    \n",
    "    def __init__(self,data):\n",
    "        self.data=data\n",
    "        self.previous=None\n",
    "        self.next=None\n",
    "        \n",
    "class linkedlist:\n",
    "    \n",
    "    ##your code here\n",
    "    ###BEGIN SOLUTION\n",
    "    \n",
    "    def __init__(self):\n",
    "        self.head=None\n",
    "        self.tail=None\n",
    "        \n",
    "    def push(self,data):\n",
    "        if(self.head==None):\n",
    "            self.head=self.tail=Node(data)\n",
    "            self.tail.previous=None\n",
    "            self.tail.next=None\n",
    "        else:\n",
    "            newNode=Node(data)\n",
    "            self.tail.next = newNode;   \n",
    "            newNode.previous = self.tail;    \n",
    "            self.tail = newNode;\n",
    "            self.tail.next = None; \n",
    "            \n",
    "    def length(self):\n",
    "        tmp=self.head\n",
    "        co=0\n",
    "        while(tmp is not None):\n",
    "            co+=1\n",
    "            tmp=tmp.next\n",
    "        return co\n",
    "    \n",
    "    def rotate(self,n):\n",
    "        current = self.head;\n",
    "        if(n>=self.length()):\n",
    "            return False\n",
    "        for i in range(0,n-1):\n",
    "            current=current.next\n",
    "        self.tail.next=self.head\n",
    "        self.head=current.next\n",
    "        current.previous=None\n",
    "        self.tail=current\n",
    "        self.tail.next=None\n",
    "        return True\n",
    "    \n",
    "    def display(self):\n",
    "        tmp=self.head\n",
    "        a=[]\n",
    "        while tmp is not None:\n",
    "            a.append(tmp.data)\n",
    "            tmp=tmp.next\n",
    "        return(a)\n",
    "    \n",
    "    ###END SOLUTION"
   ]
  },
  {
   "cell_type": "markdown",
   "metadata": {
    "nbgrader": {
     "grade": false,
     "grade_id": "cell-d7121632e26e5b24",
     "locked": true,
     "schema_version": 3,
     "solution": false,
     "task": false
    }
   },
   "source": [
    "#### Test Cases \n",
    "Run the below test cell to validate your code for **Exercise 3**. The cell has test cases your code should pass. Please do not modify the contents of this cell."
   ]
  },
  {
   "cell_type": "code",
   "execution_count": 96,
   "metadata": {
    "nbgrader": {
     "grade": true,
     "grade_id": "cell-33d4a01fd430ba7b",
     "locked": true,
     "points": 0,
     "schema_version": 3,
     "solution": false,
     "task": false
    }
   },
   "outputs": [
    {
     "name": "stdout",
     "output_type": "stream",
     "text": [
      "ALL PASSED!\n"
     ]
    }
   ],
   "source": [
    "l=linkedlist()\n",
    "l.push(4)\n",
    "l.push(3)\n",
    "l.push(2)\n",
    "l.push(1)\n",
    "l.push(9)\n",
    "l.push(11)\n",
    "inp=1\n",
    "assert l.rotate(inp) == True\n",
    "\n",
    "assert l.display() == [3, 2, 1, 9, 11, 4]\n",
    "\n",
    "l=linkedlist()\n",
    "l.push(1)\n",
    "l.push(2)\n",
    "l.push(3)\n",
    "inp=5\n",
    "assert l.rotate(inp) == False\n",
    "\n",
    "print(\"ALL PASSED!\")"
   ]
  },
  {
   "cell_type": "markdown",
   "metadata": {
    "nbgrader": {
     "grade": false,
     "grade_id": "cell-2ce3a72b6ff22a58",
     "locked": true,
     "schema_version": 3,
     "solution": false,
     "task": false
    }
   },
   "source": [
    "----\n",
    "## Exercise 4"
   ]
  },
  {
   "cell_type": "markdown",
   "metadata": {
    "nbgrader": {
     "grade": false,
     "grade_id": "cell-b9c3edaa34d6959f",
     "locked": true,
     "schema_version": 3,
     "solution": false,
     "task": false
    }
   },
   "source": [
    "Write a function to check whether the given data in linked list is sorted or not.\n",
    "\n",
    "Sample input:\n",
    "\n",
    "1\n",
    "\n",
    "2\n",
    "\n",
    "3\n",
    "\n",
    "4\n",
    "\n",
    "Sample output:\n",
    "\n",
    "True\n",
    "\n",
    "Explanation:\n",
    "\n",
    "All the elements in the list are in ascending order and hence it is sorted.Therefore returns 'True'."
   ]
  },
  {
   "cell_type": "markdown",
   "metadata": {
    "nbgrader": {
     "grade": false,
     "grade_id": "cell-598f21fc0bf25770",
     "locked": true,
     "schema_version": 3,
     "solution": false,
     "task": false
    }
   },
   "source": [
    "#### Code Cell\n",
    "Below is the code cell for **Exercise 4**. Type your code in the cell."
   ]
  },
  {
   "cell_type": "code",
   "execution_count": 97,
   "metadata": {
    "nbgrader": {
     "grade": false,
     "grade_id": "cell-5d0ea47ca640c947",
     "locked": false,
     "schema_version": 3,
     "solution": true,
     "task": false
    }
   },
   "outputs": [],
   "source": [
    "class Node:\n",
    "    \n",
    "    def __init__(self,data):\n",
    "        self.data=data\n",
    "        self.previous=None\n",
    "        self.next=None\n",
    "        \n",
    "class linkedlist:\n",
    "    \n",
    "    def __init__(self):\n",
    "        self.head=None\n",
    "        self.tail=None\n",
    "    \n",
    "    ##your code here\n",
    "    ###BEGIN SOLUTION\n",
    "    \n",
    "    def push(self,data):\n",
    "        if(self.head==None):\n",
    "            self.head=self.tail=Node(data)\n",
    "            self.tail.previous=None\n",
    "            self.tail.next=None\n",
    "        else:\n",
    "            newNode=Node(data)\n",
    "            self.tail.next = newNode;   \n",
    "            newNode.previous = self.tail;    \n",
    "            self.tail = newNode;\n",
    "            self.tail.next = None;\n",
    "            \n",
    "    def length(self):\n",
    "        tmp=self.head\n",
    "        co=0\n",
    "        while(tmp is not None):\n",
    "            co+=1\n",
    "            tmp=tmp.next\n",
    "        return co\n",
    "    \n",
    "    def checksorted(self):\n",
    "        tmp=self.head\n",
    "        co=0\n",
    "        while(co<self.length()-1):\n",
    "            if(tmp.data<=tmp.next.data):\n",
    "                tmp=tmp.next\n",
    "                co+=1\n",
    "            else:\n",
    "                return False\n",
    "                break\n",
    "        if(co==self.length()-1):\n",
    "            return True\n",
    "        \n",
    "    ###END SOLUTION"
   ]
  },
  {
   "cell_type": "markdown",
   "metadata": {
    "nbgrader": {
     "grade": false,
     "grade_id": "cell-159515cfc361ad86",
     "locked": true,
     "schema_version": 3,
     "solution": false,
     "task": false
    }
   },
   "source": [
    "#### Test Cases\n",
    "Run the below test cell to validate your code for **Exercise 4**. The cell has test cases your code should pass. Please do not modify the contents of this cell."
   ]
  },
  {
   "cell_type": "code",
   "execution_count": 99,
   "metadata": {
    "nbgrader": {
     "grade": true,
     "grade_id": "cell-833f0ae200c2a3ea",
     "locked": true,
     "points": 0,
     "schema_version": 3,
     "solution": false,
     "task": false
    }
   },
   "outputs": [
    {
     "name": "stdout",
     "output_type": "stream",
     "text": [
      "ALL PASSED!\n"
     ]
    }
   ],
   "source": [
    "l=linkedlist()\n",
    "l.push(1)\n",
    "l.push(2)\n",
    "l.push(3)\n",
    "l.push(4)\n",
    "assert l.checksorted() == True\n",
    "\n",
    "l=linkedlist()\n",
    "l.push(9)\n",
    "l.push(2)\n",
    "l.push(10)\n",
    "l.push(22)\n",
    "assert l.checksorted() == False\n",
    "\n",
    "print(\"ALL PASSED!\")"
   ]
  },
  {
   "cell_type": "markdown",
   "metadata": {
    "nbgrader": {
     "grade": false,
     "grade_id": "cell-22d7c8bd6a1de0b1",
     "locked": true,
     "schema_version": 3,
     "solution": false,
     "task": false
    }
   },
   "source": [
    "----\n",
    "## Exercise 5"
   ]
  },
  {
   "cell_type": "markdown",
   "metadata": {
    "nbgrader": {
     "grade": false,
     "grade_id": "cell-9847049ce109fa54",
     "locked": true,
     "schema_version": 3,
     "solution": false,
     "task": false
    }
   },
   "source": [
    "Write a function to sort the given elements in the linked list using bubble sort algorithm.\n",
    "\n",
    "Sample input:\n",
    "\n",
    "5\n",
    "\n",
    "4\n",
    "\n",
    "3\n",
    "\n",
    "2\n",
    "\n",
    "Sample output: \n",
    "\n",
    "[2, 3, 4, 5]"
   ]
  },
  {
   "cell_type": "markdown",
   "metadata": {
    "nbgrader": {
     "grade": false,
     "grade_id": "cell-8c18e42178885a0a",
     "locked": true,
     "schema_version": 3,
     "solution": false,
     "task": false
    }
   },
   "source": [
    "#### Code Cell\n",
    "Below is the code cell for **Exercise 5**. Type your code in the cell."
   ]
  },
  {
   "cell_type": "code",
   "execution_count": 115,
   "metadata": {
    "nbgrader": {
     "grade": false,
     "grade_id": "cell-658b3178f675dcb0",
     "locked": false,
     "schema_version": 3,
     "solution": true,
     "task": false
    }
   },
   "outputs": [],
   "source": [
    "class Node:\n",
    "    \n",
    "    def __init__(self,data):\n",
    "        self.data=data\n",
    "        self.previous=None\n",
    "        self.next=None\n",
    "        \n",
    "class linkedlist:\n",
    "    \n",
    "    ##your code here\n",
    "    ###BEGIN SOLUTION\n",
    "    \n",
    "    def __init__(self):\n",
    "        self.head=None\n",
    "        self.tail=None\n",
    "        \n",
    "    def push(self,data):\n",
    "        if(self.head==None):\n",
    "            self.head=self.tail=Node(data)\n",
    "            self.tail.previous=None\n",
    "            self.tail.next=None\n",
    "        else:\n",
    "            newNode=Node(data)\n",
    "            self.tail.next = newNode;   \n",
    "            newNode.previous = self.tail;    \n",
    "            self.tail = newNode;\n",
    "            self.tail.next = None;\n",
    "            \n",
    "    def length(self):\n",
    "        tmp=self.head\n",
    "        co=0\n",
    "        while(tmp is not None):\n",
    "            co+=1\n",
    "            tmp=tmp.next\n",
    "        return co\n",
    "    \n",
    "    def sortll(self):\n",
    "        for i in range(0,self.length()):\n",
    "            swap=0\n",
    "            temp=self.head\n",
    "            for j in range(0,self.length()-i-1):\n",
    "                if(temp.data>temp.next.data):\n",
    "                    sk=temp.data\n",
    "                    temp.data=temp.next.data\n",
    "                    temp.next.data=sk\n",
    "                    temp=temp.next\n",
    "                    swap=1\n",
    "                else:\n",
    "                    temp=temp.next\n",
    "            if(swap==0):\n",
    "                break\n",
    "        return True\n",
    "    \n",
    "    def display(self):\n",
    "        a=[]\n",
    "        tmp=self.head\n",
    "        while tmp is not None:\n",
    "            a.append(tmp.data)\n",
    "            tmp=tmp.next\n",
    "        return(a)\n",
    "    ###END SOLUTION"
   ]
  },
  {
   "cell_type": "markdown",
   "metadata": {
    "nbgrader": {
     "grade": false,
     "grade_id": "cell-827fe78d346f7bc3",
     "locked": true,
     "schema_version": 3,
     "solution": false,
     "task": false
    }
   },
   "source": [
    "#### Test Cases\n",
    "Run the below test cell to validate your code for **Exercise 5**. The cell has test cases your code should pass. Please do not modify the contents of this cell."
   ]
  },
  {
   "cell_type": "code",
   "execution_count": 116,
   "metadata": {
    "nbgrader": {
     "grade": true,
     "grade_id": "cell-6344067b20760ae0",
     "locked": true,
     "points": 0,
     "schema_version": 3,
     "solution": false,
     "task": false
    }
   },
   "outputs": [
    {
     "name": "stdout",
     "output_type": "stream",
     "text": [
      "ALL PASSED!\n"
     ]
    }
   ],
   "source": [
    "l=linkedlist()\n",
    "l.push(5)\n",
    "l.push(4)\n",
    "l.push(3)\n",
    "l.push(2)\n",
    "l.sortll()\n",
    "assert l.length() == 4\n",
    "\n",
    "assert l.display() == [2, 3, 4, 5]\n",
    "\n",
    "l=linkedlist()\n",
    "l.push(19)\n",
    "l.push(15)\n",
    "l.push(34)\n",
    "l.push(21)\n",
    "l.push(100)\n",
    "l.sortll()\n",
    "assert l.length() == 5\n",
    "\n",
    "assert l.display() == [15, 19, 21, 34, 100]\n",
    "\n",
    "print(\"ALL PASSED!\")"
   ]
  }
 ],
 "metadata": {
  "celltoolbar": "Create Assignment",
  "kernelspec": {
   "display_name": "Python 3",
   "language": "python",
   "name": "python3"
  },
  "language_info": {
   "codemirror_mode": {
    "name": "ipython",
    "version": 3
   },
   "file_extension": ".py",
   "mimetype": "text/x-python",
   "name": "python",
   "nbconvert_exporter": "python",
   "pygments_lexer": "ipython3",
   "version": "3.7.6"
  },
  "varInspector": {
   "cols": {
    "lenName": 16,
    "lenType": 16,
    "lenVar": 40
   },
   "kernels_config": {
    "python": {
     "delete_cmd_postfix": "",
     "delete_cmd_prefix": "del ",
     "library": "var_list.py",
     "varRefreshCmd": "print(var_dic_list())"
    },
    "r": {
     "delete_cmd_postfix": ") ",
     "delete_cmd_prefix": "rm(",
     "library": "var_list.r",
     "varRefreshCmd": "cat(var_dic_list()) "
    }
   },
   "types_to_exclude": [
    "module",
    "function",
    "builtin_function_or_method",
    "instance",
    "_Feature"
   ],
   "window_display": true
  }
 },
 "nbformat": 4,
 "nbformat_minor": 4
}
