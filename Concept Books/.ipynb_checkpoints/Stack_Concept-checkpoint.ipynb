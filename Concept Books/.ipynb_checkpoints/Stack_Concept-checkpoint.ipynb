{
 "cells": [
  {
   "attachments": {},
   "cell_type": "markdown",
   "metadata": {},
   "source": [
    "# [Stack](https://en.wikipedia.org/wiki/Stack_(abstract_data_type))\n",
    "\n",
    "### What is Stack?\n",
    "\n",
    "In computer science, a stack is an abstract data type that serves as a collection of elements, with two main principal operations:\n",
    "\n",
    "- `push`, which adds an element to the collection, and\n",
    "- `pop` , which removes the most recently added element that was not yet removed.\n",
    "\n",
    "The order in which elements come off a stack gives rise to its alternative name, LIFO (last in, first out). Additionally, a peek operation may give access to the top without modifying the stack. The name \"stack\" for this type of structure comes from the analogy to a set of physical items stacked on top of each other. This structure makes it easy to take an item off the top of the stack, while getting to an item deeper in the stack may require taking off multiple other items first. \n",
    "(Source: Wikipedia)\n",
    "\n",
    "---\n",
    "\n",
    "\n",
    "### Why Stack?\n",
    "\n",
    "A Stack is a simple data structure for storing data.\n",
    "\n",
    "- Easy to started\n",
    "- Less Hardware Requirement\n",
    "- Cross- Platform\n",
    "\n",
    "---\n",
    "\n",
    "\n",
    "### Idea?\n",
    "\n",
    "A stack is a dynamic data set in which elements use the Last-In-First-Out principle (LIFO) to define data structure - this structure limits data in the way that it can only be added to or removed from the top.\n",
    "\n",
    "---\n",
    "\n",
    "\n",
    "### Example:\n",
    "\n",
    "<img src=\"https://drive.google.com/uc?id=1mnKC1-MLQ9fdq30C8C1ycP6AR_Ltevcy\" align='center' />\n",
    "\n",
    "The GIF shown above depicts the operations that a generic stack data structure performs - `PUSH` & `POP`, only after checking whether stack is full or empty. \n",
    "\n",
    "Here's a video of one more example. The video explains the workings of the Stack Data Structure in a more generic way implemented using python."
   ]
  },
  {
   "cell_type": "code",
   "execution_count": 1,
   "metadata": {},
   "outputs": [
    {
     "data": {
      "text/html": [
       "\n",
       "        <iframe\n",
       "            width=\"814\"\n",
       "            height=\"509\"\n",
       "            src=\"https://www.youtube.com/embed/YhnkEFdKuEA\"\n",
       "            frameborder=\"0\"\n",
       "            allowfullscreen\n",
       "        ></iframe>\n",
       "        "
      ],
      "text/plain": [
       "<IPython.lib.display.IFrame at 0x189b0423fc8>"
      ]
     },
     "execution_count": 1,
     "metadata": {},
     "output_type": "execute_result"
    }
   ],
   "source": [
    "## Run this cell (shift+enter) to see the video\n",
    "\n",
    "from IPython.display import IFrame\n",
    "IFrame(\"https://www.youtube.com/embed/YhnkEFdKuEA\", width=\"814\", height=\"509\")"
   ]
  },
  {
   "cell_type": "markdown",
   "metadata": {},
   "source": [
    "Notice a few things:\n",
    "\n",
    "\n",
    "So how can we code a Stack Data Structure? Lets break it down. There are 7 fundamental building blocks of a Stack Data Structure-\n",
    "\n",
    "The following steps for stack implementation are performed using a list.\n",
    "\n",
    "**Create a list**\n",
    "\n",
    "1. Start the implementation by creating an empty list for stack operations\n",
    "    - any changes made to the stack will reflect on this list.\n",
    "\n",
    "**Define the is_empty function**\n",
    "\n",
    "2. Create an is_empty() function that checks whether the stack is empty or not.\n",
    "\n",
    "**Define the Push function**\n",
    "\n",
    "3. Create a push() function that adds items into the stack.\n",
    "\n",
    "**Define the Pop function**\n",
    "\n",
    "4. Create a pop() function that removes items from the stack\n",
    "    - This step is performed after calling the is_empty() function to check whether the stack has items before the pop               operation.\n",
    "    \n",
    "**Define the Peek function**\n",
    "\n",
    "5. Create a peek() function that returns the top of the stack.\n",
    "\n",
    "**Define a function that returns the entire stack**\n",
    "\n",
    "6. Create a function that returns the list that is used to implement the stack.\n",
    "\n",
    "**Define the Size function**\n",
    "\n",
    "7. Create a size() function that returns the size of the stack based on the count of items inside it.\n",
    "\n",
    "\n",
    "### Building blocks for a Stack - \n",
    "\n",
    "1. Creating an empty list.\n",
    "\n",
    "2. Defining an is_empty() function.\n",
    "\n",
    "3. Defining a push() function.\n",
    "\n",
    "4. Defining a pop() function.\n",
    "\n",
    "5. Defining a peek() function.\n",
    "\n",
    "6. Defining `__str__()` function.\n",
    "\n",
    "7. Defining a size() function."
   ]
  },
  {
   "cell_type": "markdown",
   "metadata": {},
   "source": [
    "**1. Creating an empty list**"
   ]
  },
  {
   "cell_type": "code",
   "execution_count": null,
   "metadata": {},
   "outputs": [],
   "source": [
    "stack = [] ## This is the list used to implement the stack data structure"
   ]
  },
  {
   "cell_type": "markdown",
   "metadata": {},
   "source": [
    "**2. Defining an is_empty() function**"
   ]
  },
  {
   "cell_type": "code",
   "execution_count": null,
   "metadata": {},
   "outputs": [],
   "source": [
    "# This function is used to check whether the stack is empty or not,\n",
    "# mostly used before poping an item from the stack\n",
    "\n",
    "def is_empty(stack):\n",
    "    \n",
    "    return len(stack) == 0\n",
    "\n",
    "print(is_empty(stack)) ## This is to indicate whether the stack is empty or not"
   ]
  },
  {
   "cell_type": "markdown",
   "metadata": {},
   "source": [
    "**3. Defining a push() function**"
   ]
  },
  {
   "cell_type": "code",
   "execution_count": null,
   "metadata": {},
   "outputs": [],
   "source": [
    "# This function is used to push an item into the stack\n",
    "\n",
    "def push(item):\n",
    "    \n",
    "        stack.append(item) ## appending the list with item value\n",
    "        print(\"pushed item: \" + str(item)) ## printing the acknowledgement\n",
    "\n",
    "push(10) ## Call to add items into the stack"
   ]
  },
  {
   "cell_type": "markdown",
   "metadata": {},
   "source": [
    "**4. Defining a pop() function**"
   ]
  },
  {
   "cell_type": "code",
   "execution_count": null,
   "metadata": {},
   "outputs": [],
   "source": [
    "## This function is used to remove an item from the stack\n",
    "\n",
    "def pop():\n",
    "        if (is_empty(stack)): ## To check whether stack is empty since we cannot pop from an empty stack\n",
    "            return \"stack is empty\" ## acknowledgement that the stack is empty\n",
    "\n",
    "        return stack.pop() ## Removing an item from the top of the stack & returning the same\n",
    "\n",
    "pop() ## calling the pop function "
   ]
  },
  {
   "cell_type": "markdown",
   "metadata": {},
   "source": [
    "**5. Defining a peek() function**"
   ]
  },
  {
   "cell_type": "code",
   "execution_count": null,
   "metadata": {},
   "outputs": [],
   "source": [
    "# This function is used to return the top of the stack without manipulating the stack\n",
    "\n",
    "def peek():\n",
    "        if stack: ## If the stack has items in it\n",
    "            return stack[-1] ## return the top \n",
    "\n",
    "peek() ## call to the peek function to get the top of the stack"
   ]
  },
  {
   "cell_type": "markdown",
   "metadata": {},
   "source": [
    "**6. Defining `__str__()` function**"
   ]
  },
  {
   "cell_type": "code",
   "execution_count": null,
   "metadata": {},
   "outputs": [],
   "source": [
    "# This function is used to return the entire stack\n",
    "\n",
    "def __str__():\n",
    "        return str(stack) ## Returns the stack\n",
    "\n",
    "print(stack) ## This prints the entire stack at a given point"
   ]
  },
  {
   "cell_type": "markdown",
   "metadata": {},
   "source": [
    "**7. Defining the size() function**"
   ]
  },
  {
   "cell_type": "code",
   "execution_count": null,
   "metadata": {},
   "outputs": [],
   "source": [
    "# This function returns the size of the stack at the point when this function is called  \n",
    "\n",
    "def size():\n",
    "    return len(stack) ## using len() to return the size\n",
    "\n",
    "size() ## This returns the size of the stack"
   ]
  },
  {
   "cell_type": "markdown",
   "metadata": {},
   "source": [
    "## Working of Stack Data Structure\n",
    "\n",
    "Now that we know all the moving parts, lets bring it all together.\n",
    "\n",
    "Here's a short description - \n",
    "\n",
    "The operations work as follows:\n",
    "\n",
    "1. A pointer called `TOP` is used to keep track of the top element in the stack.\n",
    "\n",
    "\n",
    "2. We Initialize the stack with a `TOP` value set to `-1`, so that we can compare `TOP == -1` to check if its empty.\n",
    "\n",
    "\n",
    "3. On pushing an element, we increase the value of `TOP` and place the new element in the position pointed to by `TOP`.\n",
    "\n",
    "\n",
    "4. On popping an element, we return the element pointed to by `TOP` and reduce its value.\n",
    "\n",
    "\n",
    "5. Before pushing, we check if the stack is already full `(Stack Overflow Condition)`\n",
    "\n",
    "\n",
    "6. Before popping, we check if the stack is already empty `(Stack Underflow Condition)`"
   ]
  },
  {
   "cell_type": "code",
   "execution_count": null,
   "metadata": {},
   "outputs": [],
   "source": [
    "# write a class stack() that will perform all the functions pertaining to a stack data structure\n",
    "\n",
    "class Stack:\n",
    "    \n",
    "    stack = [] ## list used for stack implementation\n",
    "    \n",
    "    # Returning the entire stack\n",
    "    def __str__(self):\n",
    "        return str(self.stack)\n",
    "    \n",
    "    # write your code here\n",
    " "
   ]
  },
  {
   "cell_type": "markdown",
   "metadata": {},
   "source": [
    "Double-click __here__ for the solution.\n",
    "\n",
    "<!-- Here's the answer:\n",
    "\n",
    "class Stack:\n",
    "    \n",
    "    stack = [] ## list used for stack implementation\n",
    "    \n",
    "    # Returning the entire stack\n",
    "    def __str__(self):\n",
    "        return str(self.stack)\n",
    "        \n",
    "    # Creating an empty stack\n",
    "    def is_empty(self):\n",
    "        return len(self.stack) == 0\n",
    "\n",
    "\n",
    "    # Adding items into the stack\n",
    "    def push(self,item):\n",
    "        self.stack.append(item)\n",
    "        print(\"pushed item: \" + item)\n",
    "\n",
    "\n",
    "    # Removing an element from the stack\n",
    "    def pop(self):\n",
    "        if (stack.is_empty()):\n",
    "            return \"stack is empty\"\n",
    "\n",
    "        return self.stack.pop()\n",
    "    \n",
    "    # Returns the top of the stack\n",
    "    def peek(self):\n",
    "        if self.stack:\n",
    "            return self.stack[-1]\n",
    "        \n",
    "    # Returns the size of the stack \n",
    "    def size(self):\n",
    "        return len(self.stack)\n",
    "\n",
    "-->"
   ]
  },
  {
   "cell_type": "code",
   "execution_count": null,
   "metadata": {},
   "outputs": [],
   "source": [
    "# lets check if your Stack class works - you should get the following output on executing this cell for the first time: \n",
    "\n",
    "\"\"\" \n",
    "pushed item: 1\n",
    "pushed item: 2\n",
    "pushed item: 3\n",
    "pushed item: 4\n",
    "popped item: 4\n",
    "stack after popping an element:['1', '2', '3']\n",
    "Size of the stack at this point: 3\n",
    "Top of the Stack: 3\n",
    "\n",
    "\"\"\"  \n",
    "\n",
    "stack = Stack()\n",
    "stack.push(str(1))\n",
    "stack.push(str(2))\n",
    "stack.push(str(3))\n",
    "stack.push(str(4))\n",
    "print(f\"popped item: {stack.pop()}\")\n",
    "print(f\"stack after popping an element:{stack}\")\n",
    "print(f\"Size of the stack at this point: {stack.size()}\")\n",
    "print(f\"Top of the Stack: {stack.peek()}\")"
   ]
  }
 ],
 "metadata": {
  "kernelspec": {
   "display_name": "Python 3",
   "language": "python",
   "name": "python3"
  },
  "language_info": {
   "codemirror_mode": {
    "name": "ipython",
    "version": 3
   },
   "file_extension": ".py",
   "mimetype": "text/x-python",
   "name": "python",
   "nbconvert_exporter": "python",
   "pygments_lexer": "ipython3",
   "version": "3.7.6"
  }
 },
 "nbformat": 4,
 "nbformat_minor": 4
}
