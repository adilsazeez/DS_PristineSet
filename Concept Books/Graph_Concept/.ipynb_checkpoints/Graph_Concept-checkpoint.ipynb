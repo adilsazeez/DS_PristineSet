{
 "cells": [
  {
   "cell_type": "markdown",
   "metadata": {},
   "source": [
    "# [Graph](https://en.wikipedia.org/wiki/Graph_(abstract_data_type))\n",
    "\n",
    "### What is Graph?\n",
    "\n",
    "A graph is a pictorial representation of a set of objects where some pairs of objects are connected by links. The interconnected objects are represented by points termed as vertices or nodes, and the links that connect the vertices or nodes are called edges.\n",
    "\n",
    "A graph is a pair of sets (V, E), where V is the set of vertices and E is the set of edges, connecting the pairs of vertices. Take a look at the following graph −\n",
    " \n",
    "<img src=\"https://drive.google.com/uc?id=1QeovN3kZMQ5VYU-hK_k0eHim4tPmBZ_m\" align='center' />\n",
    "\n",
    " \n",
    "\n",
    "### Why Graph?\n",
    "\n",
    "We use graphs for numerous things, such as representing networks of communication, data organization, computational devices, flow of computation, etc. We can represent website link structures as directed graphs (digraph — graph in which edges have directions) where vertices represent web pages and the directed edges represent links from one page to another.\n",
    "\n",
    "### Idea?\n",
    "\n",
    "To implement graph in python we will use dictionary data structure in python. \n",
    "The keys of the dictionary used are the nodes of our graph and the corresponding values are lists with each nodes, which are connecting by an edge. \n"
   ]
  },
  {
   "cell_type": "code",
   "execution_count": 1,
   "metadata": {},
   "outputs": [
    {
     "data": {
      "text/html": [
       "\n",
       "        <iframe\n",
       "            width=\"814\"\n",
       "            height=\"509\"\n",
       "            src=\"https://www.youtube.com/embed/HDUzBEG1GlA\"\n",
       "            frameborder=\"0\"\n",
       "            allowfullscreen\n",
       "        ></iframe>\n",
       "        "
      ],
      "text/plain": [
       "<IPython.lib.display.IFrame at 0x2814d450348>"
      ]
     },
     "execution_count": 1,
     "metadata": {},
     "output_type": "execute_result"
    }
   ],
   "source": [
    "## Run this cell (shift+enter) to see the video\n",
    "\n",
    "from IPython.display import IFrame\n",
    "IFrame(\"https://www.youtube.com/embed/HDUzBEG1GlA\", width=\"814\", height=\"509\")"
   ]
  },
  {
   "cell_type": "markdown",
   "metadata": {},
   "source": [
    "## Generating a Graph using Python Dictionary\n",
    "\n",
    "We can implement graph using python dictionary data structure.The keys of the dictionary used are the nodes of our graph and the corresponding values are lists with each nodes, which are connecting by an edge.\n",
    "\n",
    "Look at the example below--\n",
    "\n",
    "\n",
    "          b\n",
    "         / \\\n",
    "        /   \\\n",
    "       e-----c-----a\n",
    "             |\n",
    "             |\n",
    "             |\n",
    "             d\n",
    "         \n",
    "         \n",
    "This simple graph has six nodes (a-f) and five arcs: \n",
    "    - a -> c\n",
    "    - b -> c\n",
    "    - b -> e\n",
    "    - c -> a\n",
    "    - c -> b\n",
    "    - c -> d\n",
    "    - c -> e\n",
    "    - d -> c\n",
    "    - e -> c\n",
    "    - e -> b\n",
    "    \n",
    "Implementation of graph using python dictionary data structure--\n",
    "\n",
    "**This is a dictionary whose keys are the nodes of the graph. For each key, the corresponding value is a list containing the nodes that are connected by a direct arc from this node.** \n",
    "\n",
    "graph = { \"a\" : [\"c\"],\n",
    "\n",
    "          \"b\" : [\"c\", \"e\"],\n",
    "          \n",
    "          \"c\" : [\"a\", \"b\", \"d\", \"e\"],\n",
    "          \n",
    "          \"d\" : [\"c\"],\n",
    "          \n",
    "          \"e\" : [\"c\", \"b\"],\n",
    "          \n",
    "          \"f\" : []\n",
    "        }"
   ]
  },
  {
   "cell_type": "code",
   "execution_count": 15,
   "metadata": {},
   "outputs": [
    {
     "name": "stdout",
     "output_type": "stream",
     "text": [
      "[('a', 'c'), ('b', 'c'), ('b', 'e'), ('c', 'd'), ('c', 'e'), ('c', 'a'), ('c', 'b'), ('e', 'b'), ('e', 'c'), ('d', 'c')]\n"
     ]
    }
   ],
   "source": [
    "# import dictionary for graph\n",
    "from collections import defaultdict\n",
    " \n",
    "# function for adding edge to graph\n",
    "\n",
    "graph = defaultdict(list)\n",
    "def addEdge(graph,u,v):\n",
    "    graph[u].append(v)\n",
    "   \n",
    "    \n",
    "def generate_edges(graph):\n",
    "    edges = []\n",
    " \n",
    "    # for each node in graph\n",
    "    for node in graph:\n",
    "        \n",
    "        # for each neighbour node of a single node\n",
    "        for neighbour in graph[node]:\n",
    "             \n",
    "            # if edge exists then append\n",
    "            edges.append((node, neighbour))\n",
    "    return edges\n",
    " \n",
    "# declaration of graph as dictionary\n",
    "addEdge(graph,'a','c')\n",
    "addEdge(graph,'b','c')\n",
    "addEdge(graph,'b','e')\n",
    "addEdge(graph,'c','d')\n",
    "addEdge(graph,'c','e')\n",
    "addEdge(graph,'c','a')\n",
    "addEdge(graph,'c','b')\n",
    "addEdge(graph,'e','b')\n",
    "addEdge(graph,'d','c')\n",
    "addEdge(graph,'e','c')\n",
    "print(generate_edges(graph))"
   ]
  },
  {
   "cell_type": "markdown",
   "metadata": {},
   "source": [
    "## Types of graph \n",
    "\n",
    "### Directed Graphs\n",
    "A directed graph is a set of vertices (nodes) connected by edges, with each node having a direction associated with it.\n",
    "Edges are usually represented by arrows pointing in the direction the graph can be traversed.\n",
    "In the example, the graph can be traversed from vertex A to B, but not from vertex B to A.\n",
    "\n",
    "<img src=\"https://drive.google.com/uc?id=1tIcOErzIGhPgRZQ5vIwBiXyRO9fC1Sn9\" align='center' />\n",
    "\n",
    "\n",
    "### Undirected Graphs\n",
    "In an undirected graph the edges are bidirectional, with no direction associated with them. Hence, the graph can be traversed in either direction. The absence of an arrow tells us that the graph is undirected.\n",
    "In the example, the graph can be traversed from node A to B as well as from node B to A.\n",
    "\n",
    "<img src=\"https://drive.google.com/uc?id=1J_G-Ds_tCjzPvmfeNs-DPh0gT7b6E9Of\" align='center' />\n",
    "\n",
    "\n",
    "## Let's try to to generate the path from one node to the other node\n",
    "\n",
    "### What is a path?\n",
    "Path represents a sequence of edges between the two vertices.\n",
    "\n",
    "Consider a graph-\n",
    "\n",
    "       A\n",
    "      / \\\n",
    "     /   \\\n",
    "    B     D\n",
    "     \\\n",
    "      \\\n",
    "       C\n",
    "Path between A to C is ABC.\n",
    "\n",
    "### Algorithm\n",
    "- In the function, initially, the path is an empty list.\n",
    "- In the starting, if the start node matches with the end node, the function will return the path.\n",
    "- Otherwise the code goes forward and hits all the values of the starting node and searches for the path using recursion. If     there is no such path, it returns None.\n"
   ]
  },
  {
   "cell_type": "code",
   "execution_count": 18,
   "metadata": {},
   "outputs": [
    {
     "name": "stdout",
     "output_type": "stream",
     "text": [
      "['d', 'a', 'c']\n"
     ]
    }
   ],
   "source": [
    "# Python program to generate the all possible\n",
    "# path of the graph from the nodes provided\n",
    "graph ={\n",
    "'a':['c'],\n",
    "'b':['d'],\n",
    "'c':['e'],\n",
    "'d':['a', 'd'],\n",
    "'e':['b', 'c']\n",
    "}\n",
    " \n",
    "# function to find path\n",
    " \n",
    "def find_path(graph, start, end, path=[]):\n",
    "    \n",
    "    path = path + [start]\n",
    "    #if the start node matches with the end node, the function will return the path.\n",
    "    if start == end:\n",
    "        return path\n",
    "    \n",
    "    # hits all the values of the starting node and searches for the path using recursion\n",
    "    for node in graph[start]:\n",
    "        if node not in path:\n",
    "            newpath = find_path(graph, node, end, path)\n",
    "            if newpath:\n",
    "                return newpath\n",
    "            return None\n",
    " \n",
    " \n",
    "# Driver function call to print the path\n",
    "print(find_path(graph, 'd', 'c'))"
   ]
  },
  {
   "cell_type": "markdown",
   "metadata": {},
   "source": [
    "## Applications of Graphs\n",
    "\n",
    "- In Facebook, users are considered to be the vertices and if they are friends then there is an edge running between them. Facebook’s Friend suggestion algorithm uses graph theory. Facebook is an example of undirected graph.\n",
    "\n",
    "- In World Wide Web, web pages are considered to be the vertices. There is an edge from a page u to other page v if there is a link of page v on page u. This is an example of Directed graph."
   ]
  },
  {
   "cell_type": "markdown",
   "metadata": {},
   "source": [
    "## Let's try a problem\n",
    "**Write a python program to generate all the possible paths from one node to the other.**"
   ]
  },
  {
   "cell_type": "code",
   "execution_count": null,
   "metadata": {},
   "outputs": [],
   "source": [
    "# Python program to generate the all possible\n",
    "# path of the graph from the nodes provided\n",
    "graph ={\n",
    "'a':['c'],\n",
    "'b':['d'],\n",
    "'c':['e'],\n",
    "'d':['a', 'd'],\n",
    "'e':['b', 'c']\n",
    "}\n",
    "\n",
    "# write your code here"
   ]
  },
  {
   "cell_type": "markdown",
   "metadata": {},
   "source": [
    "Double click here for the solution\n",
    "<!---\n",
    "    # function to generate all possible paths\n",
    "    def find_all_paths(graph, start, end, path =[]):\n",
    "        path = path + [start]\n",
    "        if start == end:\n",
    "            return [path]\n",
    "        paths = []\n",
    "        for node in graph[start]:\n",
    "            if node not in path:\n",
    "                newpaths = find_all_paths(graph, node, end, path)\n",
    "            for newpath in newpaths:\n",
    "                paths.append(newpath)\n",
    "        return paths\n",
    "\n",
    "    # Driver function call to print all \n",
    "    # generated paths\n",
    "    print(find_all_paths(graph, 'd', 'c'))\n",
    "-->"
   ]
  },
  {
   "cell_type": "code",
   "execution_count": null,
   "metadata": {},
   "outputs": [],
   "source": [
    "# you should get an output as follows\n",
    "\"\"\"\n",
    "[['d', 'a', 'c'], ['d', 'a', 'c']]\n",
    "\n",
    "\"\"\"\n",
    "print(find_all_paths(graph, 'd', 'c'))"
   ]
  }
 ],
 "metadata": {
  "kernelspec": {
   "display_name": "Python 3",
   "language": "python",
   "name": "python3"
  },
  "language_info": {
   "codemirror_mode": {
    "name": "ipython",
    "version": 3
   },
   "file_extension": ".py",
   "mimetype": "text/x-python",
   "name": "python",
   "nbconvert_exporter": "python",
   "pygments_lexer": "ipython3",
   "version": "3.7.6"
  }
 },
 "nbformat": 4,
 "nbformat_minor": 2
}
