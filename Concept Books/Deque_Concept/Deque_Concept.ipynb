{
 "cells": [
  {
   "cell_type": "markdown",
   "metadata": {},
   "source": [
    "# [Dequeue](https://en.wikipedia.org/wiki/Double-ended_queue)"
   ]
  },
  {
   "cell_type": "markdown",
   "metadata": {},
   "source": [
    "### What is a deque?\n",
    "A double-ended queue, or deque, has two ends, a front and a rear. What makes a deque different is the unrestrictive nature of adding and removing items. New items can be added at either the front or the rear. Likewise, existing items can be removed from either end. \n",
    "\n",
    "<img src=\"1.png\">\n",
    "\n",
    "---\n",
    "\n",
    "### Idea?\n",
    "\n",
    "A Deque is a data structure that implements the FIFO (First-In-First-Out) ordering and LIFO (Last-In-First-Out) ordering. This simply means that the element can be added from both ends, a front and a rear. And similarly the element can be removed from both the ends, a front and a rear.\n",
    "\n",
    "---\n",
    "\n",
    "### Implementation of Deque\n",
    "Deque can be implemented using two methods-\n",
    "- **using List**\n",
    "- **using the collection module**\n",
    "\n",
    "---\n",
    "**Let's see how to implement deque.**\n",
    "\n",
    "## **1. List** \n",
    "List is a collection data type which is ordered. It is created by placing all the items (elements) inside square brackets [], separated by commas.\n",
    "\n",
    "#### Go through the below video to understand how to implement deque using list "
   ]
  },
  {
   "cell_type": "code",
   "execution_count": 2,
   "metadata": {},
   "outputs": [
    {
     "data": {
      "text/html": [
       "\n",
       "        <iframe\n",
       "            width=\"814\"\n",
       "            height=\"509\"\n",
       "            src=\"https://www.youtube.com/embed/ZO7FWx513Qk\"\n",
       "            frameborder=\"0\"\n",
       "            allowfullscreen\n",
       "        ></iframe>\n",
       "        "
      ],
      "text/plain": [
       "<IPython.lib.display.IFrame at 0x196d1171048>"
      ]
     },
     "execution_count": 2,
     "metadata": {},
     "output_type": "execute_result"
    }
   ],
   "source": [
    "## Run this cell (shift+enter) to see the video\n",
    "\n",
    "from IPython.display import IFrame\n",
    "IFrame(\"https://www.youtube.com/embed/ZO7FWx513Qk\", width=\"814\", height=\"509\")"
   ]
  },
  {
   "cell_type": "markdown",
   "metadata": {},
   "source": [
    "---\n",
    "\n",
    "# Basic Operations of Deque using List\n",
    "\n",
    "Python list will provide a very nice set of methods upon which to build the details of the deque.\n",
    "\n",
    "#### 1. Insertion\n",
    "In deque data structure, the elements can be added from both the front and rear end. These operations can be easily performed by using various list methods.In order to insert an element at front end, list append() method is used and in order to insert element at the rear end, insert() method is used.\n",
    "\n",
    "---\n",
    "                      **rear-end-->[2,3,4]<--front end**\n",
    "---  \n",
    "- **insert()**: This method can be used to insert elements at the rear end of the deque.\n",
    "- **append()**: This method can be used to insert elements at the front end of the deque.\n"
   ]
  },
  {
   "cell_type": "code",
   "execution_count": 83,
   "metadata": {},
   "outputs": [
    {
     "name": "stdout",
     "output_type": "stream",
     "text": [
      "[7, 2, 3, 4, 8]\n"
     ]
    }
   ],
   "source": [
    "#press shift+enter to run this code\n",
    "#create a deque using list\n",
    "items=[2,3,4] # item deque\n",
    "\n",
    "#   rear-end-->[2,3,4]<--front end\n",
    "\n",
    "def add_front(data):     #defining add_front function to add the elements at the front of deque \n",
    "    items.append(data)   #that is at the last position of the list.\n",
    "    \n",
    "def add_rear(data):      # defining add_rear function to add the elements at the rear of deque\n",
    "    items.insert(0,data) # specifying the index 0 so that it always inserts element at the first position.\n",
    "\n",
    "def printdeque():        # function to display deque\n",
    "    print(items)\n",
    "        \n",
    "add_front(8)\n",
    "add_rear(7)\n",
    "printdeque()"
   ]
  },
  {
   "cell_type": "markdown",
   "metadata": {},
   "source": [
    "---\n",
    "#### 2. Deletion\n",
    "In deque data structure, the elements can be deleted from both the front and rear end. This operation can be easily performed by using list pop() method.\n",
    "\n",
    "---\n",
    "                      **rear-end-->[2,3,4]<--front end**\n",
    "---  \n",
    "\n",
    "- **pop()**:\n",
    "This method can be used to delete elements from both front and rear end. Note: In order to remove element from rear end we need to specify the position of the first position as 0"
   ]
  },
  {
   "cell_type": "code",
   "execution_count": 84,
   "metadata": {},
   "outputs": [
    {
     "name": "stdout",
     "output_type": "stream",
     "text": [
      "[2, 3, 4]\n"
     ]
    }
   ],
   "source": [
    "#press shift+enter to run this code      \n",
    "\n",
    "def removeFront(): #defining removeFront function to DELETE the elements at the front of deque \n",
    "    items.pop()    #that is at the last position of the list\n",
    "        \n",
    "def removeRear():  #defining removeRear function to remove the elements at the rear of deque\n",
    "    items.pop(0)   # specifying the index 0 so that it always inserts element at the first position.\n",
    "\n",
    "    #def rotate(self,num):\n",
    "     #   self.items=(self.items[-num:]+self.items[:-num])      \n",
    "      #  return self.items                \n",
    "def printdeque():\n",
    "    print(items)\n",
    "        \n",
    "removeFront()\n",
    "removeRear()\n",
    "printdeque()\n"
   ]
  },
  {
   "cell_type": "markdown",
   "metadata": {},
   "source": [
    "## Let's check the size of the deque\n",
    "\n",
    "- **len(): This method can be used to find the length of the deque**"
   ]
  },
  {
   "cell_type": "code",
   "execution_count": 85,
   "metadata": {},
   "outputs": [
    {
     "name": "stdout",
     "output_type": "stream",
     "text": [
      "[2, 3, 4]\n",
      "Size 3\n",
      "Size EMPTY\n"
     ]
    }
   ],
   "source": [
    "#press shift+enter to run this code \n",
    "# size function to calculate how many elements are there in a deque.\n",
    "    \n",
    "def size():\n",
    "    if items ==[]:   # condition to check whether the list is empty\n",
    "        return \"EMPTY\"\n",
    "    else:\n",
    "        return len(items) \n",
    "        \n",
    "def printdeque():\n",
    "    print(items)\n",
    "\n",
    "printdeque()\n",
    "print(\"Size\",size())\n",
    "removeRear()\n",
    "removeRear()\n",
    "removeRear()\n",
    "print(\"Size\",size())\n"
   ]
  },
  {
   "cell_type": "markdown",
   "metadata": {},
   "source": [
    "---\n",
    "\n",
    "**Let's see how to implement deque using.**\n",
    "\n",
    "# 2. Collection module\n",
    "This module implements specialized container datatypes providing alternatives to Python's general purpose built-in containers, dict , list , set , and tuple . To implement deque, we will be using deque container of collection module. This deque is a list-like container with fast appends and pops on either end.\n",
    "### [click here for more details on collection](\"https://docs.python.org/3/library/collections.html?highlight=deque%20collections#collections.deque\")\n",
    "---\n",
    "\n",
    "# Why Deque Container?\n",
    "1. Deque container is preferred over list in the cases where we need quicker append and pop operations from both the ends.\n",
    "2. Deque provides an O(1) time complexity for append and pop operations as compared to list which provides O(n) time complexity.\n",
    "---\n"
   ]
  },
  {
   "cell_type": "code",
   "execution_count": 86,
   "metadata": {},
   "outputs": [
    {
     "name": "stdout",
     "output_type": "stream",
     "text": [
      "deque(['name', 'age', 'DOB'])\n"
     ]
    }
   ],
   "source": [
    "# Python code to demonstrate deque           \n",
    "from collections import deque \n",
    "      \n",
    "# Declaring deque  \n",
    "queue = deque(['name','age','DOB'])   \n",
    "      \n",
    "print(queue) "
   ]
  },
  {
   "cell_type": "markdown",
   "metadata": {},
   "source": [
    "--- \n",
    "# Basic Operations of deque supported by collection module's deque  :\n",
    "\n",
    "**1. append()**:- This function is used to insert the value in its argument to the front end of deque.\n",
    "\n",
    "**2. appendleft()** :- This function is used to insert the value in its argument to the rear end of deque.\n",
    "\n",
    "**3. pop()** :- This function is used to delete an argument from the front end of deque.\n",
    "\n",
    "**4. popleft()** :- This function is used to delete an argument from the rear end of deque.\n",
    "\n",
    "---"
   ]
  },
  {
   "cell_type": "code",
   "execution_count": 87,
   "metadata": {},
   "outputs": [
    {
     "name": "stdout",
     "output_type": "stream",
     "text": [
      "The deque after appending at front is : \n",
      "deque([1, 2, 3, 4])\n",
      "The deque after appending at rear is : \n",
      "deque([6, 1, 2, 3, 4])\n",
      "The deque after deleting from front is : \n",
      "deque([6, 1, 2, 3])\n",
      "The deque after deleting from rear is : \n",
      "deque([1, 2, 3])\n"
     ]
    }
   ],
   "source": [
    "# Python code to demonstrate working of  \n",
    "# append(), appendleft(), pop(), and popleft() \n",
    "  \n",
    "# importing \"collections\" for deque operations \n",
    "from collections import deque\n",
    "  \n",
    "# initializing deque \n",
    "de =deque([1,2,3]) \n",
    "  \n",
    "# using append() to insert element at front end  \n",
    "# inserts 4 at the end of deque \n",
    "de.append(4) \n",
    "  \n",
    "# printing modified deque \n",
    "print (\"The deque after appending at front is : \") \n",
    "print (de) \n",
    "  \n",
    "# using appendleft() to insert element at rear end  \n",
    "# inserts 6 at the beginning of deque \n",
    "de.appendleft(6) \n",
    "  \n",
    "# printing modified deque \n",
    "print (\"The deque after appending at rear is : \") \n",
    "print (de) \n",
    "  \n",
    "# using pop() to delete element from front end  \n",
    "# deletes 4 from the front end of deque \n",
    "de.pop() \n",
    "  \n",
    "# printing modified deque \n",
    "print (\"The deque after deleting from front is : \") \n",
    "print (de) \n",
    "  \n",
    "# using popleft() to delete element from rear end  \n",
    "# deletes 6 from the rear end of deque \n",
    "de.popleft() \n",
    "  \n",
    "# printing modified deque \n",
    "print (\"The deque after deleting from rear is : \") \n",
    "print (de)"
   ]
  },
  {
   "cell_type": "markdown",
   "metadata": {},
   "source": [
    "---\n",
    "# Few more operations:\n",
    "\n",
    "**5. index(ele, beg, end)** :- This function returns the first index of the value mentioned in arguments, starting searching from beg till end index.\n",
    "\n",
    "**6. insert(i, a)** :- This function inserts the value mentioned in arguments(a) at index(i) specified in arguments.\n",
    "\n",
    "**7. remove()** :- This function removes the first occurrence of value mentioned in arguments.\n",
    "\n",
    "**8. count()** :- This function counts the number of occurrences of value mentioned in arguments.\n",
    "\n",
    "---"
   ]
  },
  {
   "cell_type": "code",
   "execution_count": 88,
   "metadata": {},
   "outputs": [
    {
     "name": "stdout",
     "output_type": "stream",
     "text": [
      "The number 4 first occurs at a position : \n",
      "4\n",
      "The deque after inserting 3 at 5th position is : \n",
      "deque([1, 2, 3, 3, 3, 4, 2, 4])\n",
      "The count of 3 in deque is : \n",
      "3\n",
      "The deque after deleting first occurrence of 3 is : \n",
      "deque([1, 2, 3, 3, 4, 2, 4])\n"
     ]
    }
   ],
   "source": [
    "# Python code to demonstrate working of  \n",
    "# insert(), index(), remove(), count() \n",
    "  \n",
    "# importing \"collections\" for deque operations \n",
    "import collections \n",
    "  \n",
    "# initializing deque \n",
    "de = collections.deque([1, 2, 3, 3, 4, 2, 4]) \n",
    "  \n",
    "# using index() to print the first occurrence of 4 \n",
    "print (\"The number 4 first occurs at a position : \") \n",
    "print (de.index(4,2,5)) \n",
    "  \n",
    "# using insert() to insert the value 3 at 5th position \n",
    "de.insert(4,3) \n",
    "  \n",
    "# printing modified deque \n",
    "print (\"The deque after inserting 3 at 5th position is : \") \n",
    "print (de) \n",
    "  \n",
    "# using count() to count the occurrences of 3 \n",
    "print (\"The count of 3 in deque is : \") \n",
    "print (de.count(3)) \n",
    "  \n",
    "# using remove() to remove the first occurrence of 3 \n",
    "de.remove(3) \n",
    "  \n",
    "# printing modified deque \n",
    "print (\"The deque after deleting first occurrence of 3 is : \") \n",
    "print (de) "
   ]
  },
  {
   "cell_type": "markdown",
   "metadata": {},
   "source": [
    "### Let's have a Quick Look on what we studied so far\n",
    "We learned following things-\n",
    "1. A double-ended queue, or deque, supports adding and removing elements from either end.\n",
    "\n",
    "2. We then learned about, how deque is implemented\n",
    "\n",
    "    There are two methods\n",
    "    \n",
    "    - **List**\n",
    "      The Python list will provide a very nice set of methods upon which to build the details of the deque.\n",
    "      \n",
    "    - **Collection module**\n",
    "      The deque object of collection module provides list-like container with fast appends and pops on either end.\n",
    "      \n",
    "### Applications of Deque (Real time application)\n",
    "\n",
    "1. A web browser's history. Recently visited URLs are added to the front of the deque, and the URL at the back of the deque is removed after some specified number of insertions at the front.\n",
    "\n",
    "2. Another common application of the deque is storing a software application's list of undo operations.\n",
    "\n",
    "---"
   ]
  },
  {
   "cell_type": "markdown",
   "metadata": {},
   "source": [
    "# Let's try to solve a problem\n",
    "#### Write a Program to check whether the string is palindrome using deque data structure in python.(Implement using list) "
   ]
  },
  {
   "cell_type": "code",
   "execution_count": null,
   "metadata": {},
   "outputs": [],
   "source": [
    "\n",
    "items=[]\n",
    "def add_rear(data):\n",
    "      # write your code here\n",
    "def size():\n",
    "      # write your code here\n",
    "def removeFront():\n",
    "      # write your code here\n",
    "def removeRear():\n",
    "      # write your code here\n",
    "def palindrome(data):\n",
    "      # write your code here\n",
    "    "
   ]
  },
  {
   "cell_type": "markdown",
   "metadata": {},
   "source": [
    "Double click here for solution\n",
    "<!--\n",
    "    # creating a deque using list\n",
    "\n",
    "    items=[]\n",
    "\n",
    "    #defining add_rear function to add the elements at the rear of deque\n",
    "    def add_rear(data):     \n",
    "        return items.insert(0,data)\n",
    "    \n",
    "    # defining size function to check the size of the deque\n",
    "    \n",
    "    def size():\n",
    "        return len(items) \n",
    "      \n",
    "    # defining removeFront function to DELETE the elements at the front of deque \n",
    "    \n",
    "    def removeFront(): \n",
    "        return items.pop() \n",
    "        \n",
    "    # defining removeRear function to remove the elements at the rear of deque    \n",
    "    def removeRear():  \n",
    "        return items.pop(0)\n",
    "        \n",
    "        \n",
    "    def palindrome(data):\n",
    "        # iterating each element of the string\n",
    "        for character in data:\n",
    "            add_rear(character) # adding character to deque\n",
    "        while size() >= 2:\n",
    "            front_item=removeFront()  \n",
    "            rear_item=removeRear()\n",
    "            \n",
    "            if rear_item!=front_item: \n",
    "                return False\n",
    "        return True\n",
    "        \n",
    "    print(\"Nitin is Palindrome,\",palindrome(\"nitin\"))\n",
    "    print(\"Roopal is Palindrome,\",palindrome(\"Roopal\"))\n",
    "-->"
   ]
  },
  {
   "cell_type": "code",
   "execution_count": null,
   "metadata": {},
   "outputs": [],
   "source": [
    "# you should get the following output on executing this cell:\n",
    "\"\"\"\n",
    "Nitin is Palindrome, True\n",
    "Roopal is Palindrome, False\n",
    "\n",
    "\"\"\"\n",
    "print(\"Nitin is Palindrome,\",palindrome(\"nitin\"))\n",
    "print(\"Roopal is Palindrome,\",palindrome(\"Roopal\"))"
   ]
  }
 ],
 "metadata": {
  "kernelspec": {
   "display_name": "Python 3",
   "language": "python",
   "name": "python3"
  },
  "language_info": {
   "codemirror_mode": {
    "name": "ipython",
    "version": 3
   },
   "file_extension": ".py",
   "mimetype": "text/x-python",
   "name": "python",
   "nbconvert_exporter": "python",
   "pygments_lexer": "ipython3",
   "version": "3.7.6"
  }
 },
 "nbformat": 4,
 "nbformat_minor": 2
}
