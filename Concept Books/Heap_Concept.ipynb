{
 "cells": [
  {
   "cell_type": "markdown",
   "metadata": {},
   "source": [
    "# [Heap]()\n",
    "\n",
    "### What is Heap?\n",
    "\n",
    "In computer science, a heap is a specialized tree-based data structure which is essentially an almost complete tree that satisfies the heap property: in a max heap, for any given node C, if P is a parent node of C, then the key (the value) of P is greater than or equal to the key of C. In a min heap, the key of P is less than or equal to the key of C. The node at the \"top\" of the heap (with no parents) is called the root node.\n",
    "\n",
    "The heap is one maximally efficient implementation of an abstract data type called a priority queue, and in fact, priority queues are often referred to as \"heaps\", regardless of how they may be implemented. In a heap, the highest (or lowest) priority element is always stored at the root. However, a heap is not a sorted structure; it can be regarded as being partially ordered. A heap is a useful data structure when it is necessary to repeatedly remove the object with the highest (or lowest) priority.\n",
    "\n",
    "---\n",
    "\n",
    "### Why Heap?\n",
    "\n",
    "The heap data structure has many applications.\n",
    "\n",
    "- Heapsort: One of the best sorting methods being in-place and with no quadratic worst-case scenarios.\n",
    "- Selection algorithms: Finding the min, max, both the min and max, median, or even the k-th largest element can be done in linear time (often constant time) using heaps.\n",
    "- Graph algorithms: By using heaps as internal traversal data structures, run time will be reduced by polynomial order. Examples of such problems are Prim's minimal spanning tree algorithm and Dijkstra's shortest path problem.\n",
    "\n",
    "---\n",
    "\n",
    "### Idea?\n",
    "\n",
    "Full and almost full binary heaps may be represented in a very space-efficient way using an array alone. The first (or last) element will contain the root. The next two elements of the array contain its children. The next four contain the four children of the two child nodes, etc. Thus the children of the node at position n would be at positions 2n and 2n+1 in a one-based array, or 2n+1 and 2n+2 in a zero-based array. This allows moving up or down the tree by doing simple index computations. Balancing a heap is done by swapping elements which are out of order. As we can build a heap from an array without requiring extra memory (for the nodes, for example), heapsort can be used to sort an array in-place.\n",
    "\n",
    "---\n",
    "\n",
    "### Example:\n",
    "\n",
    "\n",
    "<img src=\"https://www.tutorialspoint.com/data_structures_algorithms/images/max_heap_animation.gif\" align='center' />\n",
    "\n",
    "\n",
    "The above example shows the creation of a max heap!\n",
    "\n",
    "**Max-Heap : When the root node contains value greater than or equal to either of its children**\n",
    "\n",
    "**Min-Heap : When the root node contains value less than or equal to either of its children**\n",
    "\n",
    "Here's a video of one more example. The video explains the workings of the Heap Data Structure algorithm in a more generic way."
   ]
  },
  {
   "cell_type": "code",
   "execution_count": 1,
   "metadata": {},
   "outputs": [
    {
     "data": {
      "text/html": [
       "\n",
       "        <iframe\n",
       "            width=\"814\"\n",
       "            height=\"509\"\n",
       "            src=\"https://www.youtube.com/embed/WCm3TqScBM8\"\n",
       "            frameborder=\"0\"\n",
       "            allowfullscreen\n",
       "        ></iframe>\n",
       "        "
      ],
      "text/plain": [
       "<IPython.lib.display.IFrame at 0x259ae4bec88>"
      ]
     },
     "execution_count": 1,
     "metadata": {},
     "output_type": "execute_result"
    }
   ],
   "source": [
    "## Run this cell (shift+enter) to see the video\n",
    "\n",
    "from IPython.display import IFrame\n",
    "IFrame(\"https://www.youtube.com/embed/WCm3TqScBM8\", width=\"814\", height=\"509\")"
   ]
  },
  {
   "cell_type": "markdown",
   "metadata": {},
   "source": [
    "Notice a few things:\n",
    "\n",
    "A heap data structure is a complete binary tree that satisfies the heap property. Sometimes also called as binary heap.\n",
    "\n",
    "The heap property includes max-heap/min-heap.\n",
    "\n",
    "Max-heap - in which the key of each node is greater than its child nodes, & the root node is the largest of all.\n",
    "\n",
    "Min-heap - in which the key of each node is less than its child nodes, & the root node is the smallest of all.\n",
    "\n",
    "The operations involved with a heap data structure :\n",
    "\n",
    "**Heapify**\n",
    "\n",
    "1. Creation of heap from a binary tree\n",
    "    - max-heap or\n",
    "    - min-heap\n",
    "\n",
    "**Insertion**\n",
    "\n",
    "2. Insert a node into the heap\n",
    "\n",
    "**Deletion**\n",
    "\n",
    "3. Delete a node from heap\n",
    "\n",
    "**Peek (max/min)**\n",
    "\n",
    "4. Return max/min node from the heap (without deletion) \n",
    "\n",
    "**Extract (max/min)**\n",
    "\n",
    "5. Return max/min node from the heap (with deletion) \n",
    "\n",
    "Now that we know how the algorithm works, lets figure out how to code it.\n",
    "\n",
    "So how can we code a Heap Data Structure? Lets break it down. There are two fundamental building blocks of a Heap Data Structure -\n",
    "\n",
    "### Building blocks for the Heap Data Structure - \n",
    "\n",
    "1. Heapify\n",
    "    - Heapify is the process to create a heap data structure from a binary tree (To create min-heap/max-heap)\n",
    "2. Insertion\n",
    "    - Insert a node into the heap\n",
    "3. Deletion\n",
    "    - Delete a node from the heap"
   ]
  },
  {
   "cell_type": "markdown",
   "metadata": {},
   "source": [
    "**1. Heapify**"
   ]
  },
  {
   "cell_type": "code",
   "execution_count": 84,
   "metadata": {},
   "outputs": [
    {
     "name": "stdout",
     "output_type": "stream",
     "text": [
      "[20, 5, 9]\n"
     ]
    }
   ],
   "source": [
    "# in this cell we find the largest node and make that node as the root node (Heapify) \n",
    "\n",
    "def heapify(arr, n, i):\n",
    "\n",
    "      largest = i ## initializing largest as i\n",
    "      l = 2 * i + 1 ## storing the left subtree index\n",
    "      r = 2 * i + 2 ## storing the right subtree index\n",
    "  \n",
    "      if l < n and arr[i] < arr[l]: ## if the left node is greater than the root\n",
    "          largest = l ## make left node index as largest\n",
    "  \n",
    "      if r < n and arr[largest] < arr[r]: ## if the right node is greater than the root\n",
    "          largest = r ## make the right node index as largest\n",
    "  \n",
    "      # If root is not largest\n",
    "      if largest != i:\n",
    "            \n",
    "          arr[i], arr[largest] = arr[largest], arr[i] ## swapping & making the largest as root\n",
    "          heapify(arr, n, largest) ## continue heapifying\n",
    "\n",
    "n = len(arr)\n",
    "for i in range(n//2,-1,-1): ## running the heapify function 3 times based on n val           \n",
    "    heapify(arr, 6, 0) ## starting from index 0\n",
    "\n",
    "print(arr) ## This displays the arr after the heapify operation"
   ]
  },
  {
   "cell_type": "markdown",
   "metadata": {},
   "source": [
    "**2. Insertion**"
   ]
  },
  {
   "cell_type": "code",
   "execution_count": 73,
   "metadata": {},
   "outputs": [
    {
     "name": "stdout",
     "output_type": "stream",
     "text": [
      "[20, 10, 9, 5]\n"
     ]
    }
   ],
   "source": [
    "# In this cell we define a function to insert a node into the heap\n",
    "\n",
    "def insert(array, newNum):\n",
    "    size = len(array) ## Storing the size of the array\n",
    "    if size == 0: ## If the heap is empty\n",
    "        array.append(newNum) ## Add the new node as the root node into the heap\n",
    "    else:\n",
    "        array.append(newNum); ## Else, add the new node into the heap and then call the heapify func \n",
    "        for i in range((size//2)-1, -1, -1): \n",
    "            heapify(array, size, i)\n",
    "        \n",
    "arr = [] ## intially array is kept as empty\n",
    "insert(arr,10) ## inserting node having value 10 as the root node\n",
    "insert(arr,20)\n",
    "insert(arr, 9)\n",
    "insert(arr, 5)\n",
    "print(arr) ## This shows the heap after insertion"
   ]
  },
  {
   "cell_type": "markdown",
   "metadata": {},
   "source": [
    "**3. Deletion**"
   ]
  },
  {
   "cell_type": "code",
   "execution_count": 82,
   "metadata": {},
   "outputs": [
    {
     "name": "stdout",
     "output_type": "stream",
     "text": [
      "Before deletion : [20, 10, 9, 5]\n",
      "After deletion : [20, 5, 9]\n"
     ]
    }
   ],
   "source": [
    "# In this cell we define the delete funtion to remove a node from the heap\n",
    "\n",
    "def deleteNode(array, num):\n",
    "    size = len(array)\n",
    "    \n",
    "    i = 0\n",
    "    \n",
    "    for i in range(0, size):\n",
    "        if num == array[i]: ## finding the position of the the node to be removed 'i'\n",
    "            break\n",
    "        \n",
    "    array[i], array[size-1] = array[size-1], array[i] ## Put the node to be deleted in the end of the heap\n",
    "\n",
    "    array.pop(size-1) ## Reduce the size of the heap by one\n",
    "    \n",
    "    for i in range((len(array)//2)-1, -1, -1): ## after removing the node, again call the heapify func.\n",
    "        heapify(array, len(array), i)\n",
    "\n",
    "arr = [] \n",
    "\n",
    "insert(arr,10) \n",
    "insert(arr,20)\n",
    "insert(arr, 9)\n",
    "insert(arr, 5)\n",
    "\n",
    "print(f\"Before deletion : {arr}\")        \n",
    "deleteNode(arr, 10) ## call the deleteNode func. to remove the node with val '10' from the heap\n",
    "print(f\"After deletion : {arr}\")"
   ]
  },
  {
   "cell_type": "markdown",
   "metadata": {},
   "source": [
    "## Heap Data Structure\n",
    "\n",
    "Now that we know all the moving parts, lets bring it all together.\n",
    "\n",
    "Here's a short description -\n",
    "\n",
    "Creation of the heap & heapify - \n",
    "\n",
    "1. Create a new node at the end of heap.\n",
    "2. Assign new value to the node.\n",
    "3. Compare the value of this child node with its parent.\n",
    "4. If value of parent is less than child, then swap them.\n",
    "5. Repeat step 3 & 4 until Heap property holds.\n",
    "\n",
    "Deletion from the heap - \n",
    "\n",
    "1. Remove root node.\n",
    "2. Move the last element of last level to root.\n",
    "3. Compare the value of this child node with its parent.\n",
    "4. If value of parent is less than child, then swap them.\n",
    "5. Repeat step 3 & 4 until Heap property holds.\n"
   ]
  },
  {
   "cell_type": "code",
   "execution_count": null,
   "metadata": {},
   "outputs": [],
   "source": [
    "# Complete the functions below that will create a heap Data Structure.\n",
    "\n",
    "def heapify(arr, n, i):\n",
    "    \n",
    "    # write your code here\n",
    "    \n",
    "def insert(array, newNum):\n",
    "    \n",
    "    # write your code here\n",
    "    \n",
    "def deleteNode(array, num):\n",
    "    \n",
    "    # write your code here\n",
    "    "
   ]
  },
  {
   "cell_type": "markdown",
   "metadata": {},
   "source": [
    "Double-click __here__ for the solution.\n",
    "<!-- Here's the answer:\n",
    "\n",
    "# Max-Heap data structure in Python\n",
    "\n",
    "def heapify(arr, n, i):\n",
    "    largest = i\n",
    "    l = 2 * i + 1\n",
    "    r = 2 * i + 2 \n",
    "    \n",
    "    if l < n and arr[i] < arr[l]:\n",
    "        largest = l\n",
    "    \n",
    "    if r < n and arr[largest] < arr[r]:\n",
    "        largest = r\n",
    "    \n",
    "    if largest != i:\n",
    "        arr[i],arr[largest] = arr[largest],arr[i]\n",
    "        heapify(arr, n, largest)\n",
    "\n",
    "def insert(array, newNum):\n",
    "    size = len(array)\n",
    "    if size == 0:\n",
    "        array.append(newNum)\n",
    "    else:\n",
    "        array.append(newNum);\n",
    "        for i in range((size//2)-1, -1, -1):\n",
    "            heapify(array, size, i)\n",
    "\n",
    "def deleteNode(array, num):\n",
    "    size = len(array)\n",
    "    i = 0\n",
    "    for i in range(0, size):\n",
    "        if num == array[i]:\n",
    "            break\n",
    "        \n",
    "    array[i], array[size-1] = array[size-1], array[i]\n",
    "\n",
    "    array.remove(size-1)\n",
    "    \n",
    "    for i in range((len(array)//2)-1, -1, -1):\n",
    "        heapify(array, len(array), i)\n",
    "-->"
   ]
  },
  {
   "cell_type": "code",
   "execution_count": 51,
   "metadata": {},
   "outputs": [
    {
     "name": "stdout",
     "output_type": "stream",
     "text": [
      "Max-Heap array: [9, 5, 4, 3, 2]\n",
      "After deleting an element: [9, 5, 2, 3]\n"
     ]
    }
   ],
   "source": [
    "# lets check if your code in the above cell works - you should get the following as output:\n",
    "\n",
    "\"\"\"\n",
    "\n",
    "Max-Heap array: [9, 5, 4, 3, 2]\n",
    "After deleting an element: [9, 5, 2, 3]\n",
    "\n",
    "\"\"\"\n",
    "\n",
    "arr = []\n",
    "\n",
    "insert(arr, 3)\n",
    "insert(arr, 4)\n",
    "insert(arr, 9)\n",
    "insert(arr, 5)\n",
    "insert(arr, 2)\n",
    "\n",
    "print (\"Max-Heap array: \" + str(arr))\n",
    "\n",
    "deleteNode(arr, 4)\n",
    "print(\"After deleting an element: \" + str(arr))"
   ]
  }
 ],
 "metadata": {
  "kernelspec": {
   "display_name": "Python 3",
   "language": "python",
   "name": "python3"
  },
  "language_info": {
   "codemirror_mode": {
    "name": "ipython",
    "version": 3
   },
   "file_extension": ".py",
   "mimetype": "text/x-python",
   "name": "python",
   "nbconvert_exporter": "python",
   "pygments_lexer": "ipython3",
   "version": "3.7.6"
  }
 },
 "nbformat": 4,
 "nbformat_minor": 4
}
