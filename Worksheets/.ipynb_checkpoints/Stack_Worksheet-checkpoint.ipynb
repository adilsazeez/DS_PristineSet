{
 "cells": [
  {
   "cell_type": "markdown",
   "metadata": {
    "nbgrader": {
     "grade": false,
     "grade_id": "cell-a11c35d670a38021",
     "locked": true,
     "schema_version": 3,
     "solution": false,
     "task": false
    }
   },
   "source": [
    "# *Stack*\n",
    "\n",
    "**Prerequisites**: [*Basics of Loops, Lists, Functions.*]"
   ]
  },
  {
   "cell_type": "markdown",
   "metadata": {
    "nbgrader": {
     "grade": false,
     "grade_id": "cell-9daa1635d20cab02",
     "locked": true,
     "schema_version": 3,
     "solution": false,
     "task": false
    }
   },
   "source": [
    "## Exercise 1"
   ]
  },
  {
   "cell_type": "markdown",
   "metadata": {
    "nbgrader": {
     "grade": false,
     "grade_id": "cell-3ec6b48522f88918",
     "locked": true,
     "schema_version": 3,
     "solution": false,
     "task": false
    }
   },
   "source": [
    "Write an efficient code which implements stacks and its Operations."
   ]
  },
  {
   "cell_type": "markdown",
   "metadata": {
    "nbgrader": {
     "grade": false,
     "grade_id": "cell-e3fa94a87243baaf",
     "locked": true,
     "schema_version": 3,
     "solution": false,
     "task": false
    }
   },
   "source": [
    "#### Code Cell\n",
    "Below is the code cell for **Exercise 1**. Type in your code in the cell. "
   ]
  },
  {
   "cell_type": "code",
   "execution_count": 14,
   "metadata": {
    "nbgrader": {
     "grade": false,
     "grade_id": "cell-3e2f124599b2eda9",
     "locked": false,
     "schema_version": 3,
     "solution": true,
     "task": false
    }
   },
   "outputs": [],
   "source": [
    "class stack:\n",
    "    \n",
    "    #write the function definitions for push(), pop(), peek(), is_empty(), peek(), size() here-\n",
    "    def __init__(self, limit=10):\n",
    "        self.stack = []\n",
    "        self.limit = limit\n",
    "\n",
    "    def __bool__(self):\n",
    "        return bool(self.stack)\n",
    "\n",
    "    def __str__(self):\n",
    "        return str(self.stack)\n",
    "\n",
    "    def push(self, data):\n",
    "        \n",
    "        ## your code here\n",
    "        ### BEGIN SOLUTION\n",
    "        \n",
    "        if len(self.stack) >= self.limit:\n",
    "            raise StackOverflowError\n",
    "        self.stack.append(data)\n",
    "        \n",
    "        ### END SOLUTION\n",
    "\n",
    "    def pop(self):\n",
    "        \n",
    "        ## your code here\n",
    "        ### BEGIN SOLUTION\n",
    "        \n",
    "        if self.stack:\n",
    "            return self.stack.pop()\n",
    "        else:\n",
    "            raise IndexError(\"pop from an empty stack\")\n",
    "            \n",
    "        ### END SOLUTION\n",
    "\n",
    "    def peek(self):\n",
    "        \n",
    "        ## your code here\n",
    "        ### BEGIN SOLUTION\n",
    "        \n",
    "        if self.stack:\n",
    "            return self.stack[-1]\n",
    "        \n",
    "        ### END SOLUTION\n",
    "\n",
    "    def is_empty(self):\n",
    "        \n",
    "        ## your code here\n",
    "        ### BEGIN SOLUTION\n",
    "        \n",
    "        return not bool(self.stack)\n",
    "    \n",
    "        ### END SOLUTION\n",
    "\n",
    "    def size(self):\n",
    "        \n",
    "        ## your code here\n",
    "        ### BEGIN SOLUTION\n",
    "        \n",
    "        return len(self.stack)\n",
    "    \n",
    "        ### END SOLUTION"
   ]
  },
  {
   "cell_type": "markdown",
   "metadata": {
    "nbgrader": {
     "grade": false,
     "grade_id": "cell-738bfef8d46f461b",
     "locked": true,
     "schema_version": 3,
     "solution": false,
     "task": false
    }
   },
   "source": [
    "#### Test Cases \n",
    "Run the below test cell to validate your code for **Exercise 1**. The cell has test cases your code should pass. Please do not modify the contents of this cell."
   ]
  },
  {
   "cell_type": "code",
   "execution_count": 11,
   "metadata": {
    "nbgrader": {
     "grade": true,
     "grade_id": "cell-7012f18595f62a12",
     "locked": true,
     "points": 0,
     "schema_version": 3,
     "solution": false,
     "task": false
    }
   },
   "outputs": [
    {
     "name": "stdout",
     "output_type": "stream",
     "text": [
      "ALL PASSED!\n"
     ]
    }
   ],
   "source": [
    "stack = stack()\n",
    "for i in range(10):\n",
    "    stack.push(i)\n",
    "    \n",
    "assert stack.pop() == 9\n",
    "\n",
    "assert stack.peek() == 8\n",
    "\n",
    "stack.push(100)\n",
    "assert stack.peek() == 100\n",
    "\n",
    "assert stack.is_empty() == False\n",
    "\n",
    "assert stack.size() == 10\n",
    "\n",
    "print(\"ALL PASSED!\")"
   ]
  },
  {
   "cell_type": "markdown",
   "metadata": {
    "nbgrader": {
     "grade": false,
     "grade_id": "cell-3ac841b458b6e877",
     "locked": true,
     "schema_version": 3,
     "solution": false,
     "task": false
    }
   },
   "source": [
    "----\n",
    "## Exercise 2\n"
   ]
  },
  {
   "cell_type": "markdown",
   "metadata": {
    "nbgrader": {
     "grade": false,
     "grade_id": "cell-a59840daecd6f438",
     "locked": true,
     "schema_version": 3,
     "solution": false,
     "task": false
    }
   },
   "source": [
    "Convert Infix notation to Postfix notation using the stack class defined in Exercise 1.\n",
    "\n",
    "Sample Input:\n",
    "\n",
    "    A + B\n",
    "\n",
    "Sample Output:\n",
    "\n",
    "    A B +\n",
    "\n",
    "Explanation:\n",
    "\n",
    "Since 'A' and 'B' are the operands and '+' is the operator.Operator will always lies between the Operands.\n",
    "\n",
    "Hence to convert an Infix Expression  i.e 'A + B' to Postfix Expression.\n",
    "\n",
    "The operator will always lies at the end of the operands ,So the ouput of the given input is 'A B +'."
   ]
  },
  {
   "cell_type": "markdown",
   "metadata": {
    "nbgrader": {
     "grade": false,
     "grade_id": "cell-b0c1d84f26699b64",
     "locked": true,
     "schema_version": 3,
     "solution": false,
     "task": false
    }
   },
   "source": [
    "#### Input Cell\n",
    "Run the below cell to initialize the inputs required for your exercise. Do not modify the contents of this cell."
   ]
  },
  {
   "cell_type": "code",
   "execution_count": 12,
   "metadata": {
    "nbgrader": {
     "grade": false,
     "grade_id": "cell-70cfa0bc380cb08c",
     "locked": true,
     "schema_version": 3,
     "solution": false,
     "task": false
    }
   },
   "outputs": [],
   "source": [
    "prec = {}\n",
    "prec[\"*\"] = 3\n",
    "prec[\"/\"] = 3\n",
    "prec[\"+\"] = 2\n",
    "prec[\"-\"] = 2\n",
    "prec[\"(\"] = 1"
   ]
  },
  {
   "cell_type": "markdown",
   "metadata": {
    "nbgrader": {
     "grade": false,
     "grade_id": "cell-52ccea2375e41da5",
     "locked": true,
     "schema_version": 3,
     "solution": false,
     "task": false
    }
   },
   "source": [
    "#### Code Cell\n",
    "Below is the code cell for **Exercise 2**. Type your code in the cell."
   ]
  },
  {
   "cell_type": "code",
   "execution_count": 13,
   "metadata": {
    "nbgrader": {
     "grade": false,
     "grade_id": "cell-eed4d60b0d9182ab",
     "locked": false,
     "schema_version": 3,
     "solution": true,
     "task": false
    }
   },
   "outputs": [],
   "source": [
    "def infixToPostfix(infixexpr):\n",
    "    \n",
    "    ## your code here\n",
    "    ### BEGIN SOLUTION\n",
    "\n",
    "    opStack = stack()\n",
    "    postfixList = []\n",
    "    tokenList = infixexpr.split()\n",
    "\n",
    "    for token in tokenList:\n",
    "        \n",
    "        if token in \"ABCDEFGHIJKLMNOPQRSTUVWXYZ\" or token in \"0123456789\":\n",
    "            postfixList.append(token)\n",
    "            \n",
    "        elif token == '(':\n",
    "            opStack.push(token)\n",
    "            \n",
    "        elif token == ')':\n",
    "            topToken = opStack.pop()\n",
    "            \n",
    "            while topToken != '(':\n",
    "                postfixList.append(topToken)\n",
    "                topToken = opStack.pop()\n",
    "                \n",
    "        else:\n",
    "            \n",
    "            while (not opStack.is_empty()) and \\\n",
    "               (prec[opStack.peek()] >= prec[token]):\n",
    "                  postfixList.append(opStack.pop())\n",
    "            opStack.push(token)\n",
    "\n",
    "    while not opStack.is_empty():\n",
    "        postfixList.append(opStack.pop())\n",
    "    return \" \".join(postfixList)\n",
    "\n",
    "    ### END SOLUTION"
   ]
  },
  {
   "cell_type": "markdown",
   "metadata": {
    "nbgrader": {
     "grade": false,
     "grade_id": "cell-e13bf9d76655fa12",
     "locked": true,
     "schema_version": 3,
     "solution": false,
     "task": false
    }
   },
   "source": [
    "#### Test Cases \n",
    "Run the below test cell to validate your code for **Exercise 2**. The cell has test cases your code should pass. Please do not modify the contents of this cell."
   ]
  },
  {
   "cell_type": "code",
   "execution_count": 15,
   "metadata": {
    "nbgrader": {
     "grade": true,
     "grade_id": "cell-40b66851300168f3",
     "locked": true,
     "points": 0,
     "schema_version": 3,
     "solution": false,
     "task": false
    }
   },
   "outputs": [
    {
     "name": "stdout",
     "output_type": "stream",
     "text": [
      "ALL PASSED!\n"
     ]
    }
   ],
   "source": [
    "#Before running this test case run excercise 1 code cell.\n",
    "\n",
    "assert infixToPostfix('( A + B ) * ( C + D )') == 'A B + C D + *'\n",
    "\n",
    "assert infixToPostfix('( A + B ) * C - ( D - E ) * ( F + G )') == 'A B + C * D E - F G + * -'\n",
    "\n",
    "assert infixToPostfix(' A - B / ( C * D )')== 'A B C D * / -'\n",
    "\n",
    "print(\"ALL PASSED!\")"
   ]
  },
  {
   "cell_type": "markdown",
   "metadata": {
    "nbgrader": {
     "grade": false,
     "grade_id": "cell-0068fe199778bd1c",
     "locked": true,
     "schema_version": 3,
     "solution": false,
     "task": false
    }
   },
   "source": [
    "----\n",
    "## Exercise 3\n"
   ]
  },
  {
   "cell_type": "markdown",
   "metadata": {
    "nbgrader": {
     "grade": false,
     "grade_id": "cell-ebafa5ddb42abe6f",
     "locked": true,
     "schema_version": 3,
     "solution": false,
     "task": false
    }
   },
   "source": [
    "Write a Solve() function to evaluate the postfix expression while using the class Stack defined above in Exercise 1. \n",
    "\n",
    "Sample input:\n",
    "\n",
    "    12+\n",
    "\n",
    "Sample Output:\n",
    "\n",
    "    3\n",
    "\n",
    "Explanation:\n",
    "\n",
    "By converting the postfix expression to infix we get '1+2'.\n",
    "\n",
    "Hence by evaluating '1+2' the ouput is '3'."
   ]
  },
  {
   "cell_type": "markdown",
   "metadata": {
    "nbgrader": {
     "grade": false,
     "grade_id": "cell-47c6f1c94920bc0a",
     "locked": true,
     "schema_version": 3,
     "solution": false,
     "task": false
    }
   },
   "source": [
    "#### Code Cell\n",
    "Below is the code cell for **Exercise 3**. Type your code in the cell."
   ]
  },
  {
   "cell_type": "code",
   "execution_count": 16,
   "metadata": {
    "nbgrader": {
     "grade": false,
     "grade_id": "cell-838ae4e037d615f3",
     "locked": false,
     "schema_version": 3,
     "solution": true,
     "task": false
    }
   },
   "outputs": [],
   "source": [
    "class stack:\n",
    "    \n",
    "    def __init__(self, limit=10):\n",
    "        self.stack = []\n",
    "        self.limit = limit\n",
    "\n",
    "    def __bool__(self):\n",
    "        \n",
    "        return bool(self.stack)\n",
    "\n",
    "    def __str__(self):\n",
    "        \n",
    "        return str(self.stack)\n",
    "\n",
    "    def push(self, data):\n",
    "        \n",
    "        if len(self.stack) >= self.limit:\n",
    "            raise StackOverflowError\n",
    "        self.stack.append(data)\n",
    "    \n",
    "    def pop(self):\n",
    "        \n",
    "        if self.stack:\n",
    "            return self.stack.pop()\n",
    "        else:\n",
    "            raise IndexError(\"pop from an empty stack\")\n",
    "            \n",
    "    def peek(self):\n",
    "        \n",
    "        if self.stack:\n",
    "            return self.stack[-1]\n",
    "\n",
    "    def is_empty(self):\n",
    "        \n",
    "        return not bool(self.stack)\n",
    "\n",
    "    def size(self):\n",
    "        \n",
    "        return len(self.stack)\n",
    "    \n",
    "    def solve(self, exp): \n",
    "        \n",
    "        ##your code here\n",
    "        ###BEGIN SOLUTION\n",
    "        \n",
    "        for i in exp: \n",
    "              \n",
    "            if i.isdigit(): \n",
    "                self.push(i) \n",
    "   \n",
    "            else: \n",
    "                val1 = self.pop() \n",
    "                val2 = self.pop() \n",
    "                self.push(str(eval(val2 + i + val1))) \n",
    "  \n",
    "        return int(self.pop())\n",
    "\n",
    "        ###END SOLUTION"
   ]
  },
  {
   "cell_type": "markdown",
   "metadata": {
    "nbgrader": {
     "grade": false,
     "grade_id": "cell-008c81fb17574f90",
     "locked": true,
     "schema_version": 3,
     "solution": false,
     "task": false
    }
   },
   "source": [
    "#### Test Cases \n",
    "Run the below test cell to validate your code for **Exercise 3**. The cell has test cases your code should pass. Please do not modify the contents of this cell."
   ]
  },
  {
   "cell_type": "code",
   "execution_count": 17,
   "metadata": {
    "nbgrader": {
     "grade": true,
     "grade_id": "cell-d93fe716732b7d4e",
     "locked": true,
     "points": 0,
     "schema_version": 3,
     "solution": false,
     "task": false
    }
   },
   "outputs": [
    {
     "name": "stdout",
     "output_type": "stream",
     "text": [
      "ALL PASSED!\n"
     ]
    }
   ],
   "source": [
    "exp = \"231*+9-\"\n",
    "obj = stack(len(exp)) \n",
    "assert obj.solve(exp) == -4\n",
    "\n",
    "exp = \"569*+\"\n",
    "obj = stack(len(exp)) \n",
    "assert obj.solve(exp) == 59\n",
    "\n",
    "print(\"ALL PASSED!\")"
   ]
  },
  {
   "cell_type": "markdown",
   "metadata": {
    "nbgrader": {
     "grade": false,
     "grade_id": "cell-641c56ceec530d13",
     "locked": true,
     "schema_version": 3,
     "solution": false,
     "task": false
    }
   },
   "source": [
    "----\n",
    "## Exercise 4"
   ]
  },
  {
   "cell_type": "markdown",
   "metadata": {
    "nbgrader": {
     "grade": false,
     "grade_id": "cell-fc4db05d15eb8c16",
     "locked": true,
     "schema_version": 3,
     "solution": false,
     "task": false
    }
   },
   "source": [
    "Write an evaluate() function to evaluate the prefix expression while using the class Stack defined above in Exercise 1.\n",
    "\n",
    "Sample Input: \n",
    "\n",
    "    + 1 2\n",
    "\n",
    "Sample Output:\n",
    "\n",
    "    3\n",
    "\n",
    "Explanation:\n",
    "\n",
    "By converting the prefix expression i.e '+ 1 2' to infix we get '1 + 2'.\n",
    "\n",
    "Hence by evaluating the infix expression i.e '1 + 2' the output is '3'."
   ]
  },
  {
   "cell_type": "markdown",
   "metadata": {
    "nbgrader": {
     "grade": false,
     "grade_id": "cell-79394f2cd49d9a22",
     "locked": true,
     "schema_version": 3,
     "solution": false,
     "task": false
    }
   },
   "source": [
    "#### Input Cell\n",
    "Run the below cell to initialize the inputs required for your exercise. Do not modify the contents of this cell."
   ]
  },
  {
   "cell_type": "code",
   "execution_count": 18,
   "metadata": {
    "nbgrader": {
     "grade": false,
     "grade_id": "cell-dcb86727592f75fc",
     "locked": true,
     "schema_version": 3,
     "solution": false,
     "task": false
    }
   },
   "outputs": [],
   "source": [
    "calc = {\n",
    "    \"+\": lambda x, y: x + y,\n",
    "    \"-\": lambda x, y: x - y,\n",
    "    \"*\": lambda x, y: x * y,\n",
    "    \"/\": lambda x, y: x / y,\n",
    "}"
   ]
  },
  {
   "cell_type": "markdown",
   "metadata": {
    "nbgrader": {
     "grade": false,
     "grade_id": "cell-9584970444ca6812",
     "locked": true,
     "schema_version": 3,
     "solution": false,
     "task": false
    }
   },
   "source": [
    "#### Code Cell\n",
    "Below is the code cell for **Exercise 4**. Type your code in the cell."
   ]
  },
  {
   "cell_type": "code",
   "execution_count": 19,
   "metadata": {
    "nbgrader": {
     "grade": false,
     "grade_id": "cell-9f8a520fe83886e0",
     "locked": false,
     "schema_version": 3,
     "solution": true,
     "task": false
    }
   },
   "outputs": [],
   "source": [
    "def is_operand(c):\n",
    "    \n",
    "    ## your code here\n",
    "    ### BEGIN SOLUTION\n",
    "    \"\"\"\n",
    "    Return True if the given char c is an operand, e.g. it is a number\n",
    "    >>> is_operand(\"1\")\n",
    "    True\n",
    "    >>> is_operand(\"+\")\n",
    "    False\n",
    "    \"\"\"\n",
    "    return c.isdigit()\n",
    "\n",
    "    ### END SOLUTION\n",
    "\n",
    "\n",
    "def evaluate(expression):\n",
    "\n",
    "    stack = []\n",
    "    \n",
    "    ## your code here\n",
    "    ### BEGIN SOLUTION\n",
    "\n",
    "    # iterate over the string in reverse order\n",
    "    for c in expression.split()[::-1]:\n",
    "\n",
    "        # push operand to stack\n",
    "        if is_operand(c):\n",
    "            stack.append(int(c))\n",
    "\n",
    "        else:\n",
    "            # pop values from stack can calculate the result\n",
    "            # push the result onto the stack again\n",
    "            o1 = stack.pop()\n",
    "            o2 = stack.pop()\n",
    "            stack.append(calc[c](o1, o2))\n",
    "\n",
    "    return stack.pop()\n",
    "\n",
    "    ### END SOLUTION"
   ]
  },
  {
   "cell_type": "markdown",
   "metadata": {
    "nbgrader": {
     "grade": false,
     "grade_id": "cell-2ee14ee91327419d",
     "locked": true,
     "schema_version": 3,
     "solution": false,
     "task": false
    }
   },
   "source": [
    "#### Test Cases\n",
    "Run the below test cell to validate your code for **Exercise 4**. The cell has test cases your code should pass. Please do not modify the contents of this cell."
   ]
  },
  {
   "cell_type": "code",
   "execution_count": 20,
   "metadata": {
    "nbgrader": {
     "grade": true,
     "grade_id": "cell-cc0583241b3ffac5",
     "locked": true,
     "points": 0,
     "schema_version": 3,
     "solution": false,
     "task": false
    }
   },
   "outputs": [
    {
     "name": "stdout",
     "output_type": "stream",
     "text": [
      "ALL PASSED!\n"
     ]
    }
   ],
   "source": [
    "assert evaluate(\"+ 9 * 2 6\")==21\n",
    "\n",
    "assert evaluate(\"/ * 10 2 + 4 1 \")==4.0\n",
    "\n",
    "print(\"ALL PASSED!\")"
   ]
  },
  {
   "cell_type": "markdown",
   "metadata": {
    "nbgrader": {
     "grade": false,
     "grade_id": "cell-f96e11b566f7f07b",
     "locked": true,
     "schema_version": 3,
     "solution": false,
     "task": false
    }
   },
   "source": [
    "----\n",
    "## Exercise 5"
   ]
  },
  {
   "cell_type": "markdown",
   "metadata": {
    "nbgrader": {
     "grade": false,
     "grade_id": "cell-f2e5117c34d438dc",
     "locked": true,
     "schema_version": 3,
     "solution": false,
     "task": false
    }
   },
   "source": [
    "Write a parChecker() function to check for balanced paranthesis in a given expression using stack class defined in Exercise 1.\n",
    "\n",
    "Sample Input:\n",
    "\n",
    "()\n",
    "\n",
    "Sample Output:\n",
    "\n",
    "True\n",
    "\n",
    "Explanation:\n",
    "\n",
    "Since every expression consists eqal number of opening and closing parenthesis,here the input is'()' one opening and one closing parenthesis hence it doesn't lead to any misclarification and returns 'True' else returns 'False'."
   ]
  },
  {
   "cell_type": "markdown",
   "metadata": {
    "nbgrader": {
     "grade": false,
     "grade_id": "cell-5e6ce2f5355fc51e",
     "locked": true,
     "schema_version": 3,
     "solution": false,
     "task": false
    }
   },
   "source": [
    "#### Code Cell\n",
    "Below is the code cell for **Exercise 5**. Type your code in the cell."
   ]
  },
  {
   "cell_type": "code",
   "execution_count": 21,
   "metadata": {
    "nbgrader": {
     "grade": false,
     "grade_id": "cell-500016a1ebc54845",
     "locked": false,
     "schema_version": 3,
     "solution": true,
     "task": false
    }
   },
   "outputs": [],
   "source": [
    "def parChecker(symbolString):\n",
    "    s = stack()\n",
    "    \n",
    "    ## your code here\n",
    "    ### BEGIN SOLUTION\n",
    "    \n",
    "    balanced = True\n",
    "    index = 0\n",
    "    \n",
    "    while index < len(symbolString) and balanced:\n",
    "        symbol = symbolString[index]\n",
    "        if symbol == \"(\":\n",
    "            s.push(symbol)\n",
    "        else:\n",
    "            if s.is_empty():\n",
    "                balanced = False\n",
    "            else:\n",
    "                s.pop()\n",
    "\n",
    "        index = index + 1\n",
    "\n",
    "    if balanced and s.is_empty():\n",
    "        return True\n",
    "    else:\n",
    "        return False\n",
    "    \n",
    "    ### END SOLUTION"
   ]
  },
  {
   "cell_type": "markdown",
   "metadata": {
    "nbgrader": {
     "grade": false,
     "grade_id": "cell-3de5604e21a6e41d",
     "locked": true,
     "schema_version": 3,
     "solution": false,
     "task": false
    }
   },
   "source": [
    "#### Test Cases\n",
    "Run the below test cell to validate your code for **Exercise 5**. The cell has test cases your code should pass. Please do not modify the contents of this cell."
   ]
  },
  {
   "cell_type": "code",
   "execution_count": 22,
   "metadata": {
    "nbgrader": {
     "grade": true,
     "grade_id": "cell-46f5fab5ae696b79",
     "locked": true,
     "points": 0,
     "schema_version": 3,
     "solution": false,
     "task": false
    }
   },
   "outputs": [
    {
     "name": "stdout",
     "output_type": "stream",
     "text": [
      "ALL PASSED!\n"
     ]
    }
   ],
   "source": [
    "assert parChecker('((()))') == True\n",
    "\n",
    "assert parChecker('(()') == False\n",
    "\n",
    "print(\"ALL PASSED!\")"
   ]
  }
 ],
 "metadata": {
  "celltoolbar": "Create Assignment",
  "kernelspec": {
   "display_name": "Python 3",
   "language": "python",
   "name": "python3"
  },
  "language_info": {
   "codemirror_mode": {
    "name": "ipython",
    "version": 3
   },
   "file_extension": ".py",
   "mimetype": "text/x-python",
   "name": "python",
   "nbconvert_exporter": "python",
   "pygments_lexer": "ipython3",
   "version": "3.7.6"
  }
 },
 "nbformat": 4,
 "nbformat_minor": 4
}
