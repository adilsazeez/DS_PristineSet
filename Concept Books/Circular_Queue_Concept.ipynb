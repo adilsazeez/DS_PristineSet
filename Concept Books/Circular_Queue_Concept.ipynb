{
 "cells": [
  {
   "cell_type": "markdown",
   "metadata": {
    "id": "mjB0ps5OBWXd"
   },
   "source": [
    "# [Circular Queue](https://www.geeksforgeeks.org/circular-queue-set-1-introduction-array-implementation/)\n",
    "\n",
    "### What is Circular Queue?\n",
    "\n",
    "Circular Queue is a linear data structure in which the operations are performed based on FIFO (First In First Out) principle and the last position is connected back to the first position to make a circle. It is also called ‘Ring Buffer’. \n",
    "In a normal Queue, we can insert elements until queue becomes full. But once queue becomes full, we can not insert the next element even if there is a space in front of queue. (Source: GeeksforGeeks)\n",
    "\n",
    "---\n",
    "\n",
    "### Why Circular Queue?\n",
    "\n",
    "Circular Queues offer a quick and clean way to store FIFO data with a maximum size.\n",
    "- Doesn’t use dynamic memory → No memory leaks\n",
    "- Conserves memory as we only store up to our capacity (opposed to a queue which could continue to grow if input outpaces output.)\n",
    "- Simple Implementation → easy to trust and test\n",
    "- Never has to reorganize / copy data around\n",
    "- All operations occur in constant time O(1)\n",
    "\n",
    "---\n",
    "\n",
    "### Idea?\n",
    "\n",
    "A Queue is a simple data structure that implements the FIFO (First-In-First-Out) ordering. This simply means that the first item added to your queue is the first one out. Just like a line or queue of customers at the deli, the first customer in line is the first to be served. A circular queue is essentially a queue with a maximum size or capacity which will continue to loop back over itself in a circular motion.\n",
    "\n",
    "---\n",
    "\n",
    "### Example:\n",
    "\n",
    "\n",
    "<img src=\"https://drive.google.com/uc?id=1znHpIsh7Fe_KpkVyaLsZTjQDalM6fFU0\" align='center' />\n",
    "\n",
    "\n",
    "The above GIF depicts a circular queue representation that is implemented like a ring buffer.\n",
    "\n",
    "<img src=\"https://drive.google.com/uc?id=1NMOKPcPgSnNGAR99RfS02CY8Bapemxy3\" align='center' />\n",
    "\n",
    "---\n",
    "\n",
    "Here's another example that shows the change of control from the last position back to the first position to implement the circular queue functionality.\n",
    "\n",
    "---\n",
    "\n",
    "Here's a video of one more example. The video explains the workings of the Circular Queue Data Structure in a more generic way."
   ]
  },
  {
   "cell_type": "code",
   "execution_count": null,
   "metadata": {
    "id": "XqccLWlzBWXm",
    "outputId": "14db696e-b0de-4d7b-fa52-f1f137115586",
    "scrolled": false
   },
   "outputs": [
    {
     "data": {
      "text/html": [
       "\n",
       "        <iframe\n",
       "            width=\"814\"\n",
       "            height=\"509\"\n",
       "            src=\"https://www.youtube.com/embed/-GxuQ-Y8sbA\"\n",
       "            frameborder=\"0\"\n",
       "            allowfullscreen\n",
       "        ></iframe>\n",
       "        "
      ],
      "text/plain": [
       "<IPython.lib.display.IFrame at 0x1e5c30bd408>"
      ]
     },
     "execution_count": 1,
     "metadata": {
      "tags": []
     },
     "output_type": "execute_result"
    }
   ],
   "source": [
    "## Run this cell (shift+enter) to see the video\n",
    "\n",
    "from IPython.display import IFrame\n",
    "IFrame(\"https://www.youtube.com/embed/-GxuQ-Y8sbA\", width=\"814\", height=\"509\")"
   ]
  },
  {
   "cell_type": "markdown",
   "metadata": {
    "id": "qN_umgjiBWXo"
   },
   "source": [
    "### Building blocks for the Circular Queue Data Structure - "
   ]
  },
  {
   "cell_type": "markdown",
   "metadata": {
    "id": "UfvcnhRGBWXo"
   },
   "source": [
    "Notice a few things:\n",
    "\n",
    "**Circular Queue works by the process of circular increment**\n",
    "\n",
    "- when we try to increment the rear pointer and reach the end of the queue, we again start from the begining of the queue (rear again points to the begining of the queue).\n",
    "\n",
    "- Circular increment is implemented by applying modulo division with the queue size\n",
    "\n",
    "**Pointers used**\n",
    "\n",
    "- we will be using two pointer `FRONT` & `REAR`\n",
    "\n",
    "- `FRONT` keeps a track of the first element in the queue\n",
    "\n",
    "- `REAR` keeps a track of the last elements in the queue\n",
    "\n",
    "**Initialization**\n",
    "\n",
    "- Initially, set `FRONT` & `REAR` to `-1`\n",
    "\n",
    "**Additional check's for a \"full queue\" : ( When compared to a normal queue)** \n",
    "\n",
    "- `FRONT = 0 && REAR == SIZE - 1`\n",
    "\n",
    "- `FRONT = REAR + 1`"
   ]
  },
  {
   "cell_type": "markdown",
   "metadata": {
    "id": "cqVLRkzGBWXo"
   },
   "source": [
    "So how can we code a Circular Queue Data Structure? Lets break it down.\n",
    "\n",
    "There are 2 fundamental building blocks of a Circular Queue Data Structure-"
   ]
  },
  {
   "cell_type": "markdown",
   "metadata": {
    "id": "ZiLzA86kBWXp"
   },
   "source": [
    "## 1. Enqueue Operation"
   ]
  },
  {
   "cell_type": "code",
   "execution_count": null,
   "metadata": {
    "id": "9pKV1ox6BWXp"
   },
   "outputs": [],
   "source": [
    "# Let's intialize the pointers and size of the circular queue\n",
    "\n",
    "size = 5 ## Let's set the size values as 5\n",
    "queue = [None,20,30,40,50] ## Let's define the queue as partially filled, leaving the first position as empty\n",
    "front = 10 ## Since the first position is empty, front is set to 1\n",
    "rear = 4 ## Since the last position is filled, rear is set to 4"
   ]
  },
  {
   "cell_type": "markdown",
   "metadata": {
    "id": "TcbHctjSBWXq"
   },
   "source": [
    "- Firstly, let's check if the queue is full using the following condition:"
   ]
  },
  {
   "cell_type": "code",
   "execution_count": null,
   "metadata": {
    "id": "sxAfkaJSBWXq"
   },
   "outputs": [],
   "source": [
    "# In this cell we check if the queue is full or not\n",
    "\n",
    "if ((rear + 1) % size == front): ## Modulo division with the queue size condition is used, which results in false although the queue is full (last position is filled)\n",
    "        print(\"The circular queue is full\\n\")"
   ]
  },
  {
   "cell_type": "markdown",
   "metadata": {
    "id": "Mz14IrU1BWXq"
   },
   "source": [
    "Else, if the queue is empty,\n",
    "\n",
    "- for the first element - set value of `FRONT` to `0`\n",
    "\n",
    "- Add the new element in the position pointed to by `REAR`\n",
    "\n",
    "Else,\n",
    "\n",
    "- Circularly increase the `REAR` index by `1` (i.e. if the rear reaches the end, next it would be at the start of the queue)\n",
    "- Add the new element in the position pointed to by `REAR`"
   ]
  },
  {
   "cell_type": "code",
   "execution_count": null,
   "metadata": {
    "id": "WJrGfziBBWXq"
   },
   "outputs": [],
   "source": [
    "# In this cell we check if the queue is empty & add elements into it. \n",
    "# Else we circularly increment the REAR pointer and add elements into the empty positions at the begining of the queue \n",
    "\n",
    "data = 10 ## Let's try adding a single element in a partially filled queue\n",
    "\n",
    "if (front == -1): ## Queue is empty, update REAR & FRONT and add elements into it\n",
    "    front = 0\n",
    "    rear = 0\n",
    "    queue[rear] = data\n",
    "else:\n",
    "    rear = (rear + 1) % size ## Update the REAR pointer to point at the begining, since there is an empty position in the begining of the queue\n",
    "    queue[rear] = data ## Add element into the queue"
   ]
  },
  {
   "cell_type": "code",
   "execution_count": null,
   "metadata": {
    "id": "aKfmFx6EBWXr",
    "outputId": "badc8e86-ea71-4c55-d799-fecf4cd70470"
   },
   "outputs": [
    {
     "name": "stdout",
     "output_type": "stream",
     "text": [
      "[10, 20, 30, 40, 50]\n"
     ]
    }
   ],
   "source": [
    "print(queue) ## Displaying the resultant queue"
   ]
  },
  {
   "cell_type": "markdown",
   "metadata": {
    "id": "5OU_BwcRBWXr"
   },
   "source": [
    "**Tip: You can also execute the cells under the Enqueue header in a different order to get the complete understanding of how circular queue works** "
   ]
  },
  {
   "cell_type": "markdown",
   "metadata": {
    "id": "HTA0axMQBWXr"
   },
   "source": [
    "## 2. Dequeue Operation"
   ]
  },
  {
   "cell_type": "code",
   "execution_count": null,
   "metadata": {
    "id": "zCaQ2miLBWXs"
   },
   "outputs": [],
   "source": [
    "# Let's intialize the pointers and size of the circular queue\n",
    "\n",
    "size = 5 ## Let's set the size values as 5\n",
    "queue = [10, 20, 30, 40, 50] ## Let's define the queue as completely filled\n",
    "front = 0 ## Since the queue is full, front is set to 0\n",
    "rear = 4 ## Since the queue is full, rear is set to 4"
   ]
  },
  {
   "cell_type": "markdown",
   "metadata": {
    "id": "5YuPdRE4BWXs"
   },
   "source": [
    "- Firstly, let's check if the queue is empty using the following condition:"
   ]
  },
  {
   "cell_type": "code",
   "execution_count": null,
   "metadata": {
    "id": "fnSGamO-BWXs"
   },
   "outputs": [],
   "source": [
    "# In this cell we check if the queue is empty or not\n",
    "\n",
    "if (front == -1):\n",
    "        print(\"The circular queue is empty\\n\")"
   ]
  },
  {
   "cell_type": "markdown",
   "metadata": {
    "id": "9p4uIznfBWXt"
   },
   "source": [
    "Else, if the queue contains only a single element (last element)\n",
    "\n",
    "- Return the value pointed by `FRONT`\n",
    "\n",
    "- reset the values of `FRONT` and `REAR` to `-1`\n",
    "\n",
    "Else,\n",
    "\n",
    "- Return the value pointed by `FRONT`\n",
    "\n",
    "- Circularly increase the `FRONT` index by `1`"
   ]
  },
  {
   "cell_type": "code",
   "execution_count": null,
   "metadata": {
    "id": "HlKmb7sGBWXt",
    "outputId": "4a82fe73-9272-4987-88c5-34a5e998c944"
   },
   "outputs": [
    {
     "name": "stdout",
     "output_type": "stream",
     "text": [
      "Dequeued element :  10\n",
      "Updated Front ->  1\n"
     ]
    }
   ],
   "source": [
    "# In this cell we check if the queue has a single element, dequeue it\n",
    "# Else, dequeue the element pointed by FRONT & update FRONT\n",
    "\n",
    "if (front == rear): ## Queue has only a single element\n",
    "    temp = queue[front] ## dequeue, update FRONT & REAR\n",
    "    front = -1 \n",
    "    rear = -1\n",
    "    print(\"Dequeued element : \",temp) ## Display the dequeued element & FRONT\n",
    "    print(\"Front -> \",front)\n",
    "\n",
    "else:\n",
    "    temp = queue[front] ## dequeue the element at FRONT\n",
    "    front = (front + 1) % size ## Update the FRONT (modulo division with the queue size)\n",
    "    print(\"Dequeued element : \",temp) ## Display the dequeued element & FRONT\n",
    "    print(\"Updated Front -> \",front)"
   ]
  },
  {
   "cell_type": "markdown",
   "metadata": {
    "id": "CBdUAjw9BWXt"
   },
   "source": [
    "**Tip: You can also execute the cells under the Dequeue header in a different order to get the complete understanding of how circular queue works** "
   ]
  },
  {
   "cell_type": "code",
   "execution_count": null,
   "metadata": {
    "id": "QJZiQTAVBWXu"
   },
   "outputs": [],
   "source": [
    "# write a class CircularQueue() that will perform all the functions pertaining to a circular queue data structure\n",
    "\n",
    "class CircularQueue:\n",
    "\n",
    "    def __init__(self,size):\n",
    "        self.size = size\n",
    "        self.queue = [None]*size\n",
    "        self.front = self.front = -1\n",
    "        \n",
    "    # This function will display the elements inside the \"list\" queue (not the queue data structure)\n",
    "    def display(self):\n",
    "        print(self.queue)\n",
    "        \n",
    "    # This function will in insert an element into the queue\n",
    "    def enqueue(self, data):\n",
    "        \n",
    "        # write your code here\n",
    "        \n",
    "    # This function will delete an element from the queue\n",
    "    def dequeue(self):\n",
    "        \n",
    "        # write your code here\n",
    "    \n",
    "    # This function will display the elements in the queue starting from FRONT to REAR\n",
    "    def printCQueue(self):\n",
    "        \n",
    "        # write your code here\n",
    "    \n",
    "    "
   ]
  },
  {
   "cell_type": "markdown",
   "metadata": {
    "id": "gcyoOXkPBWXv"
   },
   "source": [
    "Double-click here for the solution.\n",
    "<!--\n",
    "\n",
    "class CircularQueue():\n",
    "\n",
    "    def __init__(self, k):\n",
    "        self.k = k\n",
    "        self.queue = [None] * k\n",
    "        self.front = self.rear = -1\n",
    "        \n",
    "    def display(self):\n",
    "        print(self.queue)\n",
    "\n",
    "    # Insert an element into the circular queue\n",
    "    def enqueue(self, data):\n",
    "\n",
    "        if ((self.rear + 1) % self.k == self.front):\n",
    "            print(\"The circular queue is full\\n\")\n",
    "\n",
    "        elif (self.front == -1):\n",
    "            self.front = 0\n",
    "            self.rear = 0\n",
    "            self.queue[self.rear] = data\n",
    "        else:\n",
    "            self.rear = (self.rear + 1) % self.k\n",
    "            self.queue[self.rear] = data\n",
    "\n",
    "    # Delete an element from the circular queue\n",
    "    def dequeue(self):\n",
    "        if (self.front == -1):\n",
    "            print(\"The circular queue is empty\\n\")\n",
    "\n",
    "        elif (self.front == self.rear):\n",
    "            temp = self.queue[self.front]\n",
    "            self.front = -1\n",
    "            self.rear = -1\n",
    "            return temp\n",
    "        else:\n",
    "            temp = self.queue[self.front]\n",
    "            self.front = (self.front + 1) % self.k\n",
    "            return temp\n",
    "\n",
    "    def printCQueue(self):\n",
    "        if(self.front == -1):\n",
    "            print(\"No element in the circular queue\")\n",
    "\n",
    "        elif (self.rear >= self.front):\n",
    "            for i in range(self.front, self.rear + 1):\n",
    "                print(self.queue[i], end=\" \")\n",
    "            print()\n",
    "        else:\n",
    "            for i in range(self.front, self.k):\n",
    "                print(self.queue[i], end=\" \")\n",
    "            for i in range(0, self.rear + 1):\n",
    "                print(self.queue[i], end=\" \")\n",
    "            print()\n",
    "\n",
    "-->"
   ]
  },
  {
   "cell_type": "code",
   "execution_count": null,
   "metadata": {
    "id": "LGjnKcflBWXx",
    "outputId": "5bfbb33f-c080-4014-be6b-a8bae7c47fb7"
   },
   "outputs": [
    {
     "name": "stdout",
     "output_type": "stream",
     "text": [
      "Initial Queue\n",
      "[1, 2, 3, 4, 5]\n",
      "After removing an element from the queue\n",
      "2 3 4 5 \n",
      "After Adding an element into the queue\n",
      "2 3 4 5 6 \n",
      "Final Queue\n",
      "[6, 2, 3, 4, 5]\n"
     ]
    }
   ],
   "source": [
    "# lets check if your CircularQueue class works - you should get the following output on executing this cell: \n",
    "\n",
    "\"\"\" \n",
    "Initial Queue\n",
    "[1, 2, 3, 4, 5]\n",
    "After removing an element from the queue\n",
    "2 3 4 5 \n",
    "After Adding an element into the queue\n",
    "2 3 4 5 6 \n",
    "Final Queue\n",
    "[6, 2, 3, 4, 5]\n",
    "\n",
    "\"\"\"  \n",
    "\n",
    "obj = CircularQueue(5)\n",
    "obj.enqueue(1)\n",
    "obj.enqueue(2)\n",
    "obj.enqueue(3)\n",
    "obj.enqueue(4)\n",
    "obj.enqueue(5)\n",
    "print(\"Initial Queue\")\n",
    "obj.display()\n",
    "\n",
    "obj.dequeue()\n",
    "print(\"After removing an element from the queue\")\n",
    "obj.printCQueue()\n",
    "\n",
    "print(\"After Adding an element into the queue\")\n",
    "obj.enqueue(6)\n",
    "obj.printCQueue()\n",
    "\n",
    "print(\"Final Queue\")\n",
    "obj.display()"
   ]
  }
 ],
 "metadata": {
  "colab": {
   "collapsed_sections": [],
   "name": "Circular_Queue_Concept.ipynb",
   "provenance": []
  },
  "kernelspec": {
   "display_name": "Python 3",
   "language": "python",
   "name": "python3"
  },
  "language_info": {
   "codemirror_mode": {
    "name": "ipython",
    "version": 3
   },
   "file_extension": ".py",
   "mimetype": "text/x-python",
   "name": "python",
   "nbconvert_exporter": "python",
   "pygments_lexer": "ipython3",
   "version": "3.7.6"
  }
 },
 "nbformat": 4,
 "nbformat_minor": 1
}
