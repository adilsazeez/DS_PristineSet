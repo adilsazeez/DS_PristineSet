{
 "cells": [
  {
   "cell_type": "markdown",
   "metadata": {
    "nbgrader": {
     "grade": false,
     "grade_id": "cell-a06c2a89e35fc23b",
     "locked": true,
     "schema_version": 3,
     "solution": false,
     "task": false
    }
   },
   "source": [
    "# *Heap*\n",
    "\n",
    "**Prerequisites**: [*Concepts of heap*]"
   ]
  },
  {
   "cell_type": "markdown",
   "metadata": {
    "nbgrader": {
     "grade": false,
     "grade_id": "cell-ce541bd00358e28a",
     "locked": true,
     "schema_version": 3,
     "solution": false,
     "task": false
    }
   },
   "source": [
    "## Exercise 1"
   ]
  },
  {
   "cell_type": "markdown",
   "metadata": {
    "nbgrader": {
     "grade": false,
     "grade_id": "cell-19386d68348e2f7f",
     "locked": true,
     "schema_version": 3,
     "solution": false,
     "task": false
    }
   },
   "source": [
    "Write a function to convert the list into min-heap and print the inorder traversal of the min-heap tree.The list of elements and the number of levels of the tree is given as the input.\n",
    "\n",
    "Note:\n",
    "\n",
    "mat --> contains list of nodes in level order(i.e)([1],[2,3],[4,5,6,7])\n",
    "\n",
    "Sample input:\n",
    "\n",
    "a = 11 6 19 4 8 17 43 5 10 31 49(List)\n",
    "\n",
    "level = 4\n",
    "\n",
    "Sample output:\n",
    " \n",
    "8 6 10 5 31 11 49 4 19 17 43"
   ]
  },
  {
   "cell_type": "markdown",
   "metadata": {
    "nbgrader": {
     "grade": false,
     "grade_id": "cell-0bf33cad18435c66",
     "locked": true,
     "schema_version": 3,
     "solution": false,
     "task": false
    }
   },
   "source": [
    "#### Input Cell\n",
    "Run the below cell to initialize the inputs required for your exercise. Do not modify the contents of this cell."
   ]
  },
  {
   "cell_type": "code",
   "execution_count": 52,
   "metadata": {
    "nbgrader": {
     "grade": false,
     "grade_id": "cell-ed58cdaabf0c9f8e",
     "locked": true,
     "schema_version": 3,
     "solution": false,
     "task": false
    }
   },
   "outputs": [],
   "source": [
    "a=[11,6,19,4,8,17,43,5,10,31,49] \n",
    "level=4 "
   ]
  },
  {
   "cell_type": "markdown",
   "metadata": {
    "nbgrader": {
     "grade": false,
     "grade_id": "cell-af5827c5db735b45",
     "locked": true,
     "schema_version": 3,
     "solution": false,
     "task": false
    }
   },
   "source": [
    "#### Code Cell\n",
    "Below is the code cell for **Exercise 1**. Type in your code in the cell. "
   ]
  },
  {
   "cell_type": "code",
   "execution_count": 56,
   "metadata": {
    "nbgrader": {
     "grade": false,
     "grade_id": "cell-2ec62f126b24dfbd",
     "locked": false,
     "schema_version": 3,
     "solution": true,
     "task": false
    }
   },
   "outputs": [],
   "source": [
    "class Node:\n",
    "    \n",
    "    def __init__(self,data):\n",
    "        self.data=data\n",
    "        self.left=None\n",
    "        self.right=None\n",
    "        \n",
    "def insert(pl,kl):\n",
    "    \n",
    "    ##your code here\n",
    "    ###BEGIN SOLUTION\n",
    "    \n",
    "    mh=0\n",
    "    tmp=[]\n",
    "    for i in pl:\n",
    "        if(kl[mh]==\"N\"):\n",
    "            i.left=None\n",
    "        else:\n",
    "            i.left=Node(int(kl[mh]))\n",
    "            tmp.append(i.left)\n",
    "        mh+=1\n",
    "        if(kl[mh]==\"N\"):\n",
    "            i.right=None\n",
    "        else:\n",
    "            i.right=Node(int(kl[mh]))\n",
    "            tmp.append(i.right)\n",
    "        mh+=1\n",
    "    return tmp\n",
    "\n",
    "def inorder(root):\n",
    "    if(root):\n",
    "        inorder(root.left)\n",
    "        print((root.data),end=\" \")\n",
    "        inorder(root.right)\n",
    "       \n",
    "    ###END SOLUTION\n",
    "    \n",
    "co=0\n",
    "i=len(a)-1\n",
    "\n",
    "while(co!=len(a)-2):\n",
    "    msk=((i+1)//2)-1\n",
    "    if(msk==-1):\n",
    "        pk=0\n",
    "    else:\n",
    "        pk=msk\n",
    "    if(a[i]<a[pk]):\n",
    "        tmp=a[i]\n",
    "        a[i]=a[pk]\n",
    "        a[pk]=tmp\n",
    "    else:\n",
    "        co+=1\n",
    "    i-=1\n",
    "    if(i==-1):\n",
    "        i=len(a)-1\n",
    "        co=0\n",
    "ai=list(map(str,a))\n",
    "mat=[]\n",
    "co=0\n",
    "f=1\n",
    "sta=0\n",
    "prevp=0\n",
    "\n",
    "for i in range(level):\n",
    "    en=2**i+prevp\n",
    "    if(en>len(ai)):\n",
    "        en=len(ai)\n",
    "    tmp=ai[sta:en]\n",
    "    sta=en\n",
    "    prevp=sta\n",
    "    if(len(tmp)!=2**i):\n",
    "        for ppoi in range(0,2**i-len(tmp)):\n",
    "            tmp.append(\"N\")\n",
    "    mat.append(tmp)\n",
    "    co+=1\n",
    "co=0\n",
    "psk=[]\n",
    "\n",
    "while(co<level):\n",
    "    if(co==0):\n",
    "        root=Node(int(mat[0][0]))\n",
    "        psk.append(root)\n",
    "    else:\n",
    "        ms=insert(psk,mat[co])\n",
    "        psk=ms[:]\n",
    "    co+=1"
   ]
  },
  {
   "cell_type": "markdown",
   "metadata": {
    "nbgrader": {
     "grade": false,
     "grade_id": "cell-c9984f83c9dd503c",
     "locked": true,
     "schema_version": 3,
     "solution": false,
     "task": false
    }
   },
   "source": [
    "#### Test Cases \n",
    "Run the below test cell to validate your code for **Exercise 1**. The cell has test cases your code should pass. Please do not modify the contents of this cell."
   ]
  },
  {
   "cell_type": "code",
   "execution_count": 60,
   "metadata": {
    "nbgrader": {
     "grade": true,
     "grade_id": "cell-933483ef34527a9c",
     "locked": true,
     "points": 0,
     "schema_version": 3,
     "solution": false,
     "task": false
    }
   },
   "outputs": [
    {
     "name": "stdout",
     "output_type": "stream",
     "text": [
      "ALL PASSED!\n",
      "8 6 10 5 31 11 49 4 19 17 43 "
     ]
    }
   ],
   "source": [
    "assert root is not None\n",
    "print(\"ALL PASSED!\")\n",
    "inorder(root)"
   ]
  },
  {
   "cell_type": "markdown",
   "metadata": {
    "nbgrader": {
     "grade": false,
     "grade_id": "cell-dff2e28fb880162f",
     "locked": true,
     "schema_version": 3,
     "solution": false,
     "task": false
    }
   },
   "source": [
    "----\n",
    "## Exercise 2\n"
   ]
  },
  {
   "cell_type": "markdown",
   "metadata": {
    "nbgrader": {
     "grade": false,
     "grade_id": "cell-4892bae12752c1a6",
     "locked": true,
     "schema_version": 3,
     "solution": false,
     "task": false
    }
   },
   "source": [
    "Write a function to delete the node in the min-heap.The function \"delete\" is used to delete the node to be deleted in the  min-heap.\n",
    "\n",
    "Note:\n",
    "\n",
    "key --> Node to delete.\n",
    "    \n",
    "mat --> contains list of nodes in level order(i.e)([1],[2,3],[4,5,6,7]).\n",
    "    \n",
    "ptr --> contains list of pointers in level order.\n",
    "\n",
    "Sample input:\n",
    "\n",
    "1,2,3,4,5,6,7,8,9,10,11,12,13,14,15(List)\n",
    "   \n",
    "level=4\n",
    "    \n",
    "todelete=1\n",
    "    \n",
    "Sample output:\n",
    "\n",
    "15 8 9 4 10 5 11 2 12 6 13 3 14 7(Inorder traversal after deletion of the node)."
   ]
  },
  {
   "cell_type": "markdown",
   "metadata": {
    "nbgrader": {
     "grade": false,
     "grade_id": "cell-f473c7ca2e8b0cde",
     "locked": true,
     "schema_version": 3,
     "solution": false,
     "task": false
    }
   },
   "source": [
    "#### Input Cell\n",
    "Run the below cell to initialize the inputs required for your exercise. Do not modify the contents of this cell."
   ]
  },
  {
   "cell_type": "code",
   "execution_count": 61,
   "metadata": {
    "nbgrader": {
     "grade": false,
     "grade_id": "cell-44a5a1ef5d174891",
     "locked": true,
     "schema_version": 3,
     "solution": false,
     "task": false
    }
   },
   "outputs": [],
   "source": [
    "a=[1,2,3,4,5,6,7,8,9,10,11,12,13,14,15]\n",
    "level=4 \n",
    "key=1"
   ]
  },
  {
   "cell_type": "markdown",
   "metadata": {
    "nbgrader": {
     "grade": false,
     "grade_id": "cell-14222a78e27c0168",
     "locked": true,
     "schema_version": 3,
     "solution": false,
     "task": false
    }
   },
   "source": [
    "#### Code Cell\n",
    "Below is the code cell for **Exercise 2**. Type your code in the cell."
   ]
  },
  {
   "cell_type": "code",
   "execution_count": 65,
   "metadata": {
    "nbgrader": {
     "grade": false,
     "grade_id": "cell-95b9b126dd4a4a44",
     "locked": false,
     "schema_version": 3,
     "solution": true,
     "task": false
    }
   },
   "outputs": [],
   "source": [
    "def delete(mat,ptr,key):\n",
    "    \n",
    "    ##your code here\n",
    "    ###BEGIN SOLUTION\n",
    "\n",
    "    qu=len(mat[-1])//2\n",
    "    re=len(mat[-1])%2\n",
    "    le=0\n",
    "    ri=0\n",
    "    if(re==0):\n",
    "        jkm=ptr[-2][qu-1]\n",
    "        ri=1\n",
    "    else:\n",
    "        jkm=ptr[-2][qu-1]\n",
    "        le=1\n",
    "    if(le==1):\n",
    "        jkm.left=None\n",
    "    else:\n",
    "        jkm.right=None\n",
    "    msp=0\n",
    "    \n",
    "    for wsq in ptr:\n",
    "        for pu in wsq:\n",
    "            if((pu.data==key) and (msp==0)):\n",
    "                iot=pu\n",
    "                msp=1\n",
    "                break\n",
    "                \n",
    "    if(msp==1):\n",
    "        iot.data=ptr[-1][-1].data\n",
    "        while((iot.left is not None) or (iot.right is not None)):\n",
    "            plte=[]\n",
    "            rwq=[]\n",
    "            if(iot.left is not None):\n",
    "                lk=iot.left.data\n",
    "                rwq.append(iot.left)\n",
    "                plte.append(lk)\n",
    "            if(iot.right is not None):\n",
    "                rk=iot.right.data\n",
    "                plte.append(rk)\n",
    "                rwq.append(iot.right)\n",
    "            aew=iot.data\n",
    "            sma=min(plte)\n",
    "            az=plte.index(sma)\n",
    "            swap=iot.data\n",
    "            iot.data=sma\n",
    "            sma=swap\n",
    "            if(az==0):\n",
    "                iot=iot.left\n",
    "                iot.data=aew\n",
    "            else:\n",
    "                iot=iot.right\n",
    "                iot.data=aew\n",
    "        return 1\n",
    "    else:\n",
    "        return 0\n",
    "    \n",
    "        print(\"The node to delete is not present in the heap\")\n",
    "        \n",
    "    ###END SOLUTION\n",
    "\n",
    "co=0\n",
    "i=len(a)-1\n",
    "while(co!=len(a)-2):\n",
    "    msk=((i+1)//2)-1\n",
    "    if(msk==-1):\n",
    "        pk=0\n",
    "    else:\n",
    "        pk=msk\n",
    "    if(a[i]<a[pk]):\n",
    "        tmp=a[i]\n",
    "        a[i]=a[pk]\n",
    "        a[pk]=tmp\n",
    "    else:\n",
    "        co+=1\n",
    "    i-=1\n",
    "    if(i==-1):\n",
    "        i=len(a)-1\n",
    "        co=0\n",
    "        \n",
    "ai=list(map(str,a))\n",
    "mat=[]\n",
    "co=0\n",
    "f=1\n",
    "sta=0\n",
    "prevp=0\n",
    "for i in range(level):\n",
    "    en=2**i+prevp\n",
    "    if(en>len(ai)):\n",
    "        en=len(ai)\n",
    "    tmp=ai[sta:en]\n",
    "    sta=en\n",
    "    prevp=sta\n",
    "    if(len(tmp)!=2**i):\n",
    "        for ppoi in range(0,2**i-len(tmp)):\n",
    "            tmp.append(\"N\")\n",
    "    mat.append(tmp)\n",
    "    co+=1\n",
    "co=0\n",
    "psk=[]\n",
    "ptr=[]\n",
    "while(co<level):\n",
    "    if(co==0):\n",
    "        root=Node(int(mat[0][0]))\n",
    "        psk.append(root)\n",
    "        ptr.append(psk)\n",
    "    else:\n",
    "        ms=insert(psk,mat[co])\n",
    "        psk=ms[:]\n",
    "        ptr.append(psk)\n",
    "    co+=1"
   ]
  },
  {
   "cell_type": "markdown",
   "metadata": {
    "nbgrader": {
     "grade": false,
     "grade_id": "cell-f0290bdd601846b7",
     "locked": true,
     "schema_version": 3,
     "solution": false,
     "task": false
    }
   },
   "source": [
    "#### Test Cases \n",
    "Run the below test cell to validate your code for **Exercise 2**. The cell has test cases your code should pass. Please do not modify the contents of this cell."
   ]
  },
  {
   "cell_type": "code",
   "execution_count": 66,
   "metadata": {
    "nbgrader": {
     "grade": true,
     "grade_id": "cell-f502e8909dcf6eb8",
     "locked": true,
     "points": 0,
     "schema_version": 3,
     "solution": false,
     "task": false
    }
   },
   "outputs": [
    {
     "name": "stdout",
     "output_type": "stream",
     "text": [
      "ALL PASSED!\n",
      "15 8 9 4 10 5 11 2 12 6 13 3 14 7 "
     ]
    }
   ],
   "source": [
    "assert delete(mat,ptr,key) == 1\n",
    "print(\"ALL PASSED!\")\n",
    "inorder(root)"
   ]
  },
  {
   "cell_type": "markdown",
   "metadata": {
    "nbgrader": {
     "grade": false,
     "grade_id": "cell-bceaf6168903ad92",
     "locked": true,
     "schema_version": 3,
     "solution": false,
     "task": false
    },
    "slideshow": {
     "slide_type": "notes"
    }
   },
   "source": [
    "----\n",
    "## Exercise 3\n"
   ]
  },
  {
   "cell_type": "markdown",
   "metadata": {
    "nbgrader": {
     "grade": false,
     "grade_id": "cell-b2d46caf29e3ec6a",
     "locked": true,
     "schema_version": 3,
     "solution": false,
     "task": false
    }
   },
   "source": [
    "Write a function to print the right view of a min-heap.The function \"rightview\" is used to print the right view of the min-heap.\n",
    "\n",
    "Note:\n",
    "\n",
    "mat --> contains list of nodes in level order(i.e)([1],[2,3],[4,5,6,7])\n",
    "\n",
    "Sample input:\n",
    "\n",
    "[1, 2, 3, 4, 5, 6, 7, 8, 9, 10, 11, 12, 13, 14, 15]\n",
    "\n",
    "level=4\n",
    "    \n",
    "Sample output:\n",
    "\n",
    "[1, 3, 7, 15]"
   ]
  },
  {
   "cell_type": "markdown",
   "metadata": {
    "nbgrader": {
     "grade": false,
     "grade_id": "cell-aaeaeb10536cefc2",
     "locked": true,
     "schema_version": 3,
     "solution": false,
     "task": false
    }
   },
   "source": [
    "#### Input Cell\n",
    "Run the below cell to initialize the inputs required for your exercise. Do not modify the contents of this cell."
   ]
  },
  {
   "cell_type": "code",
   "execution_count": 67,
   "metadata": {
    "nbgrader": {
     "grade": false,
     "grade_id": "cell-034ce7a82ceb4b48",
     "locked": true,
     "schema_version": 3,
     "solution": false,
     "task": false
    }
   },
   "outputs": [],
   "source": [
    "a=[1,2,3,4,5,6,7,8,9,10,11,12,13,14,15]\n",
    "level=4"
   ]
  },
  {
   "cell_type": "markdown",
   "metadata": {
    "nbgrader": {
     "grade": false,
     "grade_id": "cell-5e7c3d6b5a65a6ad",
     "locked": true,
     "schema_version": 3,
     "solution": false,
     "task": false
    }
   },
   "source": [
    "#### Code Cell\n",
    "Below is the code cell for **Exercise 3**. Type your code in the cell."
   ]
  },
  {
   "cell_type": "code",
   "execution_count": 69,
   "metadata": {
    "nbgrader": {
     "grade": false,
     "grade_id": "cell-70a9b90a2f9fd107",
     "locked": false,
     "schema_version": 3,
     "solution": true,
     "task": false
    }
   },
   "outputs": [],
   "source": [
    "def rightview(root):\n",
    "    \n",
    "    ##your code here\n",
    "    ###BEGIN SOLUTION\n",
    "\n",
    "    res=[]\n",
    "    queue=[]\n",
    "    queue.append(root)\n",
    "    tmpr=[]\n",
    "    res.append(root.data)\n",
    "    while(len(queue)>0):\n",
    "        tmp=[]\n",
    "        kl=queue[:]\n",
    "        sk=len(kl)\n",
    "        sm=[]\n",
    "        for i in range(0,len(kl)):\n",
    "            \n",
    "            if(kl[i].left is not None):\n",
    "                sm.append(kl[i].left)\n",
    "                tmp.append(kl[i].left.data)\n",
    "            if(kl[i].right is not None):\n",
    "                sm.append(kl[i].right)\n",
    "                tmp.append(kl[i].right.data)\n",
    "        queue=sm[:]\n",
    "        try:\n",
    "            res.append(tmp[-1])\n",
    "        except:\n",
    "            pass\n",
    "    return res\n",
    "\n",
    "    ###END SOLUTION\n",
    "\n",
    "co=0\n",
    "i=len(a)-1 \n",
    "\n",
    "while(co!=len(a)-2):\n",
    "    msk=((i+1)//2)-1\n",
    "    if(msk==-1):\n",
    "        pk=0\n",
    "    else:\n",
    "        pk=msk\n",
    "    if(a[i]<a[pk]):\n",
    "        tmp=a[i]\n",
    "        a[i]=a[pk]\n",
    "        a[pk]=tmp\n",
    "    else:\n",
    "        co+=1\n",
    "    i-=1\n",
    "    if(i==-1):\n",
    "        i=len(a)-1\n",
    "        co=0\n",
    "        \n",
    "ai=list(map(str,a))\n",
    "mat=[]\n",
    "co=0\n",
    "f=1\n",
    "sta=0\n",
    "prevp=0\n",
    "\n",
    "for i in range(level):\n",
    "    en=2**i+prevp\n",
    "    if(en>len(ai)):\n",
    "        en=len(ai)\n",
    "    tmp=ai[sta:en]\n",
    "    sta=en\n",
    "    prevp=sta\n",
    "    if(len(tmp)!=2**i):\n",
    "        for ppoi in range(0,2**i-len(tmp)):\n",
    "            tmp.append(\"N\")\n",
    "    mat.append(tmp)\n",
    "    co+=1\n",
    "    \n",
    "co=0\n",
    "psk=[]\n",
    "\n",
    "while(co<level):\n",
    "    if(co==0):\n",
    "        root=Node(int(mat[0][0]))\n",
    "        psk.append(root)\n",
    "    else:\n",
    "        ms=insert(psk,mat[co])\n",
    "        psk=ms[:]\n",
    "    co+=1"
   ]
  },
  {
   "cell_type": "markdown",
   "metadata": {
    "nbgrader": {
     "grade": false,
     "grade_id": "cell-d7121632e26e5b24",
     "locked": true,
     "schema_version": 3,
     "solution": false,
     "task": false
    }
   },
   "source": [
    "#### Test Cases \n",
    "Run the below test cell to validate your code for **Exercise 3**. The cell has test cases your code should pass. Please do not modify the contents of this cell."
   ]
  },
  {
   "cell_type": "code",
   "execution_count": 71,
   "metadata": {
    "nbgrader": {
     "grade": true,
     "grade_id": "cell-33d4a01fd430ba7b",
     "locked": true,
     "points": 0,
     "schema_version": 3,
     "solution": false,
     "task": false
    }
   },
   "outputs": [
    {
     "name": "stdout",
     "output_type": "stream",
     "text": [
      "ALL PASSED!\n"
     ]
    }
   ],
   "source": [
    "assert len(rightview(root)) == 4\n",
    "\n",
    "assert rightview(root) == [1, 3, 7, 15]\n",
    "\n",
    "print(\"ALL PASSED!\")"
   ]
  },
  {
   "cell_type": "markdown",
   "metadata": {
    "nbgrader": {
     "grade": false,
     "grade_id": "cell-2ce3a72b6ff22a58",
     "locked": true,
     "schema_version": 3,
     "solution": false,
     "task": false
    }
   },
   "source": [
    "----\n",
    "## Exercise 4"
   ]
  },
  {
   "cell_type": "markdown",
   "metadata": {
    "nbgrader": {
     "grade": false,
     "grade_id": "cell-b9c3edaa34d6959f",
     "locked": true,
     "schema_version": 3,
     "solution": false,
     "task": false
    }
   },
   "source": [
    "Write a function to print the Larger element of a min-heap.The function large(root,li1) is used to print the larger element of the min-heap,where root is the pointer of the root and li1 is the list that is used to find the greater element in the min-heap.\n",
    "\n",
    "Note:\n",
    "\n",
    "mat --> contains list of nodes in level order(i.e)([1],[2,3],[4,5,6,7])\n",
    "\n",
    "Sample input:\n",
    "\n",
    "[1, 2, 3, 4, 5, 6, 7, 8, 9, 10, 11, 12, 13, 14, 15]\n",
    "\n",
    "level=4\n",
    "    \n",
    "Sample output:\n",
    "\n",
    "15"
   ]
  },
  {
   "cell_type": "markdown",
   "metadata": {
    "nbgrader": {
     "grade": false,
     "grade_id": "cell-006ff154a30e6572",
     "locked": true,
     "schema_version": 3,
     "solution": false,
     "task": false
    }
   },
   "source": [
    "#### Input Cell\n",
    "Run the below cell to initialize the inputs required for your exercise. Do not modify the contents of this cell."
   ]
  },
  {
   "cell_type": "code",
   "execution_count": 72,
   "metadata": {
    "nbgrader": {
     "grade": false,
     "grade_id": "cell-a6f5212739f6ce5c",
     "locked": true,
     "schema_version": 3,
     "solution": false,
     "task": false
    }
   },
   "outputs": [],
   "source": [
    "a=[1,2,3,4,5,6,7,8,9,10,11,12,13,14,15]\n",
    "level=4 "
   ]
  },
  {
   "cell_type": "markdown",
   "metadata": {
    "nbgrader": {
     "grade": false,
     "grade_id": "cell-598f21fc0bf25770",
     "locked": true,
     "schema_version": 3,
     "solution": false,
     "task": false
    }
   },
   "source": [
    "#### Code Cell\n",
    "Below is the code cell for **Exercise 4**. Type your code in the cell."
   ]
  },
  {
   "cell_type": "code",
   "execution_count": 74,
   "metadata": {
    "nbgrader": {
     "grade": false,
     "grade_id": "cell-5d0ea47ca640c947",
     "locked": false,
     "schema_version": 3,
     "solution": true,
     "task": false
    }
   },
   "outputs": [],
   "source": [
    "def large(root,li1):\n",
    "    \n",
    "    ##your code here\n",
    "    ###BEGIN SOLUTION\n",
    "\n",
    "    if root is None:\n",
    "        return 0\n",
    "    li1.append(root.data)\n",
    "    if(root.left is not None):\n",
    "        large(root.left,li1)\n",
    "    if(root.right is not None):\n",
    "        large(root.right,li1)\n",
    "    return max(li1)\n",
    "\n",
    "    ###END SOLUTION\n",
    "    \n",
    "co=0\n",
    "i=len(a)-1\n",
    "\n",
    "while(co!=len(a)-2):\n",
    "    msk=((i+1)//2)-1\n",
    "    if(msk==-1):\n",
    "        pk=0\n",
    "    else:\n",
    "        pk=msk\n",
    "    if(a[i]<a[pk]):\n",
    "        tmp=a[i]\n",
    "        a[i]=a[pk]\n",
    "        a[pk]=tmp\n",
    "    else:\n",
    "        co+=1\n",
    "    i-=1\n",
    "    if(i==-1):\n",
    "        i=len(a)-1\n",
    "        co=0\n",
    "ai=list(map(str,a))\n",
    "mat=[]\n",
    "co=0\n",
    "f=1\n",
    "sta=0\n",
    "prevp=0\n",
    "\n",
    "for i in range(level):\n",
    "    en=2**i+prevp\n",
    "    if(en>len(ai)):\n",
    "        en=len(ai)\n",
    "    tmp=ai[sta:en]\n",
    "    sta=en\n",
    "    prevp=sta\n",
    "    if(len(tmp)!=2**i):\n",
    "        for ppoi in range(0,2**i-len(tmp)):\n",
    "            tmp.append(\"N\")\n",
    "    mat.append(tmp)\n",
    "    co+=1\n",
    "co=0\n",
    "psk=[]\n",
    "\n",
    "while(co<level):\n",
    "    if(co==0):\n",
    "        root=Node(int(mat[0][0]))\n",
    "        psk.append(root)\n",
    "    else:\n",
    "        ms=insert(psk,mat[co])\n",
    "        psk=ms[:]\n",
    "    co+=1"
   ]
  },
  {
   "cell_type": "markdown",
   "metadata": {
    "nbgrader": {
     "grade": false,
     "grade_id": "cell-159515cfc361ad86",
     "locked": true,
     "schema_version": 3,
     "solution": false,
     "task": false
    }
   },
   "source": [
    "#### Test Cases\n",
    "Run the below test cell to validate your code for **Exercise 4**. The cell has test cases your code should pass. Please do not modify the contents of this cell."
   ]
  },
  {
   "cell_type": "code",
   "execution_count": 76,
   "metadata": {
    "nbgrader": {
     "grade": true,
     "grade_id": "cell-833f0ae200c2a3ea",
     "locked": true,
     "points": 0,
     "schema_version": 3,
     "solution": false,
     "task": false
    }
   },
   "outputs": [
    {
     "name": "stdout",
     "output_type": "stream",
     "text": [
      "ALL PASSED!\n"
     ]
    }
   ],
   "source": [
    "li1=[]\n",
    "assert large(root,li1) == max(a)\n",
    "\n",
    "assert large(root,li1) == 15\n",
    "\n",
    "print(\"ALL PASSED!\")"
   ]
  },
  {
   "cell_type": "markdown",
   "metadata": {
    "nbgrader": {
     "grade": false,
     "grade_id": "cell-22d7c8bd6a1de0b1",
     "locked": true,
     "schema_version": 3,
     "solution": false,
     "task": false
    }
   },
   "source": [
    "----\n",
    "## Exercise 5"
   ]
  },
  {
   "cell_type": "markdown",
   "metadata": {
    "nbgrader": {
     "grade": false,
     "grade_id": "cell-4c4d19b5d60c63ec",
     "locked": true,
     "schema_version": 3,
     "solution": false,
     "task": false
    }
   },
   "source": [
    "Write a function to check whether the min-heap is empty or not.The function \"isempty\" is used to check whether the min-heap is empty or not.\n",
    "\n",
    "Note:\n",
    "\n",
    "mat --> contains list of nodes in level order(i.e)([1],[2,3],[4,5,6,7])\n",
    "\n",
    "Sample input:\n",
    "\n",
    "root=None\n",
    " \n",
    "Sample output:\n",
    "\n",
    "The tree is empty."
   ]
  },
  {
   "cell_type": "markdown",
   "metadata": {
    "nbgrader": {
     "grade": false,
     "grade_id": "cell-0ffd3d239deeb568",
     "locked": true,
     "schema_version": 3,
     "solution": false,
     "task": false
    }
   },
   "source": [
    "#### Input Cell\n",
    "Run the below cell to initialize the inputs required for your exercise. Do not modify the contents of this cell."
   ]
  },
  {
   "cell_type": "code",
   "execution_count": 77,
   "metadata": {
    "nbgrader": {
     "grade": false,
     "grade_id": "cell-ee5ae73559daa7d3",
     "locked": true,
     "schema_version": 3,
     "solution": false,
     "task": false
    }
   },
   "outputs": [],
   "source": [
    "a=[1,2,3,4,5,6,7,8,9,10,11,12,13,14,15]\n",
    "level=4"
   ]
  },
  {
   "cell_type": "markdown",
   "metadata": {
    "nbgrader": {
     "grade": false,
     "grade_id": "cell-8c18e42178885a0a",
     "locked": true,
     "schema_version": 3,
     "solution": false,
     "task": false
    }
   },
   "source": [
    "#### Code Cell\n",
    "Below is the code cell for **Exercise 5**. Type your code in the cell."
   ]
  },
  {
   "cell_type": "code",
   "execution_count": 82,
   "metadata": {
    "nbgrader": {
     "grade": false,
     "grade_id": "cell-658b3178f675dcb0",
     "locked": false,
     "schema_version": 3,
     "solution": true,
     "task": false
    }
   },
   "outputs": [],
   "source": [
    "def isempty(root):\n",
    "    \n",
    "    ##your code here\n",
    "    ###BEGIN SOLUTION\n",
    "\n",
    "    if(root is None):\n",
    "        return True\n",
    "    else:\n",
    "        return False\n",
    "    \n",
    "    ###END SOLUTION\n",
    "    \n",
    "co=0\n",
    "i=len(a)-1\n",
    "\n",
    "while(co!=len(a)-2):\n",
    "    msk=((i+1)//2)-1\n",
    "    if(msk==-1):\n",
    "        pk=0\n",
    "    else:\n",
    "        pk=msk\n",
    "    if(a[i]<a[pk]):\n",
    "        tmp=a[i]\n",
    "        a[i]=a[pk]\n",
    "        a[pk]=tmp\n",
    "    else:\n",
    "        co+=1\n",
    "    i-=1\n",
    "    if(i==-1):\n",
    "        i=len(a)-1\n",
    "        co=0\n",
    "        \n",
    "ai=list(map(str,a))\n",
    "mat=[]\n",
    "co=0\n",
    "f=1\n",
    "sta=0\n",
    "prevp=0\n",
    "\n",
    "for i in range(level):\n",
    "    en=2**i+prevp\n",
    "    if(en>len(ai)):\n",
    "        en=len(ai)\n",
    "    tmp=ai[sta:en]\n",
    "    sta=en\n",
    "    prevp=sta\n",
    "    if(len(tmp)!=2**i):\n",
    "        for ppoi in range(0,2**i-len(tmp)):\n",
    "            tmp.append(\"N\")\n",
    "    mat.append(tmp)\n",
    "    co+=1\n",
    "co=0\n",
    "psk=[]\n",
    "\n",
    "while(co<level):\n",
    "    if(co==0):\n",
    "        root=Node(int(mat[0][0]))\n",
    "        psk.append(root)\n",
    "    else:\n",
    "        ms=insert(psk,mat[co])\n",
    "        psk=ms[:]\n",
    "    co+=1"
   ]
  },
  {
   "cell_type": "markdown",
   "metadata": {
    "nbgrader": {
     "grade": false,
     "grade_id": "cell-827fe78d346f7bc3",
     "locked": true,
     "schema_version": 3,
     "solution": false,
     "task": false
    }
   },
   "source": [
    "#### Test Cases\n",
    "Run the below test cell to validate your code for **Exercise 5**. The cell has test cases your code should pass. Please do not modify the contents of this cell."
   ]
  },
  {
   "cell_type": "code",
   "execution_count": 83,
   "metadata": {
    "nbgrader": {
     "grade": true,
     "grade_id": "cell-6344067b20760ae0",
     "locked": true,
     "points": 0,
     "schema_version": 3,
     "solution": false,
     "task": false
    }
   },
   "outputs": [
    {
     "name": "stdout",
     "output_type": "stream",
     "text": [
      "ALL PASSED!\n"
     ]
    }
   ],
   "source": [
    "assert isempty(root)==False\n",
    "\n",
    "root=None\n",
    "assert isempty(root)==True\n",
    "\n",
    "print(\"ALL PASSED!\")"
   ]
  }
 ],
 "metadata": {
  "celltoolbar": "Create Assignment",
  "kernelspec": {
   "display_name": "Python 3",
   "language": "python",
   "name": "python3"
  },
  "language_info": {
   "codemirror_mode": {
    "name": "ipython",
    "version": 3
   },
   "file_extension": ".py",
   "mimetype": "text/x-python",
   "name": "python",
   "nbconvert_exporter": "python",
   "pygments_lexer": "ipython3",
   "version": "3.7.6"
  },
  "varInspector": {
   "cols": {
    "lenName": 16,
    "lenType": 16,
    "lenVar": 40
   },
   "kernels_config": {
    "python": {
     "delete_cmd_postfix": "",
     "delete_cmd_prefix": "del ",
     "library": "var_list.py",
     "varRefreshCmd": "print(var_dic_list())"
    },
    "r": {
     "delete_cmd_postfix": ") ",
     "delete_cmd_prefix": "rm(",
     "library": "var_list.r",
     "varRefreshCmd": "cat(var_dic_list()) "
    }
   },
   "types_to_exclude": [
    "module",
    "function",
    "builtin_function_or_method",
    "instance",
    "_Feature"
   ],
   "window_display": true
  }
 },
 "nbformat": 4,
 "nbformat_minor": 4
}
