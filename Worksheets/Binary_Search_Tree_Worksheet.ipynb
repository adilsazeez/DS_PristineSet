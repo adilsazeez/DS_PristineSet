{
 "cells": [
  {
   "cell_type": "markdown",
   "metadata": {
    "nbgrader": {
     "grade": false,
     "grade_id": "cell-a06c2a89e35fc23b",
     "locked": true,
     "schema_version": 3,
     "solution": false,
     "task": false
    }
   },
   "source": [
    "# *Binary Search Tree*\n",
    "\n",
    "**Prerequisites**: [*Cocepts of Search algorithms, Basics of Lists, Loops and Functions*]"
   ]
  },
  {
   "cell_type": "markdown",
   "metadata": {
    "nbgrader": {
     "grade": false,
     "grade_id": "cell-ce541bd00358e28a",
     "locked": true,
     "schema_version": 3,
     "solution": false,
     "task": false
    }
   },
   "source": [
    "## Exercise 1"
   ]
  },
  {
   "cell_type": "markdown",
   "metadata": {
    "nbgrader": {
     "grade": false,
     "grade_id": "cell-19386d68348e2f7f",
     "locked": true,
     "schema_version": 3,
     "solution": false,
     "task": false
    }
   },
   "source": [
    "Write a Python program to find the closest value of a given target value in a given non-empty Binary Search Tree (BST) of unique values.\n",
    "\n",
    "Sample Input:\n",
    "\n",
    "root = TreeNode(20)  \n",
    "\n",
    "root.left = TreeNode(15) \n",
    "\n",
    "root.right = TreeNode(25) \n",
    "\n",
    "result = closest_value(root,10)\n",
    "\n",
    "Sample Output:\n",
    "\n",
    "15\n",
    "\n",
    "Explanation:\n",
    "\n",
    "The closest_value of 10 is 15."
   ]
  },
  {
   "cell_type": "markdown",
   "metadata": {
    "nbgrader": {
     "grade": false,
     "grade_id": "cell-af5827c5db735b45",
     "locked": true,
     "schema_version": 3,
     "solution": false,
     "task": false
    }
   },
   "source": [
    "#### Code Cell\n",
    "Below is the code cell for **Exercise 1**. Type in your code in the cell. "
   ]
  },
  {
   "cell_type": "code",
   "execution_count": 1,
   "metadata": {
    "nbgrader": {
     "grade": false,
     "grade_id": "cell-2ec62f126b24dfbd",
     "locked": false,
     "schema_version": 3,
     "solution": true,
     "task": false
    }
   },
   "outputs": [],
   "source": [
    "class TreeNode(object):\n",
    "    def __init__(self, x):\n",
    "        self.val = x\n",
    "        self.left = None\n",
    "        self.right = None\n",
    "\n",
    "def closest_value(root, target):\n",
    "    \n",
    "    ##your code here\n",
    "    ###BEGIN SOLUTION\n",
    "    \n",
    "    a = root.val\n",
    "    kid = root.left if target < a else root.right\n",
    "    if not kid:\n",
    "        return a\n",
    "    b = closest_value(kid, target)\n",
    "    return min((a,b), key=lambda x: abs(target-x))\n",
    "\n",
    "    ###END SOLUTION"
   ]
  },
  {
   "cell_type": "markdown",
   "metadata": {
    "nbgrader": {
     "grade": false,
     "grade_id": "cell-c9984f83c9dd503c",
     "locked": true,
     "schema_version": 3,
     "solution": false,
     "task": false
    }
   },
   "source": [
    "#### Test Cases \n",
    "Run the below test cell to validate your code for **Exercise 1**. The cell has test cases your code should pass. Please do not modify the contents of this cell."
   ]
  },
  {
   "cell_type": "code",
   "execution_count": 2,
   "metadata": {
    "nbgrader": {
     "grade": true,
     "grade_id": "cell-933483ef34527a9c",
     "locked": true,
     "points": 0,
     "schema_version": 3,
     "solution": false,
     "task": false
    }
   },
   "outputs": [
    {
     "name": "stdout",
     "output_type": "stream",
     "text": [
      "ALL PASSED!\n"
     ]
    }
   ],
   "source": [
    "root = TreeNode(8)  \n",
    "root.left = TreeNode(5)  \n",
    "root.right = TreeNode(14) \n",
    "root.left.left = TreeNode(4)  \n",
    "root.left.right = TreeNode(6) \n",
    "root.left.right.left = TreeNode(8)  \n",
    "root.left.right.right = TreeNode(7)  \n",
    "root.right.right = TreeNode(24) \n",
    "root.right.right.left = TreeNode(22)  \n",
    "    \n",
    "result = closest_value(root, 19)\n",
    "assert result == 22\n",
    "\n",
    "root = TreeNode(20)  \n",
    "root.left = TreeNode(15)  \n",
    "root.right = TreeNode(25) \n",
    "root.left.left=TreeNode(10)\n",
    "\n",
    "result = closest_value(root,23)\n",
    "assert result == 25\n",
    "\n",
    "print(\"ALL PASSED!\")"
   ]
  },
  {
   "cell_type": "markdown",
   "metadata": {
    "nbgrader": {
     "grade": false,
     "grade_id": "cell-dff2e28fb880162f",
     "locked": true,
     "schema_version": 3,
     "solution": false,
     "task": false
    }
   },
   "source": [
    "----\n",
    "## Exercise 2\n"
   ]
  },
  {
   "attachments": {
    "image.png": {
     "image/png": "[encoded data removed]"
    }
   },
   "cell_type": "markdown",
   "metadata": {
    "nbgrader": {
     "grade": false,
     "grade_id": "cell-4892bae12752c1a6",
     "locked": true,
     "schema_version": 3,
     "solution": false,
     "task": false
    }
   },
   "source": [
    "A program to check if a binary tree is BST or not.\n",
    "\n",
    "A binary search tree (BST) is a node based binary tree data structure which has the following properties.\n",
    "\n",
    "• The left subtree of a node contains only nodes with keys less than the node’s key.\n",
    "\n",
    "• The right subtree of a node contains only nodes with keys greater than the node’s key.\n",
    "\n",
    "• Both the left and right subtrees must also be binary search trees.\n",
    "\n",
    "From the above properties it naturally follows that:\n",
    "\n",
    "• Each node (item in the tree) has a distinct key.\n",
    "\n",
    "![image.png](attachment:image.png)\n",
    "\n",
    "Sample Input:\n",
    "\n",
    "root = Node(4) \n",
    "\n",
    "root.left = Node(2) \n",
    "\n",
    "root.right = Node(5)\n",
    "\n",
    "root.left.left = Node(1) \n",
    "\n",
    "root.left.right = Node(3) \n",
    "\n",
    "Sample Output:\n",
    "\n",
    "True\n",
    "\n",
    "Explanation:\n",
    "\n",
    "Since all the elements satisfies the BST properties it returns 'True'."
   ]
  },
  {
   "cell_type": "markdown",
   "metadata": {
    "nbgrader": {
     "grade": false,
     "grade_id": "cell-acd2a0f0bf4864cb",
     "locked": true,
     "schema_version": 3,
     "solution": false,
     "task": false
    }
   },
   "source": [
    "#### Input Cell\n",
    "Run the below cell to initialize the inputs required for your exercise. Do not modify the contents of this cell."
   ]
  },
  {
   "cell_type": "code",
   "execution_count": 103,
   "metadata": {
    "nbgrader": {
     "grade": false,
     "grade_id": "cell-79159581ec19da72",
     "locked": true,
     "schema_version": 3,
     "solution": false,
     "task": false
    }
   },
   "outputs": [],
   "source": [
    "##Before running code cell and test case cell \"first run input cell then code cell atlast run test case cell\".\n",
    "INT_MAX = 4294967296\n",
    "INT_MIN = -4294967296"
   ]
  },
  {
   "cell_type": "markdown",
   "metadata": {
    "nbgrader": {
     "grade": false,
     "grade_id": "cell-14222a78e27c0168",
     "locked": true,
     "schema_version": 3,
     "solution": false,
     "task": false
    }
   },
   "source": [
    "#### Code Cell\n",
    "Below is the code cell for **Exercise 2**. Type your code in the cell."
   ]
  },
  {
   "cell_type": "code",
   "execution_count": 19,
   "metadata": {
    "nbgrader": {
     "grade": false,
     "grade_id": "cell-95b9b126dd4a4a44",
     "locked": false,
     "schema_version": 3,
     "solution": true,
     "task": false
    }
   },
   "outputs": [],
   "source": [
    "class Node: \n",
    "  \n",
    "    def __init__(self, data): \n",
    "        self.data = data  \n",
    "        self.left = None\n",
    "        self.right = None\n",
    "        \n",
    "##your code here\n",
    "###BEGIN SOLUTION\n",
    "        \n",
    "def isBST(node): \n",
    "    return (isBSTUtil(node, INT_MIN, INT_MAX)) \n",
    "\n",
    "def isBSTUtil(node, mini, maxi): \n",
    "      \n",
    "    if node is None: \n",
    "        return True\n",
    "  \n",
    "    if node.data < mini or node.data > maxi: \n",
    "        return False\n",
    "  \n",
    "    return (isBSTUtil(node.left, mini, node.data -1) and\n",
    "          isBSTUtil(node.right, node.data+1, maxi)) \n",
    "\n",
    "###END SOLUTION "
   ]
  },
  {
   "cell_type": "markdown",
   "metadata": {
    "nbgrader": {
     "grade": false,
     "grade_id": "cell-f0290bdd601846b7",
     "locked": true,
     "schema_version": 3,
     "solution": false,
     "task": false
    }
   },
   "source": [
    "#### Test Cases \n",
    "Run the below test cell to validate your code for **Exercise 2**. The cell has test cases your code should pass. Please do not modify the contents of this cell."
   ]
  },
  {
   "cell_type": "code",
   "execution_count": 20,
   "metadata": {
    "nbgrader": {
     "grade": true,
     "grade_id": "cell-f502e8909dcf6eb8",
     "locked": true,
     "points": 0,
     "schema_version": 3,
     "solution": false,
     "task": false
    }
   },
   "outputs": [
    {
     "name": "stdout",
     "output_type": "stream",
     "text": [
      "ALL PASSED!\n"
     ]
    }
   ],
   "source": [
    "root = Node(4) \n",
    "root.left = Node(2) \n",
    "root.right = Node(5) \n",
    "root.left.left = Node(1) \n",
    "root.left.right = Node(3) \n",
    "assert isBST(root) == True\n",
    "\n",
    "root = Node(4) \n",
    "root.left = Node(2) \n",
    "root.right = Node(5) \n",
    "root.left.left = Node(1) \n",
    "root.left.right = Node(3)\n",
    "root.right.left = Node(15)\n",
    "assert isBST(root) == False\n",
    "\n",
    "print(\"ALL PASSED!\")"
   ]
  },
  {
   "cell_type": "markdown",
   "metadata": {
    "nbgrader": {
     "grade": false,
     "grade_id": "cell-bceaf6168903ad92",
     "locked": true,
     "schema_version": 3,
     "solution": false,
     "task": false
    },
    "slideshow": {
     "slide_type": "notes"
    }
   },
   "source": [
    "----\n",
    "## Exercise 3\n"
   ]
  },
  {
   "cell_type": "markdown",
   "metadata": {
    "nbgrader": {
     "grade": false,
     "grade_id": "cell-b2d46caf29e3ec6a",
     "locked": true,
     "schema_version": 3,
     "solution": false,
     "task": false
    }
   },
   "source": [
    "Write an efficient program to demonstrate insert operation in binary search tree.\n",
    "\n",
    "Sample Input:\n",
    "\n",
    "r = Node(50) \n",
    "\n",
    "insert(r,Node(30)) \n",
    "\n",
    "insert(r,Node(20)) \n",
    "\n",
    "insert(r,Node(40)) \n",
    "\n",
    "insert(r,Node(70)) \n",
    "\n",
    "insert(r,Node(60)) \n",
    "\n",
    "insert(r,Node(80)) \n",
    "  \n",
    "Sample Output:\n",
    "\n",
    "[20, 30, 40, 50, 60, 70, 80]"
   ]
  },
  {
   "cell_type": "markdown",
   "metadata": {
    "nbgrader": {
     "grade": false,
     "grade_id": "cell-92b9a7d6b23bb25c",
     "locked": true,
     "schema_version": 3,
     "solution": false,
     "task": false
    }
   },
   "source": [
    "#### Input Cell\n",
    "Run the below cell to initialize the inputs required for your exercise. Do not modify the contents of this cell."
   ]
  },
  {
   "cell_type": "code",
   "execution_count": 51,
   "metadata": {
    "nbgrader": {
     "grade": false,
     "grade_id": "cell-43fe9d94d144bb90",
     "locked": true,
     "schema_version": 3,
     "solution": false,
     "task": false
    }
   },
   "outputs": [],
   "source": [
    "a=[]"
   ]
  },
  {
   "cell_type": "markdown",
   "metadata": {
    "nbgrader": {
     "grade": false,
     "grade_id": "cell-5e7c3d6b5a65a6ad",
     "locked": true,
     "schema_version": 3,
     "solution": false,
     "task": false
    }
   },
   "source": [
    "#### Code Cell\n",
    "Below is the code cell for **Exercise 3**. Type your code in the cell."
   ]
  },
  {
   "cell_type": "code",
   "execution_count": 54,
   "metadata": {
    "nbgrader": {
     "grade": false,
     "grade_id": "cell-70a9b90a2f9fd107",
     "locked": false,
     "schema_version": 3,
     "solution": true,
     "task": false
    }
   },
   "outputs": [],
   "source": [
    "class Node: \n",
    "    def __init__(self,key): \n",
    "        self.left = None\n",
    "        self.right = None\n",
    "        self.val = key\n",
    "        \n",
    "def insert(root,node): \n",
    "    \n",
    "    ##your code here\n",
    "    ###BEGIN SOLUTION\n",
    "    \n",
    "    if root is None: \n",
    "        root = node \n",
    "    else: \n",
    "        if root.val < node.val: \n",
    "            if root.right is None: \n",
    "                root.right = node \n",
    "            else: \n",
    "                insert(root.right, node) \n",
    "        else: \n",
    "            if root.left is None: \n",
    "                root.left = node \n",
    "            else: \n",
    "                insert(root.left, node) \n",
    "                \n",
    "    ###END SOLUTION\n",
    "\n",
    "def inorder(root): \n",
    "    if root: \n",
    "        inorder(root.left)\n",
    "        a.append(root.val)\n",
    "        inorder(root.right) \n",
    "    return(a)"
   ]
  },
  {
   "cell_type": "markdown",
   "metadata": {
    "nbgrader": {
     "grade": false,
     "grade_id": "cell-d7121632e26e5b24",
     "locked": true,
     "schema_version": 3,
     "solution": false,
     "task": false
    }
   },
   "source": [
    "#### Test Cases \n",
    "Run the below test cell to validate your code for **Exercise 3**. The cell has test cases your code should pass. Please do not modify the contents of this cell."
   ]
  },
  {
   "cell_type": "code",
   "execution_count": 53,
   "metadata": {
    "nbgrader": {
     "grade": true,
     "grade_id": "cell-33d4a01fd430ba7b",
     "locked": true,
     "points": 0,
     "schema_version": 3,
     "solution": false,
     "task": false
    }
   },
   "outputs": [
    {
     "name": "stdout",
     "output_type": "stream",
     "text": [
      "ALL PASSED!\n"
     ]
    }
   ],
   "source": [
    "r = Node(50) \n",
    "insert(r,Node(30)) \n",
    "insert(r,Node(20)) \n",
    "insert(r,Node(40)) \n",
    "insert(r,Node(70)) \n",
    "insert(r,Node(60)) \n",
    "insert(r,Node(80)) \n",
    "assert inorder(r) == [20, 30, 40, 50, 60, 70, 80]\n",
    "\n",
    "print(\"ALL PASSED!\")"
   ]
  },
  {
   "cell_type": "markdown",
   "metadata": {
    "nbgrader": {
     "grade": false,
     "grade_id": "cell-2ce3a72b6ff22a58",
     "locked": true,
     "schema_version": 3,
     "solution": false,
     "task": false
    }
   },
   "source": [
    "----\n",
    "## Exercise 4"
   ]
  },
  {
   "cell_type": "markdown",
   "metadata": {
    "nbgrader": {
     "grade": false,
     "grade_id": "cell-b9c3edaa34d6959f",
     "locked": true,
     "schema_version": 3,
     "solution": false,
     "task": false
    }
   },
   "source": [
    "Write an efficient program to demonstrate delete operation in binary search tree.\n",
    "\n",
    "When we delete a node, three possibilities arise.\n",
    "\n",
    "1) Node to be deleted is leaf: Simply remove from the tree.\n",
    "\n",
    "              50                            50\n",
    "           /     \\         delete(20)      /   \\\n",
    "          30      70       --------->    30     70 \n",
    "         /  \\    /  \\                     \\    /  \\ \n",
    "       20   40  60   80                   40  60   80\n",
    "       \n",
    "2) Node to be deleted has only one child: Copy the child to the node and delete the child.\n",
    "\n",
    "              50                            50\n",
    "           /     \\         delete(30)      /   \\\n",
    "          30      70       --------->    40     70 \n",
    "            \\    /  \\                          /  \\ \n",
    "            40  60   80                       60   80\n",
    "            \n",
    "3) Node to be deleted has two children: Find inorder successor of the node. Copy contents of the inorder successor to the node and delete the inorder successor. Note that inorder predecessor can also be used.\n",
    "\n",
    "              50                            60\n",
    "           /     \\         delete(50)      /   \\\n",
    "          40      70       --------->    40    70 \n",
    "                 /  \\                            \\ \n",
    "                60   80                           80\n",
    "                \n",
    "Sample Input:\n",
    "\n",
    "root = None\n",
    "\n",
    "root = insert(root, 50) \n",
    "\n",
    "root = insert(root, 30) \n",
    "\n",
    "root = insert(root, 20) \n",
    "\n",
    "root = insert(root, 40) \n",
    "\n",
    "root = insert(root, 70) \n",
    "\n",
    "root = insert(root, 60) \n",
    "\n",
    "root = insert(root, 80) \n",
    "\n",
    "root = deleteNode(root, 20) \n",
    "\n",
    "Note: Before performing deletion operation the tree contains following elements i.e,[20, 30, 40, 50, 60, 70, 80]\n",
    "\n",
    "Sample Output:\n",
    "\n",
    "Note: After performing deletion operation the output is,\n",
    "\n",
    "[30, 40, 50, 60, 70, 80]"
   ]
  },
  {
   "cell_type": "markdown",
   "metadata": {
    "nbgrader": {
     "grade": false,
     "grade_id": "cell-eee109c9c3345f8e",
     "locked": true,
     "schema_version": 3,
     "solution": false,
     "task": false
    }
   },
   "source": [
    "#### Input Cell\n",
    "Run the below cell to initialize the inputs required for your exercise. Do not modify the contents of this cell."
   ]
  },
  {
   "cell_type": "code",
   "execution_count": 100,
   "metadata": {
    "nbgrader": {
     "grade": false,
     "grade_id": "cell-33325d1a32238326",
     "locked": true,
     "schema_version": 3,
     "solution": false,
     "task": false
    }
   },
   "outputs": [],
   "source": [
    "a=[]"
   ]
  },
  {
   "cell_type": "markdown",
   "metadata": {
    "nbgrader": {
     "grade": false,
     "grade_id": "cell-598f21fc0bf25770",
     "locked": true,
     "schema_version": 3,
     "solution": false,
     "task": false
    }
   },
   "source": [
    "#### Code Cell\n",
    "Below is the code cell for **Exercise 4**. Type your code in the cell."
   ]
  },
  {
   "cell_type": "code",
   "execution_count": 101,
   "metadata": {
    "nbgrader": {
     "grade": false,
     "grade_id": "cell-5d0ea47ca640c947",
     "locked": false,
     "schema_version": 3,
     "solution": true,
     "task": false
    }
   },
   "outputs": [],
   "source": [
    "class Node: \n",
    "    def __init__(self, key): \n",
    "        self.key = key  \n",
    "        self.left = None\n",
    "        self.right = None\n",
    "        \n",
    "def inorder(root): \n",
    "    if root is not None: \n",
    "        inorder(root.left) \n",
    "        a.append(root.key) \n",
    "        inorder(root.right) \n",
    "    return(a)\n",
    "\n",
    "def minValueNode( node): \n",
    "    current = node \n",
    "  \n",
    "    # loop down to find the leftmost leaf \n",
    "    while(current.left is not None): \n",
    "        current = current.left  \n",
    "  \n",
    "    return current  \n",
    "\n",
    "def deleteNode(root, key): \n",
    "\n",
    "    ##your code here\n",
    "    ###BEGIN SOLUTION\n",
    "    \n",
    "    if root is None: \n",
    "        return root \n",
    "    \n",
    "    if key < root.key: \n",
    "        root.left = deleteNode(root.left, key) \n",
    "        \n",
    "    elif(key > root.key): \n",
    "        root.right = deleteNode(root.right, key) \n",
    "        \n",
    "    else: \n",
    "        if root.left is None : \n",
    "            temp = root.right  \n",
    "            root = None \n",
    "            return temp  \n",
    "              \n",
    "        elif root.right is None : \n",
    "            temp = root.left  \n",
    "            root = None\n",
    "            return temp \n",
    "   \n",
    "        temp = minValueNode(root.right) \n",
    "        root.key = temp.key \n",
    "        root.right = deleteNode(root.right , temp.key)\n",
    "        \n",
    "    return root  \n",
    "\n",
    "    ###END SOLUTION"
   ]
  },
  {
   "cell_type": "markdown",
   "metadata": {
    "nbgrader": {
     "grade": false,
     "grade_id": "cell-159515cfc361ad86",
     "locked": true,
     "schema_version": 3,
     "solution": false,
     "task": false
    }
   },
   "source": [
    "#### Test Cases\n",
    "Run the below test cell to validate your code for **Exercise 4**. The cell has test cases your code should pass. Please do not modify the contents of this cell."
   ]
  },
  {
   "cell_type": "code",
   "execution_count": 102,
   "metadata": {
    "nbgrader": {
     "grade": true,
     "grade_id": "cell-833f0ae200c2a3ea",
     "locked": true,
     "points": 0,
     "schema_version": 3,
     "solution": false,
     "task": false
    }
   },
   "outputs": [
    {
     "name": "stdout",
     "output_type": "stream",
     "text": [
      "ALL PASSED!\n"
     ]
    }
   ],
   "source": [
    "root = None\n",
    "root = insert(root, 50) \n",
    "root = insert(root, 30) \n",
    "root = insert(root, 20) \n",
    "root = insert(root, 40) \n",
    "root = insert(root, 70) \n",
    "root = insert(root, 60) \n",
    "root = insert(root, 80) \n",
    "root = deleteNode(root, 20) \n",
    "assert inorder(root) == [30, 40, 50, 60, 70, 80]\n",
    "\n",
    "print(\"ALL PASSED!\")"
   ]
  },
  {
   "cell_type": "markdown",
   "metadata": {
    "nbgrader": {
     "grade": false,
     "grade_id": "cell-22d7c8bd6a1de0b1",
     "locked": true,
     "schema_version": 3,
     "solution": false,
     "task": false
    }
   },
   "source": [
    "----\n",
    "## Exercise 5"
   ]
  },
  {
   "attachments": {
    "image.png": {
     "image/png": "[encoded data removed]"
    }
   },
   "cell_type": "markdown",
   "metadata": {
    "nbgrader": {
     "grade": false,
     "grade_id": "cell-11b1f93b39ae1cc1",
     "locked": true,
     "schema_version": 3,
     "solution": false,
     "task": false
    }
   },
   "source": [
    "Given a Binary Search Tree, the task is to find the horizontal sum of the nodes that are in the same level.\n",
    "\n",
    "Example:\n",
    "\n",
    "![image.png](attachment:image.png)\n",
    "\n",
    "Sample Input:\n",
    "\n",
    "root = newNode(6) \n",
    "\n",
    "root.left = newNode(4) \n",
    "\n",
    "root.right = newNode(8)\n",
    "\n",
    "root.left.left = newNode(3) \n",
    "\n",
    "root.left.right = newNode(5) \n",
    "\n",
    "root.right.left = newNode(7) \n",
    "\n",
    "root.right.right = newNode(9) \n",
    "  \n",
    "Sample Output:\n",
    "\n",
    "[6, 12, 24]"
   ]
  },
  {
   "cell_type": "markdown",
   "metadata": {
    "nbgrader": {
     "grade": false,
     "grade_id": "cell-8c18e42178885a0a",
     "locked": true,
     "schema_version": 3,
     "solution": false,
     "task": false
    }
   },
   "source": [
    "#### Code Cell\n",
    "Below is the code cell for **Exercise 5**. Type your code in the cell."
   ]
  },
  {
   "cell_type": "code",
   "execution_count": 11,
   "metadata": {
    "nbgrader": {
     "grade": false,
     "grade_id": "cell-658b3178f675dcb0",
     "locked": false,
     "schema_version": 3,
     "solution": true,
     "task": false
    }
   },
   "outputs": [],
   "source": [
    "class Node:  \n",
    "    \n",
    "    def __init__(self, key):  \n",
    "        self.data = key  \n",
    "        self.left = self.right = None\n",
    "          \n",
    "def newNode( data): \n",
    "  \n",
    "    temp = Node(0) \n",
    "    temp.data = data \n",
    "    temp.left = temp.right = None\n",
    "    return temp \n",
    "  \n",
    "def printArr(arr, n): \n",
    "  \n",
    "    i = 0\n",
    "    while ( i < n): \n",
    "        print( arr[i]) \n",
    "        i = i + 1\n",
    "\n",
    "def getHeight(root): \n",
    "  \n",
    "    if (root.left == None and root.right == None): \n",
    "        return 0\n",
    "  \n",
    "    left = 0\n",
    "    if (root.left != None): \n",
    "        left = getHeight(root.left) \n",
    "  \n",
    "    right = 0\n",
    "    if (root.right != None): \n",
    "        right = getHeight(root.right) \n",
    "  \n",
    "    return (max(left, right) + 1) \n",
    "  \n",
    "sum = [] \n",
    "   \n",
    "def calculateLevelSum(node, level): \n",
    "      \n",
    "    global sum\n",
    "    \n",
    "    ##your code here\n",
    "    ###BEGIN SOLUTION\n",
    "    \n",
    "    if (node == None): \n",
    "        return\n",
    "   \n",
    "    sum[level] += node.data \n",
    "  \n",
    "    calculateLevelSum(node.left, level + 1) \n",
    "    calculateLevelSum(node.right, level + 1) \n",
    "    \n",
    "    ###END SOLUTION"
   ]
  },
  {
   "cell_type": "markdown",
   "metadata": {
    "nbgrader": {
     "grade": false,
     "grade_id": "cell-827fe78d346f7bc3",
     "locked": true,
     "schema_version": 3,
     "solution": false,
     "task": false
    }
   },
   "source": [
    "#### Test Cases\n",
    "Run the below test cell to validate your code for **Exercise 5**. The cell has test cases your code should pass. Please do not modify the contents of this cell."
   ]
  },
  {
   "cell_type": "code",
   "execution_count": 10,
   "metadata": {
    "nbgrader": {
     "grade": true,
     "grade_id": "cell-6344067b20760ae0",
     "locked": true,
     "points": 0,
     "schema_version": 3,
     "solution": false,
     "task": false
    }
   },
   "outputs": [
    {
     "name": "stdout",
     "output_type": "stream",
     "text": [
      "ALL PASSED!\n"
     ]
    }
   ],
   "source": [
    "root = newNode(6) \n",
    "root.left = newNode(4) \n",
    "root.right = newNode(8) \n",
    "root.left.left = newNode(3) \n",
    "root.left.right = newNode(5) \n",
    "root.right.left = newNode(7) \n",
    "root.right.right = newNode(9) \n",
    "levels = getHeight(root) + 1 \n",
    "sum = [0] * levels  \n",
    "calculateLevelSum(root, 0)\n",
    "assert sum == [6, 12, 24]\n",
    "\n",
    "root = newNode(6) \n",
    "root.left = newNode(4) \n",
    "root.right = newNode(8) \n",
    "root.left.left = newNode(3) \n",
    "root.right.right = newNode(9)\n",
    "levels = getHeight(root) + 1 \n",
    "sum = [0] * levels  \n",
    "calculateLevelSum(root, 0)\n",
    "assert sum == [6, 12, 12]\n",
    "print(\"ALL PASSED!\")"
   ]
  }
 ],
 "metadata": {
  "celltoolbar": "Create Assignment",
  "kernelspec": {
   "display_name": "Python 3",
   "language": "python",
   "name": "python3"
  },
  "language_info": {
   "codemirror_mode": {
    "name": "ipython",
    "version": 3
   },
   "file_extension": ".py",
   "mimetype": "text/x-python",
   "name": "python",
   "nbconvert_exporter": "python",
   "pygments_lexer": "ipython3",
   "version": "3.7.6"
  },
  "varInspector": {
   "cols": {
    "lenName": 16,
    "lenType": 16,
    "lenVar": 40
   },
   "kernels_config": {
    "python": {
     "delete_cmd_postfix": "",
     "delete_cmd_prefix": "del ",
     "library": "var_list.py",
     "varRefreshCmd": "print(var_dic_list())"
    },
    "r": {
     "delete_cmd_postfix": ") ",
     "delete_cmd_prefix": "rm(",
     "library": "var_list.r",
     "varRefreshCmd": "cat(var_dic_list()) "
    }
   },
   "types_to_exclude": [
    "module",
    "function",
    "builtin_function_or_method",
    "instance",
    "_Feature"
   ],
   "window_display": true
  }
 },
 "nbformat": 4,
 "nbformat_minor": 4
}
