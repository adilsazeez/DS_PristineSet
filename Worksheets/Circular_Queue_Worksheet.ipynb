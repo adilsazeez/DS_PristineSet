{
 "cells": [
  {
   "cell_type": "markdown",
   "metadata": {
    "nbgrader": {
     "grade": false,
     "grade_id": "cell-a06c2a89e35fc23b",
     "locked": true,
     "schema_version": 3,
     "solution": false,
     "task": false
    }
   },
   "source": [
    "# *Circular Queue*\n",
    "\n",
    "**Prerequisites**: [*Concepts of Queue and its operations*]"
   ]
  },
  {
   "cell_type": "markdown",
   "metadata": {
    "nbgrader": {
     "grade": false,
     "grade_id": "cell-ce541bd00358e28a",
     "locked": true,
     "schema_version": 3,
     "solution": false,
     "task": false
    }
   },
   "source": [
    "## Exercise 1"
   ]
  },
  {
   "cell_type": "markdown",
   "metadata": {
    "nbgrader": {
     "grade": false,
     "grade_id": "cell-19386d68348e2f7f",
     "locked": true,
     "schema_version": 3,
     "solution": false,
     "task": false
    }
   },
   "source": [
    "Write a function to insert a node in the circular queue and display the result\n",
    "\n",
    "Note:The value of the rear is incremented in enqueue operation\n",
    "\n",
    "Sample input:\n",
    "\n",
    "1\n",
    "\n",
    "2\n",
    "\n",
    "3\n",
    "\n",
    "4\n",
    "\n",
    "Sample output:\n",
    "   \n",
    "[1, 2, 3, 4]"
   ]
  },
  {
   "cell_type": "markdown",
   "metadata": {
    "nbgrader": {
     "grade": false,
     "grade_id": "cell-af5827c5db735b45",
     "locked": true,
     "schema_version": 3,
     "solution": false,
     "task": false
    }
   },
   "source": [
    "#### Code Cell\n",
    "Below is the code cell for **Exercise 1**. Type in your code in the cell. "
   ]
  },
  {
   "cell_type": "code",
   "execution_count": 36,
   "metadata": {
    "nbgrader": {
     "grade": false,
     "grade_id": "cell-2ec62f126b24dfbd",
     "locked": false,
     "schema_version": 3,
     "solution": true,
     "task": false
    }
   },
   "outputs": [],
   "source": [
    "class Node:\n",
    "    \n",
    "    def __init__(self,data):\n",
    "        \n",
    "        self.data=data\n",
    "        self.previous=None\n",
    "        self.next=None\n",
    "        \n",
    "class Circularqueue:\n",
    "    \n",
    "    ##your code here\n",
    "    ###BEGIN SOLUTION\n",
    "    \n",
    "    def __init__(self):\n",
    "        self.head=None\n",
    "        self.tail=None\n",
    "        self.rear=-1\n",
    "        self.front=0\n",
    "        \n",
    "    def enqueue(self,data):\n",
    "        if(self.head==None):\n",
    "            nn=Node(data)\n",
    "            self.head=self.tail=nn\n",
    "            self.head.next=self.tail\n",
    "            self.head.prev=self.tail\n",
    "        else:\n",
    "            newNode=Node(data)\n",
    "            self.tail.next = newNode;   \n",
    "            newNode.previous = self.tail;    \n",
    "            self.tail = newNode;\n",
    "            self.head.previous=self.tail\n",
    "            self.tail.next = self.head;  \n",
    "        self.rear+=1\n",
    "        \n",
    "    def display(self):\n",
    "        a=[]\n",
    "        tmp=self.head\n",
    "        if(self.head is None):\n",
    "            print(\"The list is empty\")\n",
    "        else:\n",
    "            a.append(tmp.data)\n",
    "            while(tmp.next!=self.head):\n",
    "                tmp=tmp.next\n",
    "                a.append(tmp.data)\n",
    "            return(a)\n",
    "                \n",
    "    ###END SOLUTION"
   ]
  },
  {
   "cell_type": "markdown",
   "metadata": {
    "nbgrader": {
     "grade": false,
     "grade_id": "cell-c9984f83c9dd503c",
     "locked": true,
     "schema_version": 3,
     "solution": false,
     "task": false
    }
   },
   "source": [
    "#### Test Cases \n",
    "Run the below test cell to validate your code for **Exercise 1**. The cell has test cases your code should pass. Please do not modify the contents of this cell."
   ]
  },
  {
   "cell_type": "code",
   "execution_count": 37,
   "metadata": {
    "nbgrader": {
     "grade": true,
     "grade_id": "cell-933483ef34527a9c",
     "locked": true,
     "points": 0,
     "schema_version": 3,
     "solution": false,
     "task": false
    }
   },
   "outputs": [
    {
     "name": "stdout",
     "output_type": "stream",
     "text": [
      "ALL PASSED!\n"
     ]
    }
   ],
   "source": [
    "l=Circularqueue()\n",
    "l.enqueue(4)\n",
    "l.enqueue(3)\n",
    "l.enqueue(2)\n",
    "l.enqueue(1)\n",
    "assert l.rear == 3\n",
    "\n",
    "assert l.front == 0\n",
    "\n",
    "assert l.display() == [4, 3, 2, 1]\n",
    "\n",
    "l=Circularqueue()\n",
    "l.enqueue(109)\n",
    "l.enqueue(306)\n",
    "l.enqueue(201)\n",
    "l.enqueue(110)\n",
    "l.enqueue(409)\n",
    "l.enqueue(0)\n",
    "assert l.rear == 5\n",
    "\n",
    "assert l.front == 0\n",
    "\n",
    "assert l.display() == [109, 306, 201, 110,409, 0]\n",
    "\n",
    "print(\"ALL PASSED!\")"
   ]
  },
  {
   "cell_type": "markdown",
   "metadata": {
    "nbgrader": {
     "grade": false,
     "grade_id": "cell-dff2e28fb880162f",
     "locked": true,
     "schema_version": 3,
     "solution": false,
     "task": false
    }
   },
   "source": [
    "----\n",
    "## Exercise 2\n"
   ]
  },
  {
   "cell_type": "markdown",
   "metadata": {
    "nbgrader": {
     "grade": false,
     "grade_id": "cell-4892bae12752c1a6",
     "locked": true,
     "schema_version": 3,
     "solution": false,
     "task": false
    }
   },
   "source": [
    "Write a function to print the position of a node in the circular queue.\n",
    "\n",
    "Note:function getpos gets the object of circular queue and the node to delete as the parameters.it returns a list containing the position at the 0th index and the pointer at the 1st index.\n",
    "\n",
    "Sample input:\n",
    "\n",
    "1\n",
    "\n",
    "2\n",
    "\n",
    "3\n",
    "\n",
    "4\n",
    "\n",
    "1\n",
    "    \n",
    "Sample output:\n",
    "\n",
    "1\n",
    "\n",
    "Explanation:\n",
    "\n",
    "The elements are '1, 2, 3, 4' if the pos of '1' is to be it returns '1'.Because '1' is present at first place."
   ]
  },
  {
   "cell_type": "markdown",
   "metadata": {
    "nbgrader": {
     "grade": false,
     "grade_id": "cell-14222a78e27c0168",
     "locked": true,
     "schema_version": 3,
     "solution": false,
     "task": false
    }
   },
   "source": [
    "#### Code Cell\n",
    "Below is the code cell for **Exercise 2**. Type your code in the cell."
   ]
  },
  {
   "cell_type": "code",
   "execution_count": 17,
   "metadata": {
    "nbgrader": {
     "grade": false,
     "grade_id": "cell-95b9b126dd4a4a44",
     "locked": false,
     "schema_version": 3,
     "solution": true,
     "task": false
    }
   },
   "outputs": [],
   "source": [
    "def getpos(ll,mlt):\n",
    "    \n",
    "    ##your code here\n",
    "    ###BEGIN SOLUTION\n",
    "    \n",
    "    tmp=ll.head\n",
    "    co=1\n",
    "    fl=0\n",
    "    if(tmp.next==ll.head):\n",
    "        msk=[]\n",
    "        msk.append(co,tmp)\n",
    "        return msk\n",
    "    else:\n",
    "        while(tmp.next!=ll.head):\n",
    "            psk=[]\n",
    "            if(tmp.data==mlt):\n",
    "                psk.append(co)\n",
    "                psk.append(tmp)\n",
    "                return psk\n",
    "            if(tmp==ll.tail.previous):\n",
    "                psk.append(co+1)\n",
    "                psk.append(tmp.next)\n",
    "                return psk\n",
    "            tmp=tmp.next\n",
    "            co+=1\n",
    "            \n",
    "    ###END SOLUTION"
   ]
  },
  {
   "cell_type": "markdown",
   "metadata": {
    "nbgrader": {
     "grade": false,
     "grade_id": "cell-f0290bdd601846b7",
     "locked": true,
     "schema_version": 3,
     "solution": false,
     "task": false
    }
   },
   "source": [
    "#### Test Cases \n",
    "Run the below test cell to validate your code for **Exercise 2**. The cell has test cases your code should pass. Please do not modify the contents of this cell."
   ]
  },
  {
   "cell_type": "code",
   "execution_count": 30,
   "metadata": {
    "nbgrader": {
     "grade": true,
     "grade_id": "cell-f502e8909dcf6eb8",
     "locked": true,
     "points": 0,
     "schema_version": 3,
     "solution": false,
     "task": false
    }
   },
   "outputs": [
    {
     "name": "stdout",
     "output_type": "stream",
     "text": [
      "ALL PASSED!\n"
     ]
    }
   ],
   "source": [
    "l=Circularqueue()\n",
    "l.enqueue(1)\n",
    "l.enqueue(2)\n",
    "l.enqueue(3)\n",
    "l.enqueue(4)\n",
    "assert getpos(l,1)[0] == 1\n",
    "\n",
    "l=Circularqueue()\n",
    "l.enqueue(99)\n",
    "l.enqueue(89)\n",
    "l.enqueue(39)\n",
    "l.enqueue(49)\n",
    "l.enqueue(19)\n",
    "assert getpos(l,19)[0] == 5\n",
    "\n",
    "print(\"ALL PASSED!\")"
   ]
  },
  {
   "cell_type": "markdown",
   "metadata": {
    "nbgrader": {
     "grade": false,
     "grade_id": "cell-bceaf6168903ad92",
     "locked": true,
     "schema_version": 3,
     "solution": false,
     "task": false
    },
    "slideshow": {
     "slide_type": "notes"
    }
   },
   "source": [
    "----\n",
    "## Exercise 3\n"
   ]
  },
  {
   "cell_type": "markdown",
   "metadata": {
    "nbgrader": {
     "grade": false,
     "grade_id": "cell-b2d46caf29e3ec6a",
     "locked": true,
     "schema_version": 3,
     "solution": false,
     "task": false
    }
   },
   "source": [
    "Write a function to print the length of the circular queue.\n",
    "\n",
    "Sample input:\n",
    "\n",
    "1\n",
    "\n",
    "2\n",
    "\n",
    "3\n",
    "\n",
    "4\n",
    " \n",
    "Sample output:\n",
    "\n",
    "4"
   ]
  },
  {
   "cell_type": "markdown",
   "metadata": {
    "nbgrader": {
     "grade": false,
     "grade_id": "cell-5e7c3d6b5a65a6ad",
     "locked": true,
     "schema_version": 3,
     "solution": false,
     "task": false
    }
   },
   "source": [
    "#### Code Cell\n",
    "Below is the code cell for **Exercise 3**. Type your code in the cell."
   ]
  },
  {
   "cell_type": "code",
   "execution_count": 31,
   "metadata": {
    "nbgrader": {
     "grade": false,
     "grade_id": "cell-70a9b90a2f9fd107",
     "locked": false,
     "schema_version": 3,
     "solution": true,
     "task": false
    }
   },
   "outputs": [],
   "source": [
    "def length(ll):\n",
    "    \n",
    "    ##your code here\n",
    "    ###BEGIN SOLUTION\n",
    "    \n",
    "    tmp=ll.head\n",
    "    co=1\n",
    "    while(tmp.next!=ll.head):\n",
    "        co+=1\n",
    "        tmp=tmp.next\n",
    "    return co\n",
    "\n",
    "    ###END SOLUTION"
   ]
  },
  {
   "cell_type": "markdown",
   "metadata": {
    "nbgrader": {
     "grade": false,
     "grade_id": "cell-d7121632e26e5b24",
     "locked": true,
     "schema_version": 3,
     "solution": false,
     "task": false
    }
   },
   "source": [
    "#### Test Cases \n",
    "Run the below test cell to validate your code for **Exercise 3**. The cell has test cases your code should pass. Please do not modify the contents of this cell."
   ]
  },
  {
   "cell_type": "code",
   "execution_count": 34,
   "metadata": {
    "nbgrader": {
     "grade": true,
     "grade_id": "cell-33d4a01fd430ba7b",
     "locked": true,
     "points": 0,
     "schema_version": 3,
     "solution": false,
     "task": false
    }
   },
   "outputs": [
    {
     "name": "stdout",
     "output_type": "stream",
     "text": [
      "ALL PASSED!\n"
     ]
    }
   ],
   "source": [
    "l=Circularqueue()\n",
    "l.enqueue(1)\n",
    "l.enqueue(2)\n",
    "l.enqueue(3)\n",
    "l.enqueue(4)\n",
    "assert length(l) == 4\n",
    "\n",
    "l=Circularqueue()\n",
    "l.enqueue(0)\n",
    "l.enqueue(19)\n",
    "l.enqueue(56)\n",
    "l.enqueue(32)\n",
    "l.enqueue(87)\n",
    "assert length(l) == 5\n",
    "\n",
    "l=Circularqueue()\n",
    "l.enqueue(0)\n",
    "assert length(l) == 1\n",
    "\n",
    "print(\"ALL PASSED!\")"
   ]
  },
  {
   "cell_type": "markdown",
   "metadata": {
    "nbgrader": {
     "grade": false,
     "grade_id": "cell-2ce3a72b6ff22a58",
     "locked": true,
     "schema_version": 3,
     "solution": false,
     "task": false
    }
   },
   "source": [
    "----\n",
    "## Exercise 4"
   ]
  },
  {
   "cell_type": "markdown",
   "metadata": {
    "nbgrader": {
     "grade": false,
     "grade_id": "cell-b9c3edaa34d6959f",
     "locked": true,
     "schema_version": 3,
     "solution": false,
     "task": false
    }
   },
   "source": [
    "Write a function to delete the node by the given node and print the result.The node to be deleted is stored in \"todelete\" variable.where parameters in delete is l--> circular queue object,ms[0] is position of the variable to delete,ms[1] is the pointer that is pointing to the todelete variable.\n",
    "\n",
    "delatbeg(ll) --> function to delete the head of the circular queue.\n",
    "\n",
    "delatend(ll) --> function to delete the tail of the circular queue.\n",
    "\n",
    "delatmid(ll) --> function to delete other than head and tail.\n",
    "\n",
    "Note:The value of the front is incremented in dequeue operation,if the queue is empty the output is printed as \"The doublylinkedqueue is empty\"\n",
    "\n",
    "Sample input:\n",
    "\n",
    "1\n",
    "\n",
    "1\n",
    "\n",
    "2\n",
    "\n",
    "3\n",
    "\n",
    "4\n",
    "\n",
    "5\n",
    "\n",
    "Sample output:\n",
    "\n",
    "[2, 3, 4, 5]"
   ]
  },
  {
   "cell_type": "markdown",
   "metadata": {
    "nbgrader": {
     "grade": false,
     "grade_id": "cell-598f21fc0bf25770",
     "locked": true,
     "schema_version": 3,
     "solution": false,
     "task": false
    }
   },
   "source": [
    "#### Code Cell\n",
    "Below is the code cell for **Exercise 4**. Type your code in the cell."
   ]
  },
  {
   "cell_type": "code",
   "execution_count": 53,
   "metadata": {
    "nbgrader": {
     "grade": false,
     "grade_id": "cell-5d0ea47ca640c947",
     "locked": false,
     "schema_version": 3,
     "solution": true,
     "task": false
    }
   },
   "outputs": [],
   "source": [
    "def delatbeg(ll):\n",
    "    if(ll.head.next==ll.head):\n",
    "        ll.head=ll.tail=None\n",
    "        tmp=None\n",
    "    else:\n",
    "        ll.head=ll.head.next\n",
    "        ll.head.previous=ll.tail\n",
    "        ll.tail.next=ll.head\n",
    "        tmp=None\n",
    "        \n",
    "def delatend(ll):\n",
    "    if(ll.head.next==ll.head):\n",
    "        ll.head=ll.tail=None\n",
    "        tmp=None\n",
    "    else:\n",
    "        ll.tail=ll.tail.previous\n",
    "        ll.tail.next=ll.head\n",
    "        ll.head.previous=ll.tail\n",
    "        tmp=None\n",
    "        \n",
    "def delatmid(ll):\n",
    "    kl=ll\n",
    "    lo=ll.previous\n",
    "    ps=ll.next\n",
    "    lo.next=ll.next\n",
    "    ps.previous=lo\n",
    "    kl=None\n",
    "    \n",
    "def delete(ll,ty,key):\n",
    "    \n",
    "    ##your code here\n",
    "    ###BEGIN SOLUTION\n",
    "\n",
    "    tmp=ll.head\n",
    "    if(tmp is None):\n",
    "        print(\"The list is empty\")\n",
    "    else:\n",
    "        if(ty==1):\n",
    "            delatbeg(ll)\n",
    "        elif(ty==length(ll)):\n",
    "            delatend(ll)\n",
    "        else:\n",
    "            uy=getpos(ll,key)\n",
    "            delatmid(uy[1])\n",
    "        ll.front+=1\n",
    "        \n",
    "    ###END SOLUTION"
   ]
  },
  {
   "cell_type": "markdown",
   "metadata": {
    "nbgrader": {
     "grade": false,
     "grade_id": "cell-159515cfc361ad86",
     "locked": true,
     "schema_version": 3,
     "solution": false,
     "task": false
    }
   },
   "source": [
    "#### Test Cases\n",
    "Run the below test cell to validate your code for **Exercise 4**. The cell has test cases your code should pass. Please do not modify the contents of this cell."
   ]
  },
  {
   "cell_type": "code",
   "execution_count": 54,
   "metadata": {
    "nbgrader": {
     "grade": true,
     "grade_id": "cell-833f0ae200c2a3ea",
     "locked": true,
     "points": 0,
     "schema_version": 3,
     "solution": false,
     "task": false
    }
   },
   "outputs": [
    {
     "name": "stdout",
     "output_type": "stream",
     "text": [
      "ALL PASSED!\n"
     ]
    }
   ],
   "source": [
    "l=Circularqueue()\n",
    "l.enqueue(1)\n",
    "l.enqueue(2)\n",
    "l.enqueue(3)\n",
    "l.enqueue(4)\n",
    "l.enqueue(5)\n",
    "todelete=1\n",
    "ms=getpos(l,todelete)\n",
    "delete(l,ms[0],ms[1].data)\n",
    "assert l.display() == [2, 3, 4, 5]\n",
    "\n",
    "l=Circularqueue()\n",
    "l.enqueue(0)\n",
    "l.enqueue(2)\n",
    "l.enqueue(4)\n",
    "todelete=0\n",
    "ms=getpos(l,todelete)\n",
    "delete(l,ms[0],ms[1].data)\n",
    "assert l.display() == [2, 4]\n",
    "\n",
    "print(\"ALL PASSED!\")"
   ]
  },
  {
   "cell_type": "markdown",
   "metadata": {
    "nbgrader": {
     "grade": false,
     "grade_id": "cell-22d7c8bd6a1de0b1",
     "locked": true,
     "schema_version": 3,
     "solution": false,
     "task": false
    }
   },
   "source": [
    "----\n",
    "## Exercise 5"
   ]
  },
  {
   "cell_type": "markdown",
   "metadata": {
    "nbgrader": {
     "grade": false,
     "grade_id": "cell-60afa9c7d7e3e42e",
     "locked": true,
     "schema_version": 3,
     "solution": false,
     "task": false
    }
   },
   "source": [
    "Write a function to check whether the circular queue is empty or not.\n",
    "\n",
    "Sample input:\n",
    "\n",
    "\"Blank\"\n",
    "    \n",
    "Sample output:\n",
    "\n",
    "True\n",
    "\n",
    "Explanation:\n",
    "\n",
    "It checks wheather there is no elements in the Queue.If their is no elements it returns 'True' else 'False'."
   ]
  },
  {
   "cell_type": "markdown",
   "metadata": {
    "nbgrader": {
     "grade": false,
     "grade_id": "cell-8c18e42178885a0a",
     "locked": true,
     "schema_version": 3,
     "solution": false,
     "task": false
    }
   },
   "source": [
    "#### Code Cell\n",
    "Below is the code cell for **Exercise 5**. Type your code in the cell."
   ]
  },
  {
   "cell_type": "code",
   "execution_count": 62,
   "metadata": {
    "nbgrader": {
     "grade": false,
     "grade_id": "cell-658b3178f675dcb0",
     "locked": false,
     "schema_version": 3,
     "solution": true,
     "task": false
    }
   },
   "outputs": [],
   "source": [
    "def isempty(ll):\n",
    "    \n",
    "    ##your code here\n",
    "    ###BEGIN SOLUTION\n",
    "    \n",
    "    if(ll.front == ll.rear+1):\n",
    "        return True\n",
    "    else:\n",
    "        return False\n",
    "    \n",
    "    ###END SOLUTION"
   ]
  },
  {
   "cell_type": "markdown",
   "metadata": {
    "nbgrader": {
     "grade": false,
     "grade_id": "cell-827fe78d346f7bc3",
     "locked": true,
     "schema_version": 3,
     "solution": false,
     "task": false
    }
   },
   "source": [
    "#### Test Cases\n",
    "Run the below test cell to validate your code for **Exercise 5**. The cell has test cases your code should pass. Please do not modify the contents of this cell."
   ]
  },
  {
   "cell_type": "code",
   "execution_count": 63,
   "metadata": {
    "nbgrader": {
     "grade": true,
     "grade_id": "cell-6344067b20760ae0",
     "locked": true,
     "points": 0,
     "schema_version": 3,
     "solution": false,
     "task": false
    }
   },
   "outputs": [
    {
     "name": "stdout",
     "output_type": "stream",
     "text": [
      "ALL PASSED!\n"
     ]
    }
   ],
   "source": [
    "lm=Circularqueue()\n",
    "assert isempty(lm) == True\n",
    "\n",
    "lm=Circularqueue()\n",
    "lm.enqueue(1)\n",
    "assert isempty(lm) == False\n",
    "\n",
    "print(\"ALL PASSED!\")"
   ]
  }
 ],
 "metadata": {
  "celltoolbar": "Create Assignment",
  "kernelspec": {
   "display_name": "Python 3",
   "language": "python",
   "name": "python3"
  },
  "language_info": {
   "codemirror_mode": {
    "name": "ipython",
    "version": 3
   },
   "file_extension": ".py",
   "mimetype": "text/x-python",
   "name": "python",
   "nbconvert_exporter": "python",
   "pygments_lexer": "ipython3",
   "version": "3.7.6"
  },
  "varInspector": {
   "cols": {
    "lenName": 16,
    "lenType": 16,
    "lenVar": 40
   },
   "kernels_config": {
    "python": {
     "delete_cmd_postfix": "",
     "delete_cmd_prefix": "del ",
     "library": "var_list.py",
     "varRefreshCmd": "print(var_dic_list())"
    },
    "r": {
     "delete_cmd_postfix": ") ",
     "delete_cmd_prefix": "rm(",
     "library": "var_list.r",
     "varRefreshCmd": "cat(var_dic_list()) "
    }
   },
   "types_to_exclude": [
    "module",
    "function",
    "builtin_function_or_method",
    "instance",
    "_Feature"
   ],
   "window_display": true
  }
 },
 "nbformat": 4,
 "nbformat_minor": 4
}
