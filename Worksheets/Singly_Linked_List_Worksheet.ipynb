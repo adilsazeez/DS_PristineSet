{
 "cells": [
  {
   "cell_type": "markdown",
   "metadata": {
    "nbgrader": {
     "grade": false,
     "grade_id": "cell-a06c2a89e35fc23b",
     "locked": true,
     "schema_version": 3,
     "solution": false,
     "task": false
    }
   },
   "source": [
    "# *Linked List*\n",
    "\n",
    "**Prerequisites**: [*Concepts of Linked List and its operations*]"
   ]
  },
  {
   "cell_type": "markdown",
   "metadata": {
    "nbgrader": {
     "grade": false,
     "grade_id": "cell-ce541bd00358e28a",
     "locked": true,
     "schema_version": 3,
     "solution": false,
     "task": false
    }
   },
   "source": [
    "## Exercise 1"
   ]
  },
  {
   "cell_type": "markdown",
   "metadata": {
    "nbgrader": {
     "grade": false,
     "grade_id": "cell-19386d68348e2f7f",
     "locked": true,
     "schema_version": 3,
     "solution": false,
     "task": false
    }
   },
   "source": [
    "Write a function to reverse the nodes in the linked list,you should give a list as a input thst is pushed by using push function,after reversing print the linked list by using display function.Reversing a linked list is done by rev function.\n",
    "\n",
    "Given input:\n",
    "\n",
    "4 --> 3 --> 2 --> 1 -->9\n",
    "        \n",
    "Reversed list:\n",
    "\n",
    "9 --> 1 --> 2 --> 3 --> 4\n",
    "        \n",
    "Sample input:\n",
    "\n",
    "4\n",
    "\n",
    "3\n",
    "\n",
    "2\n",
    "\n",
    "1\n",
    "\n",
    "9\n",
    "    \n",
    "Sample output:\n",
    "\n",
    "[9, 1, 2, 3, 4]"
   ]
  },
  {
   "cell_type": "markdown",
   "metadata": {
    "nbgrader": {
     "grade": false,
     "grade_id": "cell-af5827c5db735b45",
     "locked": true,
     "schema_version": 3,
     "solution": false,
     "task": false
    }
   },
   "source": [
    "#### Code Cell\n",
    "Below is the code cell for **Exercise 1**. Type in your code in the cell. "
   ]
  },
  {
   "cell_type": "code",
   "execution_count": 6,
   "metadata": {
    "nbgrader": {
     "grade": false,
     "grade_id": "cell-2ec62f126b24dfbd",
     "locked": false,
     "schema_version": 3,
     "solution": true,
     "task": false
    }
   },
   "outputs": [],
   "source": [
    "class Node:\n",
    "    \n",
    "    def __init__(self,data):\n",
    "        self.data=data\n",
    "        self.next=None\n",
    "        \n",
    "class linkedlist:\n",
    "    \n",
    "    def __init__(self):\n",
    "        self.head=None\n",
    "        self.tail=None\n",
    "        \n",
    "    def push(self,data):\n",
    "        if(self.head==None):\n",
    "            self.head=self.tail=Node(data)\n",
    "            self.tail.next=None\n",
    "        else:\n",
    "            newNode=Node(data)\n",
    "            self.tail.next = newNode;   \n",
    "            self.tail = newNode;\n",
    "            self.tail.next = None;\n",
    "\n",
    "def rev(link):\n",
    "    \n",
    "    ##your code here\n",
    "    ###BEGIN SOLUTION\n",
    "\n",
    "    revt=link.head\n",
    "    rever=[]\n",
    "    fk=link.head\n",
    "    while revt is not None:\n",
    "        rever.append(revt.data)\n",
    "        revt=revt.next\n",
    "    rever.reverse()\n",
    "    newrll=linkedlist()\n",
    "    for i in rever:\n",
    "        newrll.push(i)\n",
    "    if(fk is None):\n",
    "        return False\n",
    "    else:\n",
    "        return newrll\n",
    "    \n",
    "    ###END SOLUTION\n",
    "    \n",
    "def display(link):\n",
    "    tmp=link.head\n",
    "    a=[]\n",
    "    if(tmp is None):\n",
    "        print(\"The linkedlist is empty\")\n",
    "    else:\n",
    "        while tmp is not None:\n",
    "            a.append(tmp.data)\n",
    "            tmp=tmp.next\n",
    "        return(a)"
   ]
  },
  {
   "cell_type": "markdown",
   "metadata": {
    "nbgrader": {
     "grade": false,
     "grade_id": "cell-c9984f83c9dd503c",
     "locked": true,
     "schema_version": 3,
     "solution": false,
     "task": false
    }
   },
   "source": [
    "#### Test Cases \n",
    "Run the below test cell to validate your code for **Exercise 1**. The cell has test cases your code should pass. Please do not modify the contents of this cell."
   ]
  },
  {
   "cell_type": "code",
   "execution_count": 9,
   "metadata": {
    "nbgrader": {
     "grade": true,
     "grade_id": "cell-933483ef34527a9c",
     "locked": true,
     "points": 0,
     "schema_version": 3,
     "solution": false,
     "task": false
    }
   },
   "outputs": [
    {
     "name": "stdout",
     "output_type": "stream",
     "text": [
      "ALL PASSED!\n"
     ]
    }
   ],
   "source": [
    "link = linkedlist()\n",
    "link.push(1)\n",
    "link.push(2)\n",
    "link.push(3)\n",
    "link.push(4)\n",
    "link.push(5)\n",
    "assert display(link) == [1, 2, 3, 4, 5]\n",
    "\n",
    "assert display(rev(link)) == [5, 4, 3, 2, 1]\n",
    "\n",
    "link = linkedlist()\n",
    "link.push(89)\n",
    "link.push(609)\n",
    "link.push(302)\n",
    "link.push(41)\n",
    "link.push(99)\n",
    "link.push(0)\n",
    "assert display(link) == [89, 609, 302, 41, 99, 0]\n",
    "\n",
    "assert display(rev(link)) == [0, 99, 41, 302, 609, 89]\n",
    "\n",
    "link = linkedlist()\n",
    "link.push(0)\n",
    "assert display(link) == [0]\n",
    "\n",
    "assert display(rev(link)) == [0]\n",
    "\n",
    "print(\"ALL PASSED!\")"
   ]
  },
  {
   "cell_type": "markdown",
   "metadata": {
    "nbgrader": {
     "grade": false,
     "grade_id": "cell-dff2e28fb880162f",
     "locked": true,
     "schema_version": 3,
     "solution": false,
     "task": false
    }
   },
   "source": [
    "----\n",
    "## Exercise 2\n"
   ]
  },
  {
   "cell_type": "markdown",
   "metadata": {
    "nbgrader": {
     "grade": false,
     "grade_id": "cell-4892bae12752c1a6",
     "locked": true,
     "schema_version": 3,
     "solution": false,
     "task": false
    }
   },
   "source": [
    "Write a function to delete the node in the middle of the linked list.The delete function is used to delete the middle of the linked list.\n",
    "\n",
    "Sample input:\n",
    "\n",
    "4\n",
    "\n",
    "3\n",
    "\n",
    "2\n",
    "\n",
    "1\n",
    "\n",
    "9\n",
    "    \n",
    "Sample output:\n",
    "\n",
    "[4, 3, 1, 9]\n",
    "    \n",
    "Explanation:\n",
    "\n",
    "The input is [4, 3, 2, 1, 9] here the middle element is '2' so after deleting '2' the resultant list is [4, 3, 1, 9]."
   ]
  },
  {
   "cell_type": "markdown",
   "metadata": {
    "nbgrader": {
     "grade": false,
     "grade_id": "cell-14222a78e27c0168",
     "locked": true,
     "schema_version": 3,
     "solution": false,
     "task": false
    }
   },
   "source": [
    "#### Code Cell\n",
    "Below is the code cell for **Exercise 2**. Type your code in the cell."
   ]
  },
  {
   "cell_type": "code",
   "execution_count": 13,
   "metadata": {
    "nbgrader": {
     "grade": false,
     "grade_id": "cell-95b9b126dd4a4a44",
     "locked": false,
     "schema_version": 3,
     "solution": true,
     "task": false
    }
   },
   "outputs": [],
   "source": [
    "def delete(link,length):\n",
    "    \n",
    "    ##your code here\n",
    "    ###BEGIN SOLUTION\n",
    "\n",
    "    poi=link.head\n",
    "    m=length//2\n",
    "    tmp=link.head\n",
    "    co=0\n",
    "    while(co<m):\n",
    "        current=tmp\n",
    "        tmp=tmp.next\n",
    "        co+=1\n",
    "    current.next=tmp.next\n",
    "    tmp=None\n",
    "    if(poi is None):\n",
    "        return False\n",
    "    else:\n",
    "        return True\n",
    "    \n",
    "    ###END SOLUTION"
   ]
  },
  {
   "cell_type": "markdown",
   "metadata": {
    "nbgrader": {
     "grade": false,
     "grade_id": "cell-f0290bdd601846b7",
     "locked": true,
     "schema_version": 3,
     "solution": false,
     "task": false
    }
   },
   "source": [
    "#### Test Cases \n",
    "Run the below test cell to validate your code for **Exercise 2**. The cell has test cases your code should pass. Please do not modify the contents of this cell."
   ]
  },
  {
   "cell_type": "code",
   "execution_count": 26,
   "metadata": {
    "nbgrader": {
     "grade": true,
     "grade_id": "cell-f502e8909dcf6eb8",
     "locked": true,
     "points": 0,
     "schema_version": 3,
     "solution": false,
     "task": false
    }
   },
   "outputs": [
    {
     "name": "stdout",
     "output_type": "stream",
     "text": [
      "ALL PASSED!\n"
     ]
    }
   ],
   "source": [
    "link=linkedlist()\n",
    "link.push(1)\n",
    "link.push(2)\n",
    "link.push(3)\n",
    "link.push(4)\n",
    "link.push(5)\n",
    "assert delete(link,len(a)) == True\n",
    "\n",
    "assert display(link) == [1, 2, 4, 5]\n",
    "\n",
    "link=linkedlist()\n",
    "link.push(100)\n",
    "link.push(150)\n",
    "link.push(200)\n",
    "link.push(250)\n",
    "assert delete(link,len(a)) == True\n",
    "\n",
    "assert display(link) == [100, 150, 250]\n",
    "\n",
    "print(\"ALL PASSED!\")"
   ]
  },
  {
   "cell_type": "markdown",
   "metadata": {
    "nbgrader": {
     "grade": false,
     "grade_id": "cell-bceaf6168903ad92",
     "locked": true,
     "schema_version": 3,
     "solution": false,
     "task": false
    },
    "slideshow": {
     "slide_type": "notes"
    }
   },
   "source": [
    "----\n",
    "## Exercise 3\n"
   ]
  },
  {
   "cell_type": "markdown",
   "metadata": {
    "nbgrader": {
     "grade": false,
     "grade_id": "cell-b2d46caf29e3ec6a",
     "locked": true,
     "schema_version": 3,
     "solution": false,
     "task": false
    }
   },
   "source": [
    "Write a function to remove the duplicates in a linked list.remove_duplicates function is used to remove the duplicate elements from the linked list.\n",
    "\n",
    "Sample input:\n",
    "\n",
    "1\n",
    "\n",
    "2\n",
    "\n",
    "1\n",
    "\n",
    "2\n",
    "\n",
    "3\n",
    "    \n",
    "Sample output:\n",
    "\n",
    "[1, 2, 3]\n",
    "\n",
    "Explanation:\n",
    "\n",
    "Initially after pushing the elements into the list resultant list is [1, 2, 1, 2, 3].Here the duplicate elements are '2' and '1' so when one occurence of '2' and '1' is removed from the list resultant list is [1, 2, 3] and hence the output. "
   ]
  },
  {
   "cell_type": "markdown",
   "metadata": {
    "nbgrader": {
     "grade": false,
     "grade_id": "cell-5e7c3d6b5a65a6ad",
     "locked": true,
     "schema_version": 3,
     "solution": false,
     "task": false
    }
   },
   "source": [
    "#### Code Cell\n",
    "Below is the code cell for **Exercise 3**. Type your code in the cell."
   ]
  },
  {
   "cell_type": "code",
   "execution_count": 27,
   "metadata": {
    "nbgrader": {
     "grade": false,
     "grade_id": "cell-70a9b90a2f9fd107",
     "locked": false,
     "schema_version": 3,
     "solution": true,
     "task": false
    }
   },
   "outputs": [],
   "source": [
    "def remove_duplicates(llist):\n",
    "    \n",
    "    ##your code here\n",
    "    ###BEGIN SOLUTION\n",
    "    \n",
    "    pls=0\n",
    "    current1 = llist.head\n",
    "    while current1:\n",
    "        data = current1.data\n",
    "        current2 = current1.next\n",
    "        while current2:\n",
    "            if current2.data == data:\n",
    "                remove(current2)\n",
    "                pls+=1\n",
    "            current2 = current2.next\n",
    "        current1 = current1.next\n",
    "    if(pls>0):\n",
    "        return True\n",
    "    else:\n",
    "        return False\n",
    "    \n",
    "    ###END SOLUTION\n",
    "    \n",
    "def get_prev_node(ref_node):\n",
    "    current = link.head\n",
    "    while (current and current.next != ref_node):\n",
    "        current = current.next\n",
    "    return current\n",
    " \n",
    "def remove(node):\n",
    "    prev_node = get_prev_node(node)\n",
    "    if prev_node is None:\n",
    "        link.head = link.head.next\n",
    "    else:\n",
    "        prev_node.next = node.next"
   ]
  },
  {
   "cell_type": "markdown",
   "metadata": {
    "nbgrader": {
     "grade": false,
     "grade_id": "cell-d7121632e26e5b24",
     "locked": true,
     "schema_version": 3,
     "solution": false,
     "task": false
    }
   },
   "source": [
    "#### Test Cases \n",
    "Run the below test cell to validate your code for **Exercise 3**. The cell has test cases your code should pass. Please do not modify the contents of this cell."
   ]
  },
  {
   "cell_type": "code",
   "execution_count": 35,
   "metadata": {
    "nbgrader": {
     "grade": true,
     "grade_id": "cell-33d4a01fd430ba7b",
     "locked": true,
     "points": 0,
     "schema_version": 3,
     "solution": false,
     "task": false
    }
   },
   "outputs": [
    {
     "name": "stdout",
     "output_type": "stream",
     "text": [
      "ALL PASSED!\n"
     ]
    }
   ],
   "source": [
    "link=linkedlist()\n",
    "link.push(1)\n",
    "link.push(2)\n",
    "link.push(1)\n",
    "link.push(2)\n",
    "link.push(3)\n",
    "assert remove_duplicates(link) == True\n",
    "\n",
    "assert display(link) == [1, 2, 3]\n",
    "\n",
    "link=linkedlist()\n",
    "link.push(100)\n",
    "link.push(100)\n",
    "link.push(3)\n",
    "assert remove_duplicates(link) == True\n",
    "\n",
    "assert display(link) == [100, 3]\n",
    "\n",
    "print(\"ALL PASSED!\")"
   ]
  },
  {
   "cell_type": "markdown",
   "metadata": {
    "nbgrader": {
     "grade": false,
     "grade_id": "cell-2ce3a72b6ff22a58",
     "locked": true,
     "schema_version": 3,
     "solution": false,
     "task": false
    }
   },
   "source": [
    "----\n",
    "## Exercise 4"
   ]
  },
  {
   "cell_type": "markdown",
   "metadata": {
    "nbgrader": {
     "grade": false,
     "grade_id": "cell-b9c3edaa34d6959f",
     "locked": true,
     "schema_version": 3,
     "solution": false,
     "task": false
    }
   },
   "source": [
    "Write a function to check wheather an element is present in the linked list,if the element is present in the list then \n",
    "return \"All passed\" else return \"The element is not present in the list\".\n",
    "\n",
    "Example:\n",
    "\n",
    "The elements in the list are [1,2,3,4] check wheather '2' is present in the list.\n",
    "\n",
    "Sample input:\n",
    "\n",
    "2\n",
    "\n",
    "Sample output:\n",
    "\n",
    "All passed\n",
    "\n",
    "Explanation:\n",
    "\n",
    "last line of the input is the data that is to be checked wheather it is present in the list or not.\n",
    "\n",
    "since '2' is present in the list i.e[1, 2, 3, 4] it returns 'All passed' else 'The element is not present in the list'."
   ]
  },
  {
   "cell_type": "markdown",
   "metadata": {
    "nbgrader": {
     "grade": false,
     "grade_id": "cell-598f21fc0bf25770",
     "locked": true,
     "schema_version": 3,
     "solution": false,
     "task": false
    }
   },
   "source": [
    "#### Code Cell\n",
    "Below is the code cell for **Exercise 4**. Type your code in the cell."
   ]
  },
  {
   "cell_type": "code",
   "execution_count": 9,
   "metadata": {
    "nbgrader": {
     "grade": false,
     "grade_id": "cell-5d0ea47ca640c947",
     "locked": false,
     "schema_version": 3,
     "solution": true,
     "task": false
    }
   },
   "outputs": [],
   "source": [
    "def search(link,ne):\n",
    "    \n",
    "    ##your code here\n",
    "    ###BEGIN SOLUTION\n",
    "    \n",
    "    tmp=link.head\n",
    "    fl=0\n",
    "    while(tmp is not None):\n",
    "        if(tmp.data==ne):\n",
    "            fl=1\n",
    "        tmp=tmp.next\n",
    "    if(fl==1):\n",
    "        return \"All passed\"\n",
    "    else:\n",
    "        return \"The element is not present in the list\"\n",
    "    \n",
    "    ###END SOLUTION"
   ]
  },
  {
   "cell_type": "markdown",
   "metadata": {
    "nbgrader": {
     "grade": false,
     "grade_id": "cell-159515cfc361ad86",
     "locked": true,
     "schema_version": 3,
     "solution": false,
     "task": false
    }
   },
   "source": [
    "#### Test Cases\n",
    "Run the below test cell to validate your code for **Exercise 4**. The cell has test cases your code should pass. Please do not modify the contents of this cell."
   ]
  },
  {
   "cell_type": "code",
   "execution_count": 10,
   "metadata": {
    "nbgrader": {
     "grade": true,
     "grade_id": "cell-833f0ae200c2a3ea",
     "locked": true,
     "points": 0,
     "schema_version": 3,
     "solution": false,
     "task": false
    }
   },
   "outputs": [
    {
     "name": "stdout",
     "output_type": "stream",
     "text": [
      "ALL PASSED!\n"
     ]
    }
   ],
   "source": [
    "#here to avoid multiple push statements it can be optimised using for loop once at a time\n",
    "\n",
    "link=linkedlist()\n",
    "a=[1,2,3,4]\n",
    "for i in a:\n",
    "    link.push(i)\n",
    "n=2\n",
    "assert search(link,n) == \"All passed\"\n",
    "\n",
    "link=linkedlist()\n",
    "a=[1, 2, 3, 4, 5, 6, 7, 8, 9]\n",
    "for i in a:\n",
    "    link.push(i)\n",
    "n=10\n",
    "assert search(link,n) == \"The element is not present in the list\"\n",
    "\n",
    "print(\"ALL PASSED!\")"
   ]
  },
  {
   "cell_type": "markdown",
   "metadata": {
    "nbgrader": {
     "grade": false,
     "grade_id": "cell-22d7c8bd6a1de0b1",
     "locked": true,
     "schema_version": 3,
     "solution": false,
     "task": false
    }
   },
   "source": [
    "----\n",
    "## Exercise 5"
   ]
  },
  {
   "cell_type": "markdown",
   "metadata": {
    "nbgrader": {
     "grade": false,
     "grade_id": "cell-8627fd21d0d8f71b",
     "locked": true,
     "schema_version": 3,
     "solution": false,
     "task": false
    }
   },
   "source": [
    "Write a function to delete a node in linked list.deleteall function is used to delete a node in a linked list.The function can delete the node in the head,tail,and in other part of the linked list.\n",
    "\n",
    "Sample input:\n",
    "\n",
    "1\n",
    "\n",
    "2\n",
    "\n",
    "3\n",
    "\n",
    "4\n",
    "\n",
    "2\n",
    "\n",
    "Sample output:\n",
    "\n",
    "[1, 3, 4]\n",
    "\n",
    "Explanation:\n",
    "\n",
    "last line of the input is the data that is to be deleted from the list.\n",
    "\n",
    "After deleting '2' from the list the resultant list is [1, 3, 4]."
   ]
  },
  {
   "cell_type": "markdown",
   "metadata": {
    "nbgrader": {
     "grade": false,
     "grade_id": "cell-8c18e42178885a0a",
     "locked": true,
     "schema_version": 3,
     "solution": false,
     "task": false
    }
   },
   "source": [
    "#### Code Cell\n",
    "Below is the code cell for **Exercise 5**. Type your code in the cell."
   ]
  },
  {
   "cell_type": "code",
   "execution_count": 41,
   "metadata": {
    "nbgrader": {
     "grade": false,
     "grade_id": "cell-658b3178f675dcb0",
     "locked": false,
     "schema_version": 3,
     "solution": true,
     "task": false
    }
   },
   "outputs": [],
   "source": [
    "def deleteall(link,key):\n",
    "    \n",
    "    ##your code here\n",
    "    ###BEGIN SOLUTION\n",
    "    \n",
    "    ns=0\n",
    "    temp=link.head\n",
    "    if(link.head.data==key):\n",
    "        ms=link.head\n",
    "        link.head=link.head.next\n",
    "        ns=1\n",
    "        ms=None\n",
    "    elif(link.tail.data==key):\n",
    "        ns=1\n",
    "        pk=link.tail\n",
    "        tsp=link.head\n",
    "        pw=0\n",
    "        while(tsp.next!=pk):\n",
    "            tsp=tsp.next\n",
    "            pw=tsp\n",
    "        if(pw==0):\n",
    "            pw=link.head\n",
    "        link.tail=pw\n",
    "        pw.next=None\n",
    "    else:\n",
    "        pu=0\n",
    "        while(temp.next is not None):\n",
    "            if(temp.data==key):\n",
    "                ns=1\n",
    "                pu=1\n",
    "                break\n",
    "            prev=temp\n",
    "            temp=temp.next\n",
    "        try:\n",
    "            if(pu==1):\n",
    "                prev.next=temp.next\n",
    "                temp=None\n",
    "        except:\n",
    "            pass\n",
    "    if((ns==1) and (link.head is not None)):\n",
    "        return True\n",
    "    else:\n",
    "        return False\n",
    "    \n",
    "    ###END SOLUTION"
   ]
  },
  {
   "cell_type": "markdown",
   "metadata": {
    "nbgrader": {
     "grade": false,
     "grade_id": "cell-827fe78d346f7bc3",
     "locked": true,
     "schema_version": 3,
     "solution": false,
     "task": false
    }
   },
   "source": [
    "#### Test Cases\n",
    "Run the below test cell to validate your code for **Exercise 5**. The cell has test cases your code should pass. Please do not modify the contents of this cell."
   ]
  },
  {
   "cell_type": "code",
   "execution_count": 45,
   "metadata": {
    "nbgrader": {
     "grade": true,
     "grade_id": "cell-6344067b20760ae0",
     "locked": true,
     "points": 0,
     "schema_version": 3,
     "solution": false,
     "task": false
    }
   },
   "outputs": [
    {
     "name": "stdout",
     "output_type": "stream",
     "text": [
      "ALL PASSED!\n"
     ]
    }
   ],
   "source": [
    "link=linkedlist()\n",
    "a=[1, 2, 3, 4]\n",
    "for i in a:\n",
    "    link.push(i)\n",
    "de=2\n",
    "assert deleteall(link,de) == True\n",
    "\n",
    "assert display(link) == [1, 3, 4]\n",
    "\n",
    "link=linkedlist()\n",
    "a=[5000, 5001, 5002, 5004, 5005]\n",
    "for i in a:\n",
    "    link.push(i)\n",
    "de=5000\n",
    "assert deleteall(link,de) == True\n",
    "\n",
    "assert display(link) == [5001, 5002, 5004, 5005]\n",
    "\n",
    "link=linkedlist()\n",
    "a=[1, 3, 4]\n",
    "for i in a:\n",
    "    link.push(i)\n",
    "de=2\n",
    "assert deleteall(link,de) == False\n",
    "\n",
    "print(\"ALL PASSED!\")"
   ]
  }
 ],
 "metadata": {
  "celltoolbar": "Create Assignment",
  "kernelspec": {
   "display_name": "Python 3",
   "language": "python",
   "name": "python3"
  },
  "language_info": {
   "codemirror_mode": {
    "name": "ipython",
    "version": 3
   },
   "file_extension": ".py",
   "mimetype": "text/x-python",
   "name": "python",
   "nbconvert_exporter": "python",
   "pygments_lexer": "ipython3",
   "version": "3.7.6"
  },
  "varInspector": {
   "cols": {
    "lenName": 16,
    "lenType": 16,
    "lenVar": 40
   },
   "kernels_config": {
    "python": {
     "delete_cmd_postfix": "",
     "delete_cmd_prefix": "del ",
     "library": "var_list.py",
     "varRefreshCmd": "print(var_dic_list())"
    },
    "r": {
     "delete_cmd_postfix": ") ",
     "delete_cmd_prefix": "rm(",
     "library": "var_list.r",
     "varRefreshCmd": "cat(var_dic_list()) "
    }
   },
   "types_to_exclude": [
    "module",
    "function",
    "builtin_function_or_method",
    "instance",
    "_Feature"
   ],
   "window_display": true
  }
 },
 "nbformat": 4,
 "nbformat_minor": 4
}
