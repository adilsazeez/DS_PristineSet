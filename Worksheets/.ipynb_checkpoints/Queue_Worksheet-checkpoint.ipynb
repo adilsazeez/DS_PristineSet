{
 "cells": [
  {
   "cell_type": "markdown",
   "metadata": {
    "nbgrader": {
     "grade": false,
     "grade_id": "cell-a06c2a89e35fc23b",
     "locked": true,
     "schema_version": 3,
     "solution": false,
     "task": false
    }
   },
   "source": [
    "# *Queue*\n",
    "\n",
    "**Prerequisites**: [*Concepts of Queue and its operations, Basics of loops and Functions*]"
   ]
  },
  {
   "cell_type": "markdown",
   "metadata": {
    "nbgrader": {
     "grade": false,
     "grade_id": "cell-ce541bd00358e28a",
     "locked": true,
     "schema_version": 3,
     "solution": false,
     "task": false
    }
   },
   "source": [
    "## Exercise 1"
   ]
  },
  {
   "cell_type": "markdown",
   "metadata": {
    "nbgrader": {
     "grade": false,
     "grade_id": "cell-19386d68348e2f7f",
     "locked": true,
     "schema_version": 3,
     "solution": false,
     "task": false
    }
   },
   "source": [
    "Write a class Queue that defines the methods enqueue, dequeue and is_empty inside the class Queue.\n",
    "\n",
    "1. The method enqueue appends data to items.\n",
    "\n",
    "2. The method dequeue dequeues the first element in items.\n",
    "\n",
    "3. The method is_empty returns True only if items is empty.\n",
    "\n",
    "4. The method peek() returns the first element of the Queue.\n",
    "\n",
    "5. The method size() returns the size of the Queue."
   ]
  },
  {
   "cell_type": "markdown",
   "metadata": {
    "nbgrader": {
     "grade": false,
     "grade_id": "cell-af5827c5db735b45",
     "locked": true,
     "schema_version": 3,
     "solution": false,
     "task": false
    }
   },
   "source": [
    "#### Code Cell\n",
    "Below is the code cell for **Exercise 1**. Type in your code in the cell. "
   ]
  },
  {
   "cell_type": "code",
   "execution_count": 14,
   "metadata": {
    "nbgrader": {
     "grade": false,
     "grade_id": "cell-2ec62f126b24dfbd",
     "locked": false,
     "schema_version": 3,
     "solution": true,
     "task": false
    }
   },
   "outputs": [],
   "source": [
    "class Queue:\n",
    "    \n",
    "    def __init__(self):\n",
    "        self.items = []\n",
    "        \n",
    "        ##your code here.\n",
    "        ### BEGIN SOLUTION\n",
    " \n",
    "    def is_empty(self):\n",
    "        return self.items == []\n",
    "    \n",
    "    def enqueue(self, data):\n",
    "        self.items.append(data)\n",
    " \n",
    "    def dequeue(self):\n",
    "        return self.items.pop(0)\n",
    "    \n",
    "    def __str__(self):\n",
    "        return str(self.items)\n",
    "    \n",
    "    def size(self):\n",
    "        return len(self.items)\n",
    "    \n",
    "    def peek(self):\n",
    "        if self.items:\n",
    "            return self.items[-1]\n",
    "        \n",
    "        ### END SOLUTION"
   ]
  },
  {
   "cell_type": "markdown",
   "metadata": {
    "nbgrader": {
     "grade": false,
     "grade_id": "cell-c9984f83c9dd503c",
     "locked": true,
     "schema_version": 3,
     "solution": false,
     "task": false
    }
   },
   "source": [
    "#### Test Cases \n",
    "Run the below test cell to validate your code for **Exercise 1**. The cell has test cases your code should pass. Please do not modify the contents of this cell."
   ]
  },
  {
   "cell_type": "code",
   "execution_count": 11,
   "metadata": {
    "nbgrader": {
     "grade": true,
     "grade_id": "cell-933483ef34527a9c",
     "locked": true,
     "points": 0,
     "schema_version": 3,
     "solution": false,
     "task": false
    }
   },
   "outputs": [
    {
     "name": "stdout",
     "output_type": "stream",
     "text": [
      "ALL PASSED!\n"
     ]
    }
   ],
   "source": [
    "q = Queue()\n",
    "q.enqueue(100)\n",
    "assert q.is_empty() == False\n",
    "\n",
    "assert q.peek() == 100\n",
    "\n",
    "assert q.size() == 1\n",
    "\n",
    "q = Queue()\n",
    "q.enqueue(1)\n",
    "q.enqueue(2)\n",
    "q.enqueue(3)\n",
    "q.enqueue(4)\n",
    "q.enqueue(5)\n",
    "assert q.is_empty() == False\n",
    "\n",
    "assert q.size() == 5\n",
    "\n",
    "print(\"ALL PASSED!\")"
   ]
  },
  {
   "cell_type": "markdown",
   "metadata": {
    "nbgrader": {
     "grade": false,
     "grade_id": "cell-dff2e28fb880162f",
     "locked": true,
     "schema_version": 3,
     "solution": false,
     "task": false
    }
   },
   "source": [
    "----\n",
    "## Exercise 2\n"
   ]
  },
  {
   "cell_type": "markdown",
   "metadata": {
    "nbgrader": {
     "grade": false,
     "grade_id": "cell-4892bae12752c1a6",
     "locked": true,
     "schema_version": 3,
     "solution": false,
     "task": false
    }
   },
   "source": [
    "Complete the following class Queue_Two_Stacks() to implement a Queue data structure using TWO stacks thus converting LIFO to FIFO operation."
   ]
  },
  {
   "cell_type": "markdown",
   "metadata": {
    "nbgrader": {
     "grade": false,
     "grade_id": "cell-14222a78e27c0168",
     "locked": true,
     "schema_version": 3,
     "solution": false,
     "task": false
    }
   },
   "source": [
    "#### Code Cell\n",
    "Below is the code cell for **Exercise 2**. Type your code in the cell."
   ]
  },
  {
   "cell_type": "code",
   "execution_count": 13,
   "metadata": {
    "nbgrader": {
     "grade": false,
     "grade_id": "cell-95b9b126dd4a4a44",
     "locked": false,
     "schema_version": 3,
     "solution": true,
     "task": false
    }
   },
   "outputs": [],
   "source": [
    "class Queue_Two_Stacks():\n",
    "\n",
    "    def __init__(self):\n",
    "        self.stack_1 = []\n",
    "        self.stack_2 = []\n",
    "        \n",
    "    ##your code here\n",
    "    ###BEGIN SOLUTION\n",
    "    \n",
    "    def __str__(self):\n",
    "        return str(self.stack_1)\n",
    "\n",
    "    def enqueue(self, item):\n",
    "        self.stack_1.append(item)\n",
    "\n",
    "    def dequeue(self):\n",
    "        if len(self.stack_2) == 0:\n",
    "            if len(self.stack_1) == 0:\n",
    "                raise IndexError(\"Can't dequeue from empty queue!\")\n",
    "            while len(self.stack_1) > 0 :\n",
    "                last_stack_1_item = self.stack_1.pop()\n",
    "                self.stack_2.append(last_stack_1_item)\n",
    "        return self.stack_2.pop()\n",
    "    \n",
    "    def is_empty(self):\n",
    "        return self.stack_2 == []\n",
    "   \n",
    "    def size(self):\n",
    "        return len(self.stack_1)\n",
    "    \n",
    "    ###END SOLUTION"
   ]
  },
  {
   "cell_type": "markdown",
   "metadata": {
    "nbgrader": {
     "grade": false,
     "grade_id": "cell-f0290bdd601846b7",
     "locked": true,
     "schema_version": 3,
     "solution": false,
     "task": false
    }
   },
   "source": [
    "#### Test Cases \n",
    "Run the below test cell to validate your code for **Exercise 2**. The cell has test cases your code should pass. Please do not modify the contents of this cell."
   ]
  },
  {
   "cell_type": "code",
   "execution_count": 14,
   "metadata": {
    "nbgrader": {
     "grade": true,
     "grade_id": "cell-f502e8909dcf6eb8",
     "locked": true,
     "points": 0,
     "schema_version": 3,
     "solution": false,
     "task": false
    }
   },
   "outputs": [
    {
     "name": "stdout",
     "output_type": "stream",
     "text": [
      "ALL PASSED!\n"
     ]
    }
   ],
   "source": [
    "q1=Queue_Two_Stacks()\n",
    "q1.enqueue(10)\n",
    "q1.enqueue(20)\n",
    "q1.enqueue(30)\n",
    "assert q1.dequeue() == 10\n",
    "\n",
    "assert q1.dequeue() == 20\n",
    "\n",
    "assert q1.dequeue() == 30\n",
    "\n",
    "assert q1.is_empty()==True\n",
    "\n",
    "print(\"ALL PASSED!\")"
   ]
  },
  {
   "cell_type": "markdown",
   "metadata": {
    "nbgrader": {
     "grade": false,
     "grade_id": "cell-bceaf6168903ad92",
     "locked": true,
     "schema_version": 3,
     "solution": false,
     "task": false
    },
    "slideshow": {
     "slide_type": "notes"
    }
   },
   "source": [
    "----\n",
    "## Exercise 3\n"
   ]
  },
  {
   "cell_type": "markdown",
   "metadata": {
    "nbgrader": {
     "grade": false,
     "grade_id": "cell-b2d46caf29e3ec6a",
     "locked": true,
     "schema_version": 3,
     "solution": false,
     "task": false
    }
   },
   "source": [
    "Complete the following list_to_queue class to implement a Queue data structure using a List.\n",
    "\n",
    "Use put() as enqueue() method.\n",
    "\n",
    "Use get() as dequeue() method.\n",
    "\n",
    "The rotate() method is used to rotate the queue structure by a count specified by the user!\n",
    "\n",
    "Example:\n",
    "\n",
    "q2 = [1,2,3,4,5]\n",
    "\n",
    "get() -> returns [1]\n",
    "\n",
    "put(6) changes the queue to q2 = [1,2,3,4,5,6] \n",
    "\n",
    "rotate(2) changes the queue to q2 = [3,4,5,6,1,2]"
   ]
  },
  {
   "cell_type": "markdown",
   "metadata": {
    "nbgrader": {
     "grade": false,
     "grade_id": "cell-5e7c3d6b5a65a6ad",
     "locked": true,
     "schema_version": 3,
     "solution": false,
     "task": false
    }
   },
   "source": [
    "#### Code Cell\n",
    "Below is the code cell for **Exercise 3**. Type your code in the cell."
   ]
  },
  {
   "cell_type": "code",
   "execution_count": 15,
   "metadata": {
    "nbgrader": {
     "grade": false,
     "grade_id": "cell-70a9b90a2f9fd107",
     "locked": false,
     "schema_version": 3,
     "solution": true,
     "task": false
    }
   },
   "outputs": [],
   "source": [
    "class list_to_queue:\n",
    "    \n",
    "    def __init__(self):\n",
    "        self.entries = []\n",
    "        self.length = 0\n",
    "        self.front = 0\n",
    "\n",
    "    ##your code here\n",
    "    ###BEGIN SOLUTION\n",
    "        \n",
    "    def __str__(self):\n",
    "        printed = \"[\" + str(self.entries)[1:-1] + \"]\"\n",
    "        return printed\n",
    "\n",
    "    def put(self, item):\n",
    "        self.entries.append(item)\n",
    "        self.length = self.length + 1\n",
    "\n",
    "    def get(self):\n",
    "        self.length = self.length - 1\n",
    "        dequeued = self.entries[self.front]\n",
    "        self.entries = self.entries[1:]\n",
    "        return dequeued\n",
    "        \n",
    "\n",
    "    def rotate(self, rotation): \n",
    "        for i in range(rotation):\n",
    "            self.put(self.get())\n",
    "\n",
    "    def get_front(self): \n",
    "        return self.entries[0]\n",
    "    \n",
    "    def size(self):\n",
    "        return self.length\n",
    "    \n",
    "    ###END SOLUTION"
   ]
  },
  {
   "cell_type": "markdown",
   "metadata": {
    "nbgrader": {
     "grade": false,
     "grade_id": "cell-d7121632e26e5b24",
     "locked": true,
     "schema_version": 3,
     "solution": false,
     "task": false
    }
   },
   "source": [
    "#### Test Cases \n",
    "Run the below test cell to validate your code for **Exercise 3**. The cell has test cases your code should pass. Please do not modify the contents of this cell."
   ]
  },
  {
   "cell_type": "code",
   "execution_count": null,
   "metadata": {
    "nbgrader": {
     "grade": true,
     "grade_id": "cell-33d4a01fd430ba7b",
     "locked": true,
     "points": 0,
     "schema_version": 3,
     "solution": false,
     "task": false
    }
   },
   "outputs": [],
   "source": [
    "q2=list_to_queue()\n",
    "\n",
    "assert q2.get() == 0\n",
    "\n",
    "q2.put(100)\n",
    "\n",
    "assert q2.size() == 1\n",
    "\n",
    "assert q2.get_front() == 1\n",
    "\n",
    "q2.rotate(2)\n",
    "\n",
    "print(\"ALL PASSED!\")"
   ]
  },
  {
   "cell_type": "markdown",
   "metadata": {
    "nbgrader": {
     "grade": false,
     "grade_id": "cell-2ce3a72b6ff22a58",
     "locked": true,
     "schema_version": 3,
     "solution": false,
     "task": false
    }
   },
   "source": [
    "----\n",
    "## Exercise 4"
   ]
  },
  {
   "cell_type": "markdown",
   "metadata": {
    "nbgrader": {
     "grade": false,
     "grade_id": "cell-b9c3edaa34d6959f",
     "locked": true,
     "schema_version": 3,
     "solution": false,
     "task": false
    }
   },
   "source": [
    "Complete the class LinkedQueue to implement a queue data structure using a Linked List.\n",
    "\n",
    "Class Node will initialize node to be added to the Queue structure.\n",
    "\n",
    "Use put() as enqueue() method.\n",
    "\n",
    "Use get() as dequeue() method."
   ]
  },
  {
   "cell_type": "markdown",
   "metadata": {
    "nbgrader": {
     "grade": false,
     "grade_id": "cell-598f21fc0bf25770",
     "locked": true,
     "schema_version": 3,
     "solution": false,
     "task": false
    }
   },
   "source": [
    "#### Code Cell\n",
    "Below is the code cell for **Exercise 4**. Type your code in the cell."
   ]
  },
  {
   "cell_type": "code",
   "execution_count": 2,
   "metadata": {
    "nbgrader": {
     "grade": false,
     "grade_id": "cell-5d0ea47ca640c947",
     "locked": false,
     "schema_version": 3,
     "solution": true,
     "task": false
    }
   },
   "outputs": [],
   "source": [
    "from typing import Any, Optional\n",
    "\n",
    "class Node:\n",
    "    def __init__(self, data: Any, next: Optional[\"Node\"] = None):\n",
    "        self.data: Any = data\n",
    "        self.next: Optional[\"Node\"] = next\n",
    "            \n",
    "class LinkedQueue:\n",
    "   \n",
    "    ##your code here\n",
    "    ###BEGIN SOLUTION\n",
    "    \n",
    "    def __init__(self) -> None:\n",
    "        self.front: Optional[Node] = None\n",
    "        self.rear: Optional[Node] = None\n",
    "\n",
    "    def is_empty(self) -> bool:\n",
    "        return self.front is None\n",
    "    \n",
    "    def put(self, item: Any) -> None:\n",
    "        node: Node = Node(item)\n",
    "        if self.is_empty():\n",
    "            self.front = node\n",
    "            self.rear = node\n",
    "        else:\n",
    "            assert isinstance(self.rear, Node)\n",
    "            self.rear.next = node\n",
    "            self.rear = node\n",
    "        \n",
    "    def get(self) -> Any:\n",
    "        if self.is_empty():\n",
    "            raise IndexError(\"get from empty queue\")\n",
    "        else:\n",
    "            assert isinstance(self.front, Node)\n",
    "            node: Node = self.front\n",
    "            self.front = node.next\n",
    "            if self.front is None:\n",
    "                self.rear = None\n",
    "            return node.data\n",
    "        \n",
    "        ###END SOLUTION"
   ]
  },
  {
   "cell_type": "markdown",
   "metadata": {
    "nbgrader": {
     "grade": false,
     "grade_id": "cell-159515cfc361ad86",
     "locked": true,
     "schema_version": 3,
     "solution": false,
     "task": false
    }
   },
   "source": [
    "#### Test Cases\n",
    "Run the below test cell to validate your code for **Exercise 4**. The cell has test cases your code should pass. Please do not modify the contents of this cell."
   ]
  },
  {
   "cell_type": "code",
   "execution_count": 3,
   "metadata": {
    "nbgrader": {
     "grade": true,
     "grade_id": "cell-833f0ae200c2a3ea",
     "locked": true,
     "points": 0,
     "schema_version": 3,
     "solution": false,
     "task": false
    }
   },
   "outputs": [
    {
     "name": "stdout",
     "output_type": "stream",
     "text": [
      "ALL PASSED!\n"
     ]
    }
   ],
   "source": [
    "queue = LinkedQueue()\n",
    "assert queue.is_empty()==True\n",
    "\n",
    "queue.put(5)\n",
    "queue.put(9)\n",
    "queue.put('python')\n",
    "assert queue.is_empty()==False\n",
    "\n",
    "assert queue.get()==5\n",
    "\n",
    "queue.put('algorithms')\n",
    "assert queue.get()==9\n",
    "\n",
    "assert queue.get()=='python'\n",
    "\n",
    "assert queue.get()=='algorithms'\n",
    "\n",
    "assert queue.is_empty()==True\n",
    "\n",
    "print(\"ALL PASSED!\")"
   ]
  },
  {
   "cell_type": "markdown",
   "metadata": {
    "nbgrader": {
     "grade": false,
     "grade_id": "cell-22d7c8bd6a1de0b1",
     "locked": true,
     "schema_version": 3,
     "solution": false,
     "task": false
    }
   },
   "source": [
    "----\n",
    "## Exercise 5"
   ]
  },
  {
   "cell_type": "markdown",
   "metadata": {
    "nbgrader": {
     "grade": false,
     "grade_id": "cell-bebbd36cafe24849",
     "locked": true,
     "schema_version": 3,
     "solution": false,
     "task": false
    }
   },
   "source": [
    "Complete the class pseudo_stack_Queue represented by a pseudo stack (represented by a list with pop and append)."
   ]
  },
  {
   "cell_type": "markdown",
   "metadata": {
    "nbgrader": {
     "grade": false,
     "grade_id": "cell-8c18e42178885a0a",
     "locked": true,
     "schema_version": 3,
     "solution": false,
     "task": false
    }
   },
   "source": [
    "#### Code Cell\n",
    "Below is the code cell for **Exercise 5**. Type your code in the cell."
   ]
  },
  {
   "cell_type": "code",
   "execution_count": 6,
   "metadata": {
    "nbgrader": {
     "grade": false,
     "grade_id": "cell-658b3178f675dcb0",
     "locked": false,
     "schema_version": 3,
     "solution": true,
     "task": false
    }
   },
   "outputs": [],
   "source": [
    "class Pseudo_stack_Queue:\n",
    "    \n",
    "    def __init__(self):\n",
    "        self.stack = []\n",
    "        self.length = 0\n",
    "        \n",
    "    ##your code here\n",
    "    ###BEGIN SOLUTION \n",
    "\n",
    "    def __str__(self):\n",
    "        printed = \"[\" + str(self.stack)[1:-1] + \"]\"\n",
    "        return printed\n",
    "\n",
    "    def put(self, item):\n",
    "        self.stack.append(item)\n",
    "        self.length = self.length + 1\n",
    "\n",
    "    def get(self):\n",
    "        self.rotate(1)\n",
    "        dequeued = self.stack[self.length - 1]\n",
    "        self.stack = self.stack[:-1]\n",
    "        self.rotate(self.length - 1)\n",
    "        self.length = self.length - 1\n",
    "        return dequeued\n",
    "\n",
    "    def front(self):\n",
    "        front = self.get()\n",
    "        self.put(front)\n",
    "        self.rotate(self.length - 1)\n",
    "        return front\n",
    "        \n",
    "    def rotate(self, rotation):\n",
    "        for i in range(rotation):\n",
    "            temp = self.stack[0]\n",
    "            self.stack = self.stack[1:]\n",
    "            self.put(temp)\n",
    "            self.length = self.length - 1\n",
    "\n",
    "    def size(self):\n",
    "        return self.length\n",
    "    \n",
    "    ###END SOLUTION"
   ]
  },
  {
   "cell_type": "markdown",
   "metadata": {
    "nbgrader": {
     "grade": false,
     "grade_id": "cell-827fe78d346f7bc3",
     "locked": true,
     "schema_version": 3,
     "solution": false,
     "task": false
    }
   },
   "source": [
    "#### Test Cases\n",
    "Run the below test cell to validate your code for **Exercise 5**. The cell has test cases your code should pass. Please do not modify the contents of this cell."
   ]
  },
  {
   "cell_type": "code",
   "execution_count": 8,
   "metadata": {
    "nbgrader": {
     "grade": true,
     "grade_id": "cell-6344067b20760ae0",
     "locked": true,
     "points": 0,
     "schema_version": 3,
     "solution": false,
     "task": false
    }
   },
   "outputs": [
    {
     "name": "stdout",
     "output_type": "stream",
     "text": [
      "ALL PASSED!\n"
     ]
    }
   ],
   "source": [
    "qu=Pseudo_stack_Queue()\n",
    "assert qu.size()==0\n",
    "\n",
    "qu.put(10)\n",
    "qu.put(20)\n",
    "assert qu.front()==10\n",
    "\n",
    "assert qu.size()==2\n",
    "\n",
    "qu.put('Hello')\n",
    "assert str(qu)==\"[10, 20, 'Hello']\"\n",
    "\n",
    "assert qu.get()==10\n",
    "\n",
    "assert qu.get()==20\n",
    "\n",
    "assert qu.get()=='Hello'\n",
    "\n",
    "assert qu.size()==0\n",
    "\n",
    "print(\"ALL PASSED!\")"
   ]
  },
  {
   "cell_type": "markdown",
   "metadata": {
    "nbgrader": {
     "grade": false,
     "grade_id": "cell-3e014017de0918e1",
     "locked": true,
     "schema_version": 3,
     "solution": false,
     "task": false
    }
   },
   "source": [
    "----\n",
    "## Exercise 6"
   ]
  },
  {
   "cell_type": "markdown",
   "metadata": {
    "nbgrader": {
     "grade": false,
     "grade_id": "cell-0071759c4197dff9",
     "locked": true,
     "schema_version": 3,
     "solution": false,
     "task": false
    }
   },
   "source": [
    "Complete the following hotPotato() function to implement the Hot Potato Simulation in which,\n",
    "We will implement a general simulation of Hot Potato. Our program will input a list of names and a constant, call it “num,” to be used for counting. It will return the name of the last person remaining after repetitive counting by num. After num dequeue/enqueue operations, the child at the front will be removed permanently and another cycle will begin.\n",
    "\n",
    "Sample Input:\n",
    "    \n",
    "Queue: \"Bill\",\"David\",\"Susan\",\"Jane\",\"Kent\",\"Brad\"\n",
    "    \n",
    "Rotation Count: 3\n",
    "\n",
    "Sample Output:\n",
    "    \n",
    "Kent"
   ]
  },
  {
   "cell_type": "code",
   "execution_count": 12,
   "metadata": {
    "nbgrader": {
     "grade": false,
     "grade_id": "cell-cbda52646632cdae",
     "locked": false,
     "schema_version": 3,
     "solution": true,
     "task": false
    }
   },
   "outputs": [],
   "source": [
    "def hotPotato(namelist, num):\n",
    "    simqueue = Queue() ## for this function run the class Queue in Exercise 1 ##\n",
    "    \n",
    "    for name in namelist:\n",
    "        simqueue.enqueue(name)\n",
    "        \n",
    "    while simqueue.size() > 1:\n",
    "        \n",
    "    ##your code here\n",
    "    ### BEGIN SOLUTION\n",
    "    \n",
    "        for i in range(num):\n",
    "            simqueue.enqueue(simqueue.dequeue())\n",
    "        simqueue.dequeue()\n",
    "    return simqueue.dequeue()\n",
    "\n",
    "    ### END SOLUTION"
   ]
  },
  {
   "cell_type": "markdown",
   "metadata": {
    "nbgrader": {
     "grade": false,
     "grade_id": "cell-2de2beb782c248b8",
     "locked": true,
     "schema_version": 3,
     "solution": false,
     "task": false
    }
   },
   "source": [
    "#### Test Cases\n",
    "Run the below test cell to validate your code for **Exercise 6**. The cell has test cases your code should pass. Please do not modify the contents of this cell."
   ]
  },
  {
   "cell_type": "code",
   "execution_count": 15,
   "metadata": {
    "nbgrader": {
     "grade": true,
     "grade_id": "cell-42905c50023d6ea5",
     "locked": true,
     "points": 0,
     "schema_version": 3,
     "solution": false,
     "task": false
    }
   },
   "outputs": [
    {
     "name": "stdout",
     "output_type": "stream",
     "text": [
      "ALL PASSED!\n"
     ]
    }
   ],
   "source": [
    "assert hotPotato([\"Bill\",\"David\",\"Susan\",\"Jane\",\"Kent\",\"Brad\"],1) == 'Kent'\n",
    "\n",
    "assert hotPotato([\"Bill\",\"David\",\"Susan\",\"Jane\",\"Kent\",\"Brad\"],5) == 'Jane'\n",
    "\n",
    "print(\"ALL PASSED!\")"
   ]
  }
 ],
 "metadata": {
  "celltoolbar": "Create Assignment",
  "kernelspec": {
   "display_name": "Python 3",
   "language": "python",
   "name": "python3"
  },
  "language_info": {
   "codemirror_mode": {
    "name": "ipython",
    "version": 3
   },
   "file_extension": ".py",
   "mimetype": "text/x-python",
   "name": "python",
   "nbconvert_exporter": "python",
   "pygments_lexer": "ipython3",
   "version": "3.7.6"
  },
  "varInspector": {
   "cols": {
    "lenName": 16,
    "lenType": 16,
    "lenVar": 40
   },
   "kernels_config": {
    "python": {
     "delete_cmd_postfix": "",
     "delete_cmd_prefix": "del ",
     "library": "var_list.py",
     "varRefreshCmd": "print(var_dic_list())"
    },
    "r": {
     "delete_cmd_postfix": ") ",
     "delete_cmd_prefix": "rm(",
     "library": "var_list.r",
     "varRefreshCmd": "cat(var_dic_list()) "
    }
   },
   "types_to_exclude": [
    "module",
    "function",
    "builtin_function_or_method",
    "instance",
    "_Feature"
   ],
   "window_display": true
  }
 },
 "nbformat": 4,
 "nbformat_minor": 4
}
