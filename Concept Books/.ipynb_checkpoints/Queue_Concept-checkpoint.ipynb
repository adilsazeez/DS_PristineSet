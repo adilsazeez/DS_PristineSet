{
 "cells": [
  {
   "attachments": {},
   "cell_type": "markdown",
   "metadata": {},
   "source": [
    "# [Queue](https://en.wikipedia.org/wiki/Queue_(abstract_data_type))\n",
    "\n",
    "### What is Queue?\n",
    "\n",
    "In computer science, a queue is a collection of entities that are maintained in a sequence and can be modified by the addition of entities at one end of the sequence and the removal of entities from the other end of the sequence. By convention, the end of the sequence at which elements are added is called the back, tail, or rear of the queue, and the end at which elements are removed is called the head or front of the queue, analogously to the words used when people line up to wait for goods or services. (Source: Wikipedia)\n",
    "\n",
    "---\n",
    "\n",
    "### Why Queue?\n",
    "\n",
    "A queue is optimised for particular operations which may be used frequently in use cases where a queue comes handy, for example adding an object to the end of the queue and removing an object from the head of the queue.\n",
    "It is fast and flexible. \n",
    "\n",
    "---\n",
    "\n",
    "### Idea?\n",
    "\n",
    "A queue is a first-in first-out (FIFO) abstract data type that is heavily used in computing. Uses for queues involve anything where you want things to happen in the order that they were called, but where the computer can't keep up to speed. Eg. Keyboard Buffer, Printer Queue.\n",
    "\n",
    "---\n",
    "\n",
    "### Example:\n",
    "\n",
    "<img src=\"https://drive.google.com/uc?id=13loIKCfXZR0MWqhasI4oTZjGDUZhRn16\" align='center' />\n",
    "\n",
    "In programming terms, putting an item in the queue is called an `EnQueue` and removing an item from the queue is called `DeQueue`\n",
    "\n",
    "The GIF shown above depicts the operations that a generic Queue data structure performs - `EnQueue` & `DeQueue`, only after checking whether Queue is full or empty.\n",
    "\n",
    "Here's a video of one more example. The video explains the workings of the Queue Data Structure in a more generic way implemented using python."
   ]
  },
  {
   "cell_type": "code",
   "execution_count": 1,
   "metadata": {},
   "outputs": [
    {
     "data": {
      "text/html": [
       "\n",
       "        <iframe\n",
       "            width=\"814\"\n",
       "            height=\"509\"\n",
       "            src=\"https://www.youtube.com/embed/H1lXGoR4QtI\"\n",
       "            frameborder=\"0\"\n",
       "            allowfullscreen\n",
       "        ></iframe>\n",
       "        "
      ],
      "text/plain": [
       "<IPython.lib.display.IFrame at 0x17a13c822c8>"
      ]
     },
     "execution_count": 1,
     "metadata": {},
     "output_type": "execute_result"
    }
   ],
   "source": [
    "## Run this cell (shift+enter) to see the video\n",
    "\n",
    "from IPython.display import IFrame\n",
    "IFrame(\"https://www.youtube.com/embed/H1lXGoR4QtI\", width=\"814\", height=\"509\")"
   ]
  },
  {
   "cell_type": "markdown",
   "metadata": {},
   "source": [
    "Notice a few things:\n",
    "\n",
    "\n",
    "So how can we code a Queue Data Structure? Lets break it down. There are 7 fundamental building blocks of a Queue Data Structure-\n",
    "\n",
    "The following steps for Queue implementation are performed using a list.\n",
    "\n",
    "**Create a list**\n",
    "\n",
    "1. Start the implementation by creating an empty list for queue operations\n",
    "    - any changes made to the queue will reflect on this list.\n",
    "\n",
    "**Define the Display function**\n",
    "\n",
    "2. Create a display() function that prints the list that is used to implement the queue.\n",
    "\n",
    "**Define the is_empty function**\n",
    "\n",
    "3. Create an is_empty() function that checks whether the queue is empty or not.\n",
    "\n",
    "**Define the EnQueue function**\n",
    "\n",
    "4. Create a enqueue() function that adds an element to the end of the queue.\n",
    "\n",
    "**Define the DeQueue function**\n",
    "\n",
    "5. Create a dequeue() function that removes an element from the front of the queue\n",
    "    - This step is performed only after checking whether the queue has items in it or not (before the dequeue operation is performed).\n",
    "    \n",
    "**Define the Peek function**\n",
    "\n",
    "6. Create a peek() function that returns the value of the front of the queue without deleting it.\n",
    "\n",
    "\n",
    "**Define the Size function**\n",
    "\n",
    "7. Create a size() function that returns the size of the queue based on the count of items inside it.\n",
    "\n",
    "**Note:** The isFull() function is also defined in cases where the queue size is fixed.\n",
    "\n",
    "\n",
    "### Building blocks for a Stack - \n",
    "\n",
    "1. Creating the empty list.\n",
    "\n",
    "2. Defining the display() function.\n",
    "\n",
    "3. Defining the is_empty() function.\n",
    "\n",
    "4. Defining the enqueue() function.\n",
    "\n",
    "5. Defining the dequeue() function.\n",
    "\n",
    "6. Defining the peek() function.\n",
    "\n",
    "7. Defining the size() function."
   ]
  },
  {
   "cell_type": "markdown",
   "metadata": {},
   "source": [
    "**1. Creating the empty list**"
   ]
  },
  {
   "cell_type": "code",
   "execution_count": null,
   "metadata": {},
   "outputs": [],
   "source": [
    "queue = [] ## This is the list used to implement the queue data structure"
   ]
  },
  {
   "cell_type": "markdown",
   "metadata": {},
   "source": [
    "**2. Defining the display() function**"
   ]
  },
  {
   "cell_type": "code",
   "execution_count": null,
   "metadata": {},
   "outputs": [],
   "source": [
    "# This function is used to print the entire queue\n",
    "\n",
    "def display():\n",
    "    print(queue) ## prints queue\n",
    "\n",
    "display() ## This prints the entire queue at a given point"
   ]
  },
  {
   "cell_type": "markdown",
   "metadata": {},
   "source": [
    "**2. Defining the is_empty() function**"
   ]
  },
  {
   "cell_type": "code",
   "execution_count": null,
   "metadata": {},
   "outputs": [],
   "source": [
    "def is_empty(queue):\n",
    "    \n",
    "    return len(queue) == 0\n",
    "\n",
    "print(is_empty(queue)) ## This is to indicate whether the queue is empty or not"
   ]
  },
  {
   "cell_type": "markdown",
   "metadata": {},
   "source": [
    "**3. Defining the enqueue() function**"
   ]
  },
  {
   "cell_type": "code",
   "execution_count": null,
   "metadata": {},
   "outputs": [],
   "source": [
    "# This function is used to add an item from the rear end into the queue\n",
    "\n",
    "def enqueue(item):\n",
    "        queue.append(item) ## appending an item at the rear of the queue\n",
    "        \n",
    "enqueue(10) ## call to the enqueue function with the item value as an argument\n",
    "display() ## printing the resulting queue"
   ]
  },
  {
   "cell_type": "markdown",
   "metadata": {},
   "source": [
    "**4. Defining the dequeue() function**"
   ]
  },
  {
   "cell_type": "code",
   "execution_count": null,
   "metadata": {},
   "outputs": [],
   "source": [
    "## This function is used to remove an item from the front of the queue\n",
    "## Notice that dequeue checks for an empty queue within its body without calling the is_empty() function\n",
    "\n",
    "def dequeue():\n",
    "        if len(queue) < 1: ## This means that the queue is empty\n",
    "            return None ## Return None\n",
    "        return queue.pop(0) ## Else pop an element from the front of the queue\n",
    "\n",
    "dequeue() ## call to remove an item from the front of the queue\n",
    "display() ## printing the resulting queue"
   ]
  },
  {
   "cell_type": "markdown",
   "metadata": {},
   "source": [
    "**5. Defining a peek() function**"
   ]
  },
  {
   "cell_type": "code",
   "execution_count": null,
   "metadata": {},
   "outputs": [],
   "source": [
    "# This function is used to return the front of the queue without deleting the value at front\n",
    "\n",
    "def peek():\n",
    "        if queue: ## If the queue has items in it\n",
    "            return queue[0] ## return the top \n",
    "\n",
    "peek() ## call to the peek function to get the front of the queue"
   ]
  },
  {
   "cell_type": "markdown",
   "metadata": {},
   "source": [
    "**7. Defining the size() function**"
   ]
  },
  {
   "cell_type": "code",
   "execution_count": null,
   "metadata": {},
   "outputs": [],
   "source": [
    "# This function returns the size of the queue at the point when this function is called  \n",
    "\n",
    "def size():\n",
    "    return len(queue) ## using len() to return the size\n",
    "\n",
    "size() ## This returns the size of the queue"
   ]
  },
  {
   "cell_type": "markdown",
   "metadata": {},
   "source": [
    "## Working of Queue Data Structure\n",
    "\n",
    "Now that we know all the moving parts, lets bring it all together.\n",
    "\n",
    "Here's a short description - \n",
    "\n",
    "The operations work as follows:\n",
    "\n",
    "1. Two pointers `FRONT` and `REAR`\n",
    "\n",
    "2. The `FRONT` pointer keeps a track  of the first element of the queue\n",
    "\n",
    "3. The `REAR` pointer keeps a track of the last elements of the queue\n",
    "\n",
    "4. We initially, set the value of `FRONT` and `REAR` to `-1`\n",
    "\n",
    "### Enqueue Operation\n",
    "\n",
    "1. Check if the queue is full. (This step is performed when the queue sized is fixed)\n",
    "\n",
    "2. For the first element, set value of `FRONT` to `0`.\n",
    "\n",
    "3. Increase the `REAR` index by `1`.\n",
    "\n",
    "4. Add the new element in the position pointed to by `REAR`.\n",
    "\n",
    "### Dequeue Operation\n",
    "\n",
    "1. Check if the queue is empty.\n",
    "\n",
    "2. Return the value pointed by `FRONT`.\n",
    "\n",
    "3. Increase the `FRONT` index by `1`.\n",
    "\n",
    "4. For the last element, reset the values of `FRONT` and `REAR` to `-1`\n"
   ]
  },
  {
   "cell_type": "code",
   "execution_count": null,
   "metadata": {},
   "outputs": [],
   "source": [
    "# write a class Queue() that will perform all the functions pertaining to a queue data structure\n",
    "\n",
    "class Queue:\n",
    "\n",
    "    def __init__(self):\n",
    "        self.queue = []\n",
    "\n",
    "    # write your code here\n",
    "    \n",
    "    "
   ]
  },
  {
   "cell_type": "markdown",
   "metadata": {},
   "source": [
    "Double-click __here__ for the solution.\n",
    "\n",
    "<!-- Here's the answer:\n",
    "\n",
    "class Queue:\n",
    "\n",
    "    def __init__(self):\n",
    "        self.queue = []\n",
    "\n",
    "    # Add an element\n",
    "    def enqueue(self, item):\n",
    "        self.queue.append(item)\n",
    "\n",
    "    # Remove an element\n",
    "    def dequeue(self):\n",
    "        if len(self.queue) < 1:\n",
    "            return None\n",
    "        return self.queue.pop(0)\n",
    "\n",
    "    # Display  the queue\n",
    "    def display(self):\n",
    "        print(self.queue)\n",
    "    \n",
    "    # Returns the size of the queue\n",
    "    def size(self):\n",
    "        return len(self.queue)\n",
    "    \n",
    "    # Returns the front of the queue\n",
    "    def peek(self):\n",
    "        if self.queue:\n",
    "            return self.queue[0]\n",
    " \n",
    "-->"
   ]
  },
  {
   "cell_type": "code",
   "execution_count": null,
   "metadata": {},
   "outputs": [],
   "source": [
    "# lets check if your Queue class works - you should get the following output on executing this cell for the first time: \n",
    "\n",
    "\"\"\" \n",
    "[1, 2, 3, 4, 5]\n",
    "After removing an element: \n",
    "[2, 3, 4, 5]\n",
    "Size of the Queue: 4\n",
    "Front of the Queue: 2\n",
    "\"\"\"  \n",
    "\n",
    "q = Queue()\n",
    "q.enqueue(1)\n",
    "q.enqueue(2)\n",
    "q.enqueue(3)\n",
    "q.enqueue(4)\n",
    "q.enqueue(5)\n",
    "\n",
    "q.display()\n",
    "\n",
    "q.dequeue()\n",
    "\n",
    "print(\"After removing an element: \")\n",
    "\n",
    "q.display()\n",
    "\n",
    "print(f\"Size of the Queue: {q.size()}\")\n",
    "\n",
    "print(f\"Front of the Queue: {q.peek()}\")\n"
   ]
  }
 ],
 "metadata": {
  "kernelspec": {
   "display_name": "Python 3",
   "language": "python",
   "name": "python3"
  },
  "language_info": {
   "codemirror_mode": {
    "name": "ipython",
    "version": 3
   },
   "file_extension": ".py",
   "mimetype": "text/x-python",
   "name": "python",
   "nbconvert_exporter": "python",
   "pygments_lexer": "ipython3",
   "version": "3.7.6"
  }
 },
 "nbformat": 4,
 "nbformat_minor": 4
}
